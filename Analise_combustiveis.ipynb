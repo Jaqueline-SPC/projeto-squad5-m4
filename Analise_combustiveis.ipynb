{
  "cells": [
    {
      "cell_type": "markdown",
      "metadata": {
        "id": "LLXws2llRx38"
      },
      "source": [
        "#### IMPORTAÇÃO DAS BIBLIOTECAS QUE VAMOS USAR"
      ]
    },
    {
      "cell_type": "code",
      "execution_count": 1,
      "metadata": {
        "id": "aGx3cRDeQMvO"
      },
      "outputs": [],
      "source": [
        "import pandas as pd\n",
        "\n",
        "import numpy as np\n",
        "import matplotlib\n",
        "import matplotlib.pyplot as plt\n",
        "import seaborn as sns\n",
        "from datetime import datetime\n"
      ]
    },
    {
      "cell_type": "markdown",
      "metadata": {
        "id": "0ZHZkSUyR4t3"
      },
      "source": [
        "#### IMPORTAÇÃO DOS DADOS"
      ]
    },
    {
      "cell_type": "code",
      "execution_count": 2,
      "metadata": {
        "colab": {
          "base_uri": "https://localhost:8080/"
        },
        "id": "6fg6Bt4-QQiF",
        "outputId": "06df07b3-c18d-4b3f-a4e1-12dcebce89b1"
      },
      "outputs": [],
      "source": [
        "combustiveis_maio = pd.read_csv(\"https://www.gov.br/anp/pt-br/centrais-de-conteudo/dados-abertos/arquivos/shpc/dsan/2023/precos-gasolina-etanol-05.csv\", sep=(\";\"))\n",
        "combustiveis_junho = pd.read_csv(\"https://www.gov.br/anp/pt-br/centrais-de-conteudo/dados-abertos/arquivos/shpc/dsan/2023/precos-gasolina-etanol-06.csv\", sep=(\";\"))\n",
        "#data3 = pd.read_csv(\"drive/MyDrive/ultimas-4-semanas-gasolina-etanol.csv\", sep=(\";\"), error_bad_lines=False)\n",
        "tabelas = pd.concat([combustiveis_maio, combustiveis_junho,], ignore_index=True)\n"
      ]
    },
    {
      "cell_type": "code",
      "execution_count": 3,
      "metadata": {
        "colab": {
          "base_uri": "https://localhost:8080/"
        },
        "id": "DgEH5FsfRsrV",
        "outputId": "c02512a5-498d-442e-845f-64b47fc74e82"
      },
      "outputs": [
        {
          "data": {
            "text/plain": [
              "(107531, 16)"
            ]
          },
          "execution_count": 3,
          "metadata": {},
          "output_type": "execute_result"
        }
      ],
      "source": [
        "tabelas.shape"
      ]
    },
    {
      "cell_type": "markdown",
      "metadata": {},
      "source": [
        "#### <font color ='red' size=6>3. LIMPEZA DE DADOS</font>"
      ]
    },
    {
      "cell_type": "markdown",
      "metadata": {},
      "source": [
        "<font color ='white' size=5>3.1. Vamos verificar a porcentagem de dados ausentes em cada coluna.</font>"
      ]
    },
    {
      "cell_type": "code",
      "execution_count": 4,
      "metadata": {
        "colab": {
          "base_uri": "https://localhost:8080/"
        },
        "id": "pAl5YZawSaxK",
        "outputId": "283daf1c-e31e-4ba6-a39b-0f23c2e4dea7"
      },
      "outputs": [
        {
          "data": {
            "text/plain": [
              "Valor de Compra      100.0000\n",
              "Complemento           77.8222\n",
              "Bairro                 0.2102\n",
              "Numero Rua             0.0418\n",
              "Regiao - Sigla         0.0000\n",
              "Estado - Sigla         0.0000\n",
              "Municipio              0.0000\n",
              "Revenda                0.0000\n",
              "CNPJ da Revenda        0.0000\n",
              "Nome da Rua            0.0000\n",
              "Cep                    0.0000\n",
              "Produto                0.0000\n",
              "Data da Coleta         0.0000\n",
              "Valor de Venda         0.0000\n",
              "Unidade de Medida      0.0000\n",
              "Bandeira               0.0000\n",
              "dtype: float64"
            ]
          },
          "execution_count": 4,
          "metadata": {},
          "output_type": "execute_result"
        }
      ],
      "source": [
        "\n",
        "(((tabelas.isnull().sum() / tabelas.shape[0]) * 100).sort_values(ascending=False)).round(4)"
      ]
    },
    {
      "cell_type": "markdown",
      "metadata": {},
      "source": [
        "Podemos verificara que as colunas \"Valor de Compra \" e \"Complmento\" altas porcentagens de registros nulos"
      ]
    },
    {
      "cell_type": "markdown",
      "metadata": {},
      "source": [
        "<font color ='white' size=5>3.2. Tratamento dos dados</font>"
      ]
    },
    {
      "cell_type": "markdown",
      "metadata": {
        "id": "rxU1bY1xUSnX"
      },
      "source": [
        "- Resetando o Index no DataFrame concatenado:"
      ]
    },
    {
      "cell_type": "code",
      "execution_count": 6,
      "metadata": {
        "id": "Zr1MprtkUdNs"
      },
      "outputs": [],
      "source": [
        "tabelas.reset_index(0,drop=True,inplace = True)"
      ]
    },
    {
      "cell_type": "markdown",
      "metadata": {
        "id": "BZfJQ1wGTN79"
      },
      "source": [
        "- Retirar a coluna valor de compra, pois tem 100% dos valores nulos,preencher a coluna complemento com 0 e mudar o tipo da coluna valor de venda de object para float64"
      ]
    },
    {
      "cell_type": "code",
      "execution_count": 7,
      "metadata": {
        "id": "ta6HDYLVUz1b"
      },
      "outputs": [],
      "source": [
        "tabelas.drop('Valor de Compra',axis=1,inplace=True)"
      ]
    },
    {
      "cell_type": "markdown",
      "metadata": {
        "id": "ttLdaqfPU8bX"
      },
      "source": [
        "- Transformando valores da Coluna 'Valor de Venda' para float64"
      ]
    },
    {
      "cell_type": "code",
      "execution_count": 8,
      "metadata": {
        "id": "Ow9L8QG8VHVq"
      },
      "outputs": [],
      "source": [
        "tabelas['Valor de Venda'] = tabelas['Valor de Venda'].str.replace(',', '.').astype(float)"
      ]
    },
    {
      "cell_type": "markdown",
      "metadata": {
        "id": "ZuyXWkfIVtwZ"
      },
      "source": [
        "- Removendo a coluna \"Complemento\""
      ]
    },
    {
      "cell_type": "code",
      "execution_count": 9,
      "metadata": {
        "id": "QwXYkUgsV5Ov"
      },
      "outputs": [],
      "source": [
        "tabelas.drop('Complemento', axis=1, inplace=True)"
      ]
    },
    {
      "cell_type": "markdown",
      "metadata": {
        "id": "rxOrlx6CWRFl"
      },
      "source": [
        "##### Após fazermos a limpeza dos dados vamos conferir como está  nosso dataframe"
      ]
    },
    {
      "cell_type": "code",
      "execution_count": 18,
      "metadata": {
        "colab": {
          "base_uri": "https://localhost:8080/"
        },
        "id": "eDKbvv-3S_D1",
        "outputId": "2c6d3ca3-ee3d-401e-f52a-2c26e6e1ef9b"
      },
      "outputs": [
        {
          "name": "stdout",
          "output_type": "stream",
          "text": [
            "<class 'pandas.core.frame.DataFrame'>\n",
            "RangeIndex: 107531 entries, 0 to 107530\n",
            "Data columns (total 14 columns):\n",
            " #   Column             Non-Null Count   Dtype         \n",
            "---  ------             --------------   -----         \n",
            " 0   Regiao - Sigla     107531 non-null  object        \n",
            " 1   Estado - Sigla     107531 non-null  object        \n",
            " 2   Municipio          107531 non-null  object        \n",
            " 3   Revenda            107531 non-null  object        \n",
            " 4   CNPJ da Revenda    107531 non-null  object        \n",
            " 5   Nome da Rua        107531 non-null  object        \n",
            " 6   Numero Rua         107486 non-null  object        \n",
            " 7   Bairro             107305 non-null  object        \n",
            " 8   Cep                107531 non-null  object        \n",
            " 9   Produto            107531 non-null  object        \n",
            " 10  Data da Coleta     107531 non-null  datetime64[ns]\n",
            " 11  Valor de Venda     107531 non-null  float64       \n",
            " 12  Unidade de Medida  107531 non-null  object        \n",
            " 13  Bandeira           107531 non-null  object        \n",
            "dtypes: datetime64[ns](1), float64(1), object(12)\n",
            "memory usage: 11.5+ MB\n"
          ]
        }
      ],
      "source": [
        "tabelas.info()"
      ]
    },
    {
      "cell_type": "markdown",
      "metadata": {
        "id": "FnkBtrPFWnUA"
      },
      "source": [
        "# <font color ='red' size=6>4 Checando outliers.</font>"
      ]
    },
    {
      "cell_type": "markdown",
      "metadata": {
        "id": "N3DWtq3WW2DT"
      },
      "source": [
        "  #### 4.1 Resumo estatístico dos valores com o método describe"
      ]
    },
    {
      "cell_type": "code",
      "execution_count": 19,
      "metadata": {
        "colab": {
          "base_uri": "https://localhost:8080/"
        },
        "id": "L6WUAs_5TAgJ",
        "outputId": "154696f9-23e6-4426-c15c-83876862d7fa"
      },
      "outputs": [
        {
          "data": {
            "text/plain": [
              "count    107531.000\n",
              "mean          5.030\n",
              "std           0.764\n",
              "min           2.970\n",
              "25%           4.490\n",
              "50%           5.240\n",
              "75%           5.590\n",
              "max           7.990\n",
              "Name: Valor de Venda, dtype: float64"
            ]
          },
          "execution_count": 19,
          "metadata": {},
          "output_type": "execute_result"
        }
      ],
      "source": [
        "tabelas['Valor de Venda'].describe().round(3)"
      ]
    },
    {
      "cell_type": "markdown",
      "metadata": {},
      "source": [
        "#### 4.2 Separando o dataframe principal em dataframes por mês"
      ]
    },
    {
      "cell_type": "code",
      "execution_count": 20,
      "metadata": {},
      "outputs": [],
      "source": [
        "tabelas['Data da Coleta'] = pd.to_datetime(tabelas['Data da Coleta'], format='%d/%m/%Y')\n",
        "\n",
        "\n",
        "# Filtrar as datas para o mês de maio\n",
        "maio = tabelas[tabelas['Data da Coleta'].dt.month == 5]\n",
        "# Filtrar as datas para o mês de junho\n",
        "junho = tabelas[tabelas['Data da Coleta'].dt.month == 6]\n"
      ]
    },
    {
      "cell_type": "markdown",
      "metadata": {
        "id": "cDyE5WQ9Yw00"
      },
      "source": [
        "#### 4.3 Criando um dataframe só com os registros de \"Etanol\""
      ]
    },
    {
      "cell_type": "code",
      "execution_count": 21,
      "metadata": {
        "colab": {
          "base_uri": "https://localhost:8080/",
          "height": 423
        },
        "id": "toGQOtwYY4jc",
        "outputId": "26b80063-9d45-4bf5-ee70-eab939468f0a"
      },
      "outputs": [
        {
          "data": {
            "text/html": [
              "<div>\n",
              "<style scoped>\n",
              "    .dataframe tbody tr th:only-of-type {\n",
              "        vertical-align: middle;\n",
              "    }\n",
              "\n",
              "    .dataframe tbody tr th {\n",
              "        vertical-align: top;\n",
              "    }\n",
              "\n",
              "    .dataframe thead th {\n",
              "        text-align: right;\n",
              "    }\n",
              "</style>\n",
              "<table border=\"1\" class=\"dataframe\">\n",
              "  <thead>\n",
              "    <tr style=\"text-align: right;\">\n",
              "      <th></th>\n",
              "      <th>Regiao - Sigla</th>\n",
              "      <th>Estado - Sigla</th>\n",
              "      <th>Municipio</th>\n",
              "      <th>Revenda</th>\n",
              "      <th>CNPJ da Revenda</th>\n",
              "      <th>Nome da Rua</th>\n",
              "      <th>Numero Rua</th>\n",
              "      <th>Bairro</th>\n",
              "      <th>Cep</th>\n",
              "      <th>Produto</th>\n",
              "      <th>Data da Coleta</th>\n",
              "      <th>Valor de Venda</th>\n",
              "      <th>Unidade de Medida</th>\n",
              "      <th>Bandeira</th>\n",
              "    </tr>\n",
              "  </thead>\n",
              "  <tbody>\n",
              "    <tr>\n",
              "      <th>10285</th>\n",
              "      <td>NE</td>\n",
              "      <td>BA</td>\n",
              "      <td>EUNAPOLIS</td>\n",
              "      <td>GEO MERCANTIL DE DERIVADOS DE PETROLEO LTDA</td>\n",
              "      <td>02.114.331/0001-88</td>\n",
              "      <td>RODOVIA BR 101</td>\n",
              "      <td>S/N</td>\n",
              "      <td>URBIS I</td>\n",
              "      <td>45829-110</td>\n",
              "      <td>ETANOL</td>\n",
              "      <td>2023-05-04</td>\n",
              "      <td>5.59</td>\n",
              "      <td>R$ / litro</td>\n",
              "      <td>IPIRANGA</td>\n",
              "    </tr>\n",
              "    <tr>\n",
              "      <th>94018</th>\n",
              "      <td>N</td>\n",
              "      <td>PA</td>\n",
              "      <td>PARAUAPEBAS</td>\n",
              "      <td>POSTO PARAUAPEBAS LTDA</td>\n",
              "      <td>05.098.033/0001-30</td>\n",
              "      <td>RUA E</td>\n",
              "      <td>SN</td>\n",
              "      <td>CENTRO</td>\n",
              "      <td>68515-000</td>\n",
              "      <td>ETANOL</td>\n",
              "      <td>2023-06-22</td>\n",
              "      <td>5.59</td>\n",
              "      <td>R$ / litro</td>\n",
              "      <td>VIBRA ENERGIA</td>\n",
              "    </tr>\n",
              "    <tr>\n",
              "      <th>11702</th>\n",
              "      <td>N</td>\n",
              "      <td>PA</td>\n",
              "      <td>PARAUAPEBAS</td>\n",
              "      <td>POSTO PARAUAPEBAS LTDA</td>\n",
              "      <td>05.098.033/0001-30</td>\n",
              "      <td>RUA E</td>\n",
              "      <td>SN</td>\n",
              "      <td>CENTRO</td>\n",
              "      <td>68515-000</td>\n",
              "      <td>ETANOL</td>\n",
              "      <td>2023-05-05</td>\n",
              "      <td>5.59</td>\n",
              "      <td>R$ / litro</td>\n",
              "      <td>VIBRA ENERGIA</td>\n",
              "    </tr>\n",
              "    <tr>\n",
              "      <th>11693</th>\n",
              "      <td>N</td>\n",
              "      <td>PA</td>\n",
              "      <td>PARAUAPEBAS</td>\n",
              "      <td>POSTO DA PAZ COMERCIO VAREJISTA DE COMBUSTIVEI...</td>\n",
              "      <td>06.966.087/0001-32</td>\n",
              "      <td>RUA SOL POENTE</td>\n",
              "      <td>87</td>\n",
              "      <td>DA PAZ</td>\n",
              "      <td>68515-000</td>\n",
              "      <td>ETANOL</td>\n",
              "      <td>2023-05-05</td>\n",
              "      <td>5.59</td>\n",
              "      <td>R$ / litro</td>\n",
              "      <td>VIBRA ENERGIA</td>\n",
              "    </tr>\n",
              "    <tr>\n",
              "      <th>8195</th>\n",
              "      <td>CO</td>\n",
              "      <td>GO</td>\n",
              "      <td>GOIATUBA</td>\n",
              "      <td>AUTO POSTO SCAPIM LTDA. - ME</td>\n",
              "      <td>10.482.745/0001-98</td>\n",
              "      <td>RUA MINAS GERAIS</td>\n",
              "      <td>549</td>\n",
              "      <td>CENTRO</td>\n",
              "      <td>75600-000</td>\n",
              "      <td>ETANOL</td>\n",
              "      <td>2023-05-03</td>\n",
              "      <td>5.60</td>\n",
              "      <td>R$ / litro</td>\n",
              "      <td>BRANCA</td>\n",
              "    </tr>\n",
              "    <tr>\n",
              "      <th>...</th>\n",
              "      <td>...</td>\n",
              "      <td>...</td>\n",
              "      <td>...</td>\n",
              "      <td>...</td>\n",
              "      <td>...</td>\n",
              "      <td>...</td>\n",
              "      <td>...</td>\n",
              "      <td>...</td>\n",
              "      <td>...</td>\n",
              "      <td>...</td>\n",
              "      <td>...</td>\n",
              "      <td>...</td>\n",
              "      <td>...</td>\n",
              "      <td>...</td>\n",
              "    </tr>\n",
              "    <tr>\n",
              "      <th>6776</th>\n",
              "      <td>S</td>\n",
              "      <td>RS</td>\n",
              "      <td>BAGE</td>\n",
              "      <td>L. CASTRO COMERCIO DE COMBUSTIVEIS LTDA</td>\n",
              "      <td>05.799.373/0002-79</td>\n",
              "      <td>RUA EMÍLIO GUILAIN</td>\n",
              "      <td>673</td>\n",
              "      <td>CENTRO</td>\n",
              "      <td>96415-100</td>\n",
              "      <td>ETANOL</td>\n",
              "      <td>2023-05-03</td>\n",
              "      <td>6.29</td>\n",
              "      <td>R$ / litro</td>\n",
              "      <td>IPIRANGA</td>\n",
              "    </tr>\n",
              "    <tr>\n",
              "      <th>19622</th>\n",
              "      <td>S</td>\n",
              "      <td>RS</td>\n",
              "      <td>PASSO FUNDO</td>\n",
              "      <td>ALBACORA COMBUSTIVEIS LTDA - ME</td>\n",
              "      <td>04.845.316/0001-35</td>\n",
              "      <td>RUA INDEPENDENCIA</td>\n",
              "      <td>20</td>\n",
              "      <td>CENTRO</td>\n",
              "      <td>99010-041</td>\n",
              "      <td>ETANOL</td>\n",
              "      <td>2023-05-10</td>\n",
              "      <td>6.49</td>\n",
              "      <td>R$ / litro</td>\n",
              "      <td>RODOIL</td>\n",
              "    </tr>\n",
              "    <tr>\n",
              "      <th>2118</th>\n",
              "      <td>NE</td>\n",
              "      <td>AL</td>\n",
              "      <td>DELMIRO GOUVEIA</td>\n",
              "      <td>POSTO ALINE LTDA</td>\n",
              "      <td>17.348.259/0002-01</td>\n",
              "      <td>AVENIDA ANTONIO JOSE DA COSTA</td>\n",
              "      <td>59</td>\n",
              "      <td>CENTRO</td>\n",
              "      <td>57480-000</td>\n",
              "      <td>ETANOL</td>\n",
              "      <td>2023-05-01</td>\n",
              "      <td>6.50</td>\n",
              "      <td>R$ / litro</td>\n",
              "      <td>RAIZEN</td>\n",
              "    </tr>\n",
              "    <tr>\n",
              "      <th>18247</th>\n",
              "      <td>NE</td>\n",
              "      <td>AL</td>\n",
              "      <td>DELMIRO GOUVEIA</td>\n",
              "      <td>POSTO ALINE LTDA</td>\n",
              "      <td>17.348.259/0002-01</td>\n",
              "      <td>AVENIDA ANTONIO JOSE DA COSTA</td>\n",
              "      <td>59</td>\n",
              "      <td>CENTRO</td>\n",
              "      <td>57480-000</td>\n",
              "      <td>ETANOL</td>\n",
              "      <td>2023-05-09</td>\n",
              "      <td>6.50</td>\n",
              "      <td>R$ / litro</td>\n",
              "      <td>RAIZEN</td>\n",
              "    </tr>\n",
              "    <tr>\n",
              "      <th>91431</th>\n",
              "      <td>S</td>\n",
              "      <td>RS</td>\n",
              "      <td>BAGE</td>\n",
              "      <td>COMERCIAL INTERNACIONAL LTDA</td>\n",
              "      <td>93.810.919/0001-21</td>\n",
              "      <td>RUA GAL.OSORIO</td>\n",
              "      <td>98</td>\n",
              "      <td>CENTRO</td>\n",
              "      <td>96405-050</td>\n",
              "      <td>ETANOL</td>\n",
              "      <td>2023-06-21</td>\n",
              "      <td>6.73</td>\n",
              "      <td>R$ / litro</td>\n",
              "      <td>IPIRANGA</td>\n",
              "    </tr>\n",
              "  </tbody>\n",
              "</table>\n",
              "<p>132 rows × 14 columns</p>\n",
              "</div>"
            ],
            "text/plain": [
              "      Regiao - Sigla Estado - Sigla        Municipio  \\\n",
              "10285             NE             BA        EUNAPOLIS   \n",
              "94018              N             PA      PARAUAPEBAS   \n",
              "11702              N             PA      PARAUAPEBAS   \n",
              "11693              N             PA      PARAUAPEBAS   \n",
              "8195              CO             GO         GOIATUBA   \n",
              "...              ...            ...              ...   \n",
              "6776               S             RS             BAGE   \n",
              "19622              S             RS      PASSO FUNDO   \n",
              "2118              NE             AL  DELMIRO GOUVEIA   \n",
              "18247             NE             AL  DELMIRO GOUVEIA   \n",
              "91431              S             RS             BAGE   \n",
              "\n",
              "                                                 Revenda      CNPJ da Revenda  \\\n",
              "10285        GEO MERCANTIL DE DERIVADOS DE PETROLEO LTDA   02.114.331/0001-88   \n",
              "94018                             POSTO PARAUAPEBAS LTDA   05.098.033/0001-30   \n",
              "11702                             POSTO PARAUAPEBAS LTDA   05.098.033/0001-30   \n",
              "11693  POSTO DA PAZ COMERCIO VAREJISTA DE COMBUSTIVEI...   06.966.087/0001-32   \n",
              "8195                        AUTO POSTO SCAPIM LTDA. - ME   10.482.745/0001-98   \n",
              "...                                                  ...                  ...   \n",
              "6776             L. CASTRO COMERCIO DE COMBUSTIVEIS LTDA   05.799.373/0002-79   \n",
              "19622                    ALBACORA COMBUSTIVEIS LTDA - ME   04.845.316/0001-35   \n",
              "2118                                    POSTO ALINE LTDA   17.348.259/0002-01   \n",
              "18247                                   POSTO ALINE LTDA   17.348.259/0002-01   \n",
              "91431                       COMERCIAL INTERNACIONAL LTDA   93.810.919/0001-21   \n",
              "\n",
              "                         Nome da Rua Numero Rua   Bairro        Cep Produto  \\\n",
              "10285                 RODOVIA BR 101        S/N  URBIS I  45829-110  ETANOL   \n",
              "94018                          RUA E         SN   CENTRO  68515-000  ETANOL   \n",
              "11702                          RUA E         SN   CENTRO  68515-000  ETANOL   \n",
              "11693                 RUA SOL POENTE         87   DA PAZ  68515-000  ETANOL   \n",
              "8195                RUA MINAS GERAIS        549   CENTRO  75600-000  ETANOL   \n",
              "...                              ...        ...      ...        ...     ...   \n",
              "6776              RUA EMÍLIO GUILAIN        673   CENTRO  96415-100  ETANOL   \n",
              "19622              RUA INDEPENDENCIA         20   CENTRO  99010-041  ETANOL   \n",
              "2118   AVENIDA ANTONIO JOSE DA COSTA         59   CENTRO  57480-000  ETANOL   \n",
              "18247  AVENIDA ANTONIO JOSE DA COSTA         59   CENTRO  57480-000  ETANOL   \n",
              "91431                 RUA GAL.OSORIO         98   CENTRO  96405-050  ETANOL   \n",
              "\n",
              "      Data da Coleta  Valor de Venda Unidade de Medida       Bandeira  \n",
              "10285     2023-05-04            5.59        R$ / litro       IPIRANGA  \n",
              "94018     2023-06-22            5.59        R$ / litro  VIBRA ENERGIA  \n",
              "11702     2023-05-05            5.59        R$ / litro  VIBRA ENERGIA  \n",
              "11693     2023-05-05            5.59        R$ / litro  VIBRA ENERGIA  \n",
              "8195      2023-05-03            5.60        R$ / litro         BRANCA  \n",
              "...              ...             ...               ...            ...  \n",
              "6776      2023-05-03            6.29        R$ / litro       IPIRANGA  \n",
              "19622     2023-05-10            6.49        R$ / litro         RODOIL  \n",
              "2118      2023-05-01            6.50        R$ / litro         RAIZEN  \n",
              "18247     2023-05-09            6.50        R$ / litro         RAIZEN  \n",
              "91431     2023-06-21            6.73        R$ / litro       IPIRANGA  \n",
              "\n",
              "[132 rows x 14 columns]"
            ]
          },
          "execution_count": 21,
          "metadata": {},
          "output_type": "execute_result"
        }
      ],
      "source": [
        "tabelas['Data da Coleta'] = pd.to_datetime(tabelas['Data da Coleta'], dayfirst=True)\n",
        "\n",
        "# Filter rows for 'ETANOL' and the month of June\n",
        "etanol = tabelas[(tabelas['Produto'] == 'ETANOL') ]\n",
        "\n",
        "\n",
        "etanol.sort_values(by='Valor de Venda').tail(132)"
      ]
    },
    {
      "cell_type": "code",
      "execution_count": 14,
      "metadata": {
        "colab": {
          "base_uri": "https://localhost:8080/",
          "height": 300
        },
        "id": "8mV4ZitPrdyG",
        "outputId": "61bec240-63f2-4983-bcb1-3aba529b18c9"
      },
      "outputs": [
        {
          "data": {
            "text/plain": [
              "count    34935.00\n",
              "mean         4.10\n",
              "std          0.47\n",
              "min          2.97\n",
              "25%          3.74\n",
              "50%          3.99\n",
              "75%          4.45\n",
              "max          6.73\n",
              "Name: Valor de Venda, dtype: float64"
            ]
          },
          "execution_count": 14,
          "metadata": {},
          "output_type": "execute_result"
        }
      ],
      "source": [
        "etanol['Valor de Venda'].describe().round(3)"
      ]
    },
    {
      "cell_type": "code",
      "execution_count": 15,
      "metadata": {},
      "outputs": [
        {
          "data": {
            "text/plain": [
              "5.29"
            ]
          },
          "execution_count": 15,
          "metadata": {},
          "output_type": "execute_result"
        }
      ],
      "source": [
        "etanol['Valor de Venda'].quantile(.99)"
      ]
    },
    {
      "cell_type": "markdown",
      "metadata": {
        "id": "phizhAotqm07"
      },
      "source": [
        "\n",
        "#### 4.4 Calculo do limites de outlier"
      ]
    },
    {
      "cell_type": "markdown",
      "metadata": {
        "id": "tckP90pXohki"
      },
      "source": [
        "##### 4.4.1 Definindo um range para os outliers utilizando a Regra 1.5 IQR (Interquartile Range): Valores que estão abaixo de Q1 - 1.5 * IQR ou acima de Q3 + 1.5 * IQR, onde Q1 é o primeiro quartil e Q3 é o terceiro quartil.\n"
      ]
    },
    {
      "cell_type": "code",
      "execution_count": 16,
      "metadata": {
        "colab": {
          "base_uri": "https://localhost:8080/"
        },
        "id": "zd8wL_tDqAN0",
        "outputId": "e30f6507-dea4-43d9-d878-6d191c2f68b0"
      },
      "outputs": [
        {
          "data": {
            "text/plain": [
              "(3.74, 4.45)"
            ]
          },
          "execution_count": 16,
          "metadata": {},
          "output_type": "execute_result"
        }
      ],
      "source": [
        "# Definindo os quartis para o etanol\n",
        "primeiro_quartil = etanol['Valor de Venda'].describe().loc['25%']\n",
        "terceiro_quartil = etanol['Valor de Venda'].describe().loc['75%']\n",
        "primeiro_quartil,terceiro_quartil\n"
      ]
    },
    {
      "cell_type": "markdown",
      "metadata": {},
      "source": [
        "##### 4.4.2 Definimos os limites inferiores e superioes de outliers"
      ]
    },
    {
      "cell_type": "code",
      "execution_count": 22,
      "metadata": {
        "colab": {
          "base_uri": "https://localhost:8080/"
        },
        "id": "Xfh0VoNhqwGC",
        "outputId": "10f53bb5-9231-4f49-cc3b-bdb554d8e228"
      },
      "outputs": [
        {
          "data": {
            "text/plain": [
              "(0.71, 2.675, 5.515)"
            ]
          },
          "execution_count": 22,
          "metadata": {},
          "output_type": "execute_result"
        }
      ],
      "source": [
        "#Calculando o IQR e os limites para detecção de outliers\n",
        "IQR = terceiro_quartil - primeiro_quartil\n",
        "limite_outlier_inferior = (primeiro_quartil - (1.5 * IQR)).round(3)\n",
        "limite_outlier_superior = (terceiro_quartil + (1.5 * IQR)).round(3)\n",
        "IQR.round(3),limite_outlier_inferior,limite_outlier_superior"
      ]
    },
    {
      "cell_type": "markdown",
      "metadata": {
        "id": "IabrwlTqsi4H"
      },
      "source": [
        "- Verificação da existencia de outlier acima dos limites definidos"
      ]
    },
    {
      "cell_type": "code",
      "execution_count": 23,
      "metadata": {
        "colab": {
          "base_uri": "https://localhost:8080/"
        },
        "id": "cuCibTX0ssME",
        "outputId": "c310f9c3-78ec-4764-d923-4d83954f67bd"
      },
      "outputs": [
        {
          "data": {
            "text/plain": [
              "0"
            ]
          },
          "execution_count": 23,
          "metadata": {},
          "output_type": "execute_result"
        }
      ],
      "source": [
        "outliers_abaixo = etanol['Valor de Venda'] < limite_outlier_inferior\n",
        "quantidade_outliers_abaixo = outliers_abaixo.sum()\n",
        "quantidade_outliers_abaixo"
      ]
    },
    {
      "cell_type": "code",
      "execution_count": 24,
      "metadata": {
        "colab": {
          "base_uri": "https://localhost:8080/"
        },
        "id": "H2Z_bFlVsiSC",
        "outputId": "db7f2426-a9b6-4f01-947d-717c0c590352"
      },
      "outputs": [
        {
          "data": {
            "text/plain": [
              "146"
            ]
          },
          "execution_count": 24,
          "metadata": {},
          "output_type": "execute_result"
        }
      ],
      "source": [
        "outliers_acima = etanol['Valor de Venda']>limite_outlier_superior\n",
        "quantidade_outliers_acima=outliers_acima.sum()\n",
        "quantidade_outliers_acima"
      ]
    },
    {
      "cell_type": "markdown",
      "metadata": {},
      "source": [
        "##### <font color ='gold' >4.3 Após os calculos de outliers indetificamos que não temos outliers abaixo do limite inferior, mas temos 146 outliers acima do limite superior,Vamos usar um boxplot para visualizar os outliers.</font>"
      ]
    },
    {
      "cell_type": "code",
      "execution_count": 25,
      "metadata": {
        "colab": {
          "base_uri": "https://localhost:8080/",
          "height": 256
        },
        "id": "BlW5t-nzndKT",
        "outputId": "206b6bed-8a0f-4914-e518-7d0747ed7280"
      },
      "outputs": [
        {
          "data": {
            "image/png": "[encoded data removed]",
            "text/plain": [
              "<Figure size 1200x1200 with 1 Axes>"
            ]
          },
          "metadata": {},
          "output_type": "display_data"
        }
      ],
      "source": [
        "plt.figure(figsize=(12,12))  # Tamanho da figura\n",
        "\n",
        "# Criação do boxplot\n",
        "plt.boxplot(etanol['Valor de Venda'], vert=True)  # vert=False para um boxplot horizontal\n",
        "plt.title('Boxplot do Valor de Venda do Etanol')\n",
        "plt.xlabel('Valor de Venda')\n",
        "plt.show()"
      ]
    },
    {
      "cell_type": "code",
      "execution_count": 48,
      "metadata": {
        "colab": {
          "base_uri": "https://localhost:8080/"
        },
        "id": "RaBrsGRjZRYM",
        "outputId": "ba2d70a8-1d6f-48e7-f752-7c18e82c03d1"
      },
      "outputs": [
        {
          "data": {
            "text/plain": [
              "5.29"
            ]
          },
          "execution_count": 48,
          "metadata": {},
          "output_type": "execute_result"
        }
      ],
      "source": [
        "etanol['Valor de Venda'].quantile(.99)"
      ]
    },
    {
      "cell_type": "code",
      "execution_count": 26,
      "metadata": {
        "colab": {
          "base_uri": "https://localhost:8080/"
        },
        "id": "a09tGk7OaEaG",
        "outputId": "41eacc9f-7a9d-41ca-a4aa-2fcb0e4be350"
      },
      "outputs": [
        {
          "data": {
            "text/plain": [
              "8656"
            ]
          },
          "execution_count": 26,
          "metadata": {},
          "output_type": "execute_result"
        }
      ],
      "source": [
        "data = etanol[etanol['Valor de Venda'] > terceiro_quartil].shape[0]\n",
        "data\n"
      ]
    },
    {
      "cell_type": "markdown",
      "metadata": {
        "id": "4RX8jJ0JmphC"
      },
      "source": [
        "- Consultando quantos % os outliers representam na quantidade total de"
      ]
    },
    {
      "cell_type": "code",
      "execution_count": 38,
      "metadata": {},
      "outputs": [
        {
          "data": {
            "text/plain": [
              "8656"
            ]
          },
          "execution_count": 38,
          "metadata": {},
          "output_type": "execute_result"
        }
      ],
      "source": [
        "data"
      ]
    },
    {
      "cell_type": "code",
      "execution_count": 34,
      "metadata": {
        "colab": {
          "base_uri": "https://localhost:8080/"
        },
        "id": "4DrqjiD_mJCN",
        "outputId": "124ea84a-d214-4d98-f1ed-ba3a065fa486"
      },
      "outputs": [
        {
          "name": "stdout",
          "output_type": "stream",
          "text": [
            "A porcentagem é: 24.78%\n"
          ]
        }
      ],
      "source": [
        "total_rows = etanol.shape[0]\n",
        "percentage = (data / total_rows) * 100\n",
        "\n",
        "print(f\"A porcentagem é: {percentage:.2f}%\")\n"
      ]
    },
    {
      "cell_type": "code",
      "execution_count": 20,
      "metadata": {
        "colab": {
          "base_uri": "https://localhost:8080/",
          "height": 476
        },
        "id": "B8uDuPcZZ12o",
        "outputId": "cba2c7a5-f647-4513-e563-e6532ac176b6"
      },
      "outputs": [
        {
          "data": {
            "image/png": "[encoded data removed]",
            "text/plain": [
              "<Figure size 640x480 with 1 Axes>"
            ]
          },
          "metadata": {},
          "output_type": "display_data"
        }
      ],
      "source": [
        "sns.histplot(data=tabelas['Valor de Venda'], kde=True, binwidth=0.2)\n",
        "\n",
        "plt.title('Histograma da Coluna \"Valor de Venda\"', fontsize=12, fontweight='bold')\n",
        "plt.ylabel('Num. Registros', fontsize=12, fontweight='bold')\n",
        "plt.xlabel('Valor de Venda (R$)', fontsize=12, fontweight='bold')\n",
        "plt.show()"
      ]
    },
    {
      "cell_type": "markdown",
      "metadata": {
        "id": "3zv3h9dpNxFB"
      },
      "source": [
        "Etanol no mês de junho"
      ]
    },
    {
      "cell_type": "code",
      "execution_count": null,
      "metadata": {
        "colab": {
          "base_uri": "https://localhost:8080/",
          "height": 659
        },
        "id": "M9_arCrEKRJm",
        "outputId": "bdd662e9-9e11-4052-b116-39697f98527d"
      },
      "outputs": [
        {
          "data": {
            "text/html": [
              "\n",
              "\n",
              "  <div id=\"df-cbe2df79-7ffc-4347-9383-84d8709e8091\">\n",
              "    <div class=\"colab-df-container\">\n",
              "      <div>\n",
              "<style scoped>\n",
              "    .dataframe tbody tr th:only-of-type {\n",
              "        vertical-align: middle;\n",
              "    }\n",
              "\n",
              "    .dataframe tbody tr th {\n",
              "        vertical-align: top;\n",
              "    }\n",
              "\n",
              "    .dataframe thead th {\n",
              "        text-align: right;\n",
              "    }\n",
              "</style>\n",
              "<table border=\"1\" class=\"dataframe\">\n",
              "  <thead>\n",
              "    <tr style=\"text-align: right;\">\n",
              "      <th></th>\n",
              "      <th>Regiao - Sigla</th>\n",
              "      <th>Estado - Sigla</th>\n",
              "      <th>Municipio</th>\n",
              "      <th>Revenda</th>\n",
              "      <th>CNPJ da Revenda</th>\n",
              "      <th>Nome da Rua</th>\n",
              "      <th>Numero Rua</th>\n",
              "      <th>Complemento</th>\n",
              "      <th>Bairro</th>\n",
              "      <th>Cep</th>\n",
              "      <th>Produto</th>\n",
              "      <th>Data da Coleta</th>\n",
              "      <th>Valor de Venda</th>\n",
              "      <th>Valor de Compra</th>\n",
              "      <th>Unidade de Medida</th>\n",
              "      <th>Bandeira</th>\n",
              "    </tr>\n",
              "  </thead>\n",
              "  <tbody>\n",
              "    <tr>\n",
              "      <th>0</th>\n",
              "      <td>NE</td>\n",
              "      <td>BA</td>\n",
              "      <td>IRECE</td>\n",
              "      <td>IRECE DERIVADOS DE PETROLEO LTDA</td>\n",
              "      <td>09.186.976/0001-75</td>\n",
              "      <td>PRACA AIRTON SENNA</td>\n",
              "      <td>285</td>\n",
              "      <td>TERREO</td>\n",
              "      <td>CENTRO</td>\n",
              "      <td>44900-000</td>\n",
              "      <td>ETANOL</td>\n",
              "      <td>2023-06-01</td>\n",
              "      <td>4,31</td>\n",
              "      <td>NaN</td>\n",
              "      <td>R$ / litro</td>\n",
              "      <td>VIBRA ENERGIA</td>\n",
              "    </tr>\n",
              "    <tr>\n",
              "      <th>863</th>\n",
              "      <td>SE</td>\n",
              "      <td>SP</td>\n",
              "      <td>MIRASSOL</td>\n",
              "      <td>AUTO POSTO MIRAMAX LTDA</td>\n",
              "      <td>10.943.250/0001-19</td>\n",
              "      <td>RUA OSVALDO CRUZ</td>\n",
              "      <td>21-56</td>\n",
              "      <td>NaN</td>\n",
              "      <td>CENTRO</td>\n",
              "      <td>15130-000</td>\n",
              "      <td>ETANOL</td>\n",
              "      <td>2023-06-01</td>\n",
              "      <td>3,79</td>\n",
              "      <td>NaN</td>\n",
              "      <td>R$ / litro</td>\n",
              "      <td>BRANCA</td>\n",
              "    </tr>\n",
              "    <tr>\n",
              "      <th>861</th>\n",
              "      <td>CO</td>\n",
              "      <td>GO</td>\n",
              "      <td>GOIATUBA</td>\n",
              "      <td>AUTO POSTO SCAPIM LTDA. - ME</td>\n",
              "      <td>10.482.745/0001-98</td>\n",
              "      <td>RUA MINAS GERAIS</td>\n",
              "      <td>549</td>\n",
              "      <td>NaN</td>\n",
              "      <td>CENTRO</td>\n",
              "      <td>75600-000</td>\n",
              "      <td>ETANOL</td>\n",
              "      <td>2023-06-01</td>\n",
              "      <td>3,88</td>\n",
              "      <td>NaN</td>\n",
              "      <td>R$ / litro</td>\n",
              "      <td>BRANCA</td>\n",
              "    </tr>\n",
              "    <tr>\n",
              "      <th>858</th>\n",
              "      <td>SE</td>\n",
              "      <td>SP</td>\n",
              "      <td>ITAPOLIS</td>\n",
              "      <td>COOPERCITRUS COOPERATIVA DE PRODUTORES RURAIS</td>\n",
              "      <td>45.236.791/0088-42</td>\n",
              "      <td>AVENIDA CARLOS ADOLFSON</td>\n",
              "      <td>2070</td>\n",
              "      <td>NaN</td>\n",
              "      <td>CENTRO</td>\n",
              "      <td>14900-000</td>\n",
              "      <td>ETANOL</td>\n",
              "      <td>2023-06-01</td>\n",
              "      <td>3,59</td>\n",
              "      <td>NaN</td>\n",
              "      <td>R$ / litro</td>\n",
              "      <td>IPIRANGA</td>\n",
              "    </tr>\n",
              "    <tr>\n",
              "      <th>855</th>\n",
              "      <td>SE</td>\n",
              "      <td>SP</td>\n",
              "      <td>PINDAMONHANGABA</td>\n",
              "      <td>SETE ESTRELAS COMERCIO DE DERIVADOS DE PETROLE...</td>\n",
              "      <td>00.256.893/0030-75</td>\n",
              "      <td>AVENIDA DOUTOR  FRANCISCO LESSA JUNIOR</td>\n",
              "      <td>1205</td>\n",
              "      <td>NaN</td>\n",
              "      <td>CHACARA GALEGA</td>\n",
              "      <td>12422-010</td>\n",
              "      <td>ETANOL</td>\n",
              "      <td>2023-06-01</td>\n",
              "      <td>3,57</td>\n",
              "      <td>NaN</td>\n",
              "      <td>R$ / litro</td>\n",
              "      <td>BRANCA</td>\n",
              "    </tr>\n",
              "    <tr>\n",
              "      <th>...</th>\n",
              "      <td>...</td>\n",
              "      <td>...</td>\n",
              "      <td>...</td>\n",
              "      <td>...</td>\n",
              "      <td>...</td>\n",
              "      <td>...</td>\n",
              "      <td>...</td>\n",
              "      <td>...</td>\n",
              "      <td>...</td>\n",
              "      <td>...</td>\n",
              "      <td>...</td>\n",
              "      <td>...</td>\n",
              "      <td>...</td>\n",
              "      <td>...</td>\n",
              "      <td>...</td>\n",
              "      <td>...</td>\n",
              "    </tr>\n",
              "    <tr>\n",
              "      <th>48976</th>\n",
              "      <td>CO</td>\n",
              "      <td>GO</td>\n",
              "      <td>GOIANIA</td>\n",
              "      <td>AUTO POSTO CASTELO LTDA</td>\n",
              "      <td>01.675.138/0001-53</td>\n",
              "      <td>AVENIDA CASTELO BRANCO</td>\n",
              "      <td>3739</td>\n",
              "      <td>NaN</td>\n",
              "      <td>ST RODOVIARIO</td>\n",
              "      <td>74430-130</td>\n",
              "      <td>ETANOL</td>\n",
              "      <td>2023-06-30</td>\n",
              "      <td>3,94</td>\n",
              "      <td>NaN</td>\n",
              "      <td>R$ / litro</td>\n",
              "      <td>BRANCA</td>\n",
              "    </tr>\n",
              "    <tr>\n",
              "      <th>48978</th>\n",
              "      <td>CO</td>\n",
              "      <td>GO</td>\n",
              "      <td>GOIANIA</td>\n",
              "      <td>POSTO DEZ LTDA</td>\n",
              "      <td>01.135.706/0001-23</td>\n",
              "      <td>AVENIDA C12</td>\n",
              "      <td>779</td>\n",
              "      <td>QUADRA124                 LOTE  02/03/04</td>\n",
              "      <td>SETOR SUDOESTE</td>\n",
              "      <td>74305-010</td>\n",
              "      <td>ETANOL</td>\n",
              "      <td>2023-06-30</td>\n",
              "      <td>3,97</td>\n",
              "      <td>NaN</td>\n",
              "      <td>R$ / litro</td>\n",
              "      <td>RAIZEN</td>\n",
              "    </tr>\n",
              "    <tr>\n",
              "      <th>48981</th>\n",
              "      <td>SE</td>\n",
              "      <td>MG</td>\n",
              "      <td>OURO PRETO</td>\n",
              "      <td>AUTO POSTO S.F.CENTRO LTDA</td>\n",
              "      <td>04.625.030/0001-44</td>\n",
              "      <td>RUA PADRE ROLIM</td>\n",
              "      <td>284</td>\n",
              "      <td>NaN</td>\n",
              "      <td>CENTRO</td>\n",
              "      <td>35400-000</td>\n",
              "      <td>ETANOL</td>\n",
              "      <td>2023-06-30</td>\n",
              "      <td>3,69</td>\n",
              "      <td>NaN</td>\n",
              "      <td>R$ / litro</td>\n",
              "      <td>BRANCA</td>\n",
              "    </tr>\n",
              "    <tr>\n",
              "      <th>48985</th>\n",
              "      <td>SE</td>\n",
              "      <td>MG</td>\n",
              "      <td>OURO PRETO</td>\n",
              "      <td>AUTO POSTO OURO PRETO LTDA</td>\n",
              "      <td>01.819.646/0001-68</td>\n",
              "      <td>RUA PADRE ROLIM</td>\n",
              "      <td>3000</td>\n",
              "      <td>NaN</td>\n",
              "      <td>SAO CRISTOVAO</td>\n",
              "      <td>35400-000</td>\n",
              "      <td>ETANOL</td>\n",
              "      <td>2023-06-30</td>\n",
              "      <td>3,69</td>\n",
              "      <td>NaN</td>\n",
              "      <td>R$ / litro</td>\n",
              "      <td>RAIZEN</td>\n",
              "    </tr>\n",
              "    <tr>\n",
              "      <th>49037</th>\n",
              "      <td>NE</td>\n",
              "      <td>BA</td>\n",
              "      <td>CAMACARI</td>\n",
              "      <td>YEMANJA COMERCIO DE DERIVADOS DE PETROLEO E SE...</td>\n",
              "      <td>04.909.369/0002-53</td>\n",
              "      <td>ESTRADA DA CASCALHEIRA</td>\n",
              "      <td>S/N</td>\n",
              "      <td>BA 531              KM    3 5                 ...</td>\n",
              "      <td>PARQUE REAL SERRA VERDE</td>\n",
              "      <td>42813-080</td>\n",
              "      <td>ETANOL</td>\n",
              "      <td>2023-06-30</td>\n",
              "      <td>4,44</td>\n",
              "      <td>NaN</td>\n",
              "      <td>R$ / litro</td>\n",
              "      <td>BRANCA</td>\n",
              "    </tr>\n",
              "  </tbody>\n",
              "</table>\n",
              "<p>15938 rows × 16 columns</p>\n",
              "</div>\n",
              "      <button class=\"colab-df-convert\" onclick=\"convertToInteractive('df-cbe2df79-7ffc-4347-9383-84d8709e8091')\"\n",
              "              title=\"Convert this dataframe to an interactive table.\"\n",
              "              style=\"display:none;\">\n",
              "\n",
              "  <svg xmlns=\"http://www.w3.org/2000/svg\" height=\"24px\"viewBox=\"0 0 24 24\"\n",
              "       width=\"24px\">\n",
              "    <path d=\"M0 0h24v24H0V0z\" fill=\"none\"/>\n",
              "    <path d=\"M18.56 5.44l.94 2.06.94-2.06 2.06-.94-2.06-.94-.94-2.06-.94 2.06-2.06.94zm-11 1L8.5 8.5l.94-2.06 2.06-.94-2.06-.94L8.5 2.5l-.94 2.06-2.06.94zm10 10l.94 2.06.94-2.06 2.06-.94-2.06-.94-.94-2.06-.94 2.06-2.06.94z\"/><path d=\"M17.41 7.96l-1.37-1.37c-.4-.4-.92-.59-1.43-.59-.52 0-1.04.2-1.43.59L10.3 9.45l-7.72 7.72c-.78.78-.78 2.05 0 2.83L4 21.41c.39.39.9.59 1.41.59.51 0 1.02-.2 1.41-.59l7.78-7.78 2.81-2.81c.8-.78.8-2.07 0-2.86zM5.41 20L4 18.59l7.72-7.72 1.47 1.35L5.41 20z\"/>\n",
              "  </svg>\n",
              "      </button>\n",
              "\n",
              "\n",
              "\n",
              "    <div id=\"df-088952a2-3395-4b01-a054-cd07c015dd06\">\n",
              "      <button class=\"colab-df-quickchart\" onclick=\"quickchart('df-088952a2-3395-4b01-a054-cd07c015dd06')\"\n",
              "              title=\"Suggest charts.\"\n",
              "              style=\"display:none;\">\n",
              "\n",
              "<svg xmlns=\"http://www.w3.org/2000/svg\" height=\"24px\"viewBox=\"0 0 24 24\"\n",
              "     width=\"24px\">\n",
              "    <g>\n",
              "        <path d=\"M19 3H5c-1.1 0-2 .9-2 2v14c0 1.1.9 2 2 2h14c1.1 0 2-.9 2-2V5c0-1.1-.9-2-2-2zM9 17H7v-7h2v7zm4 0h-2V7h2v10zm4 0h-2v-4h2v4z\"/>\n",
              "    </g>\n",
              "</svg>\n",
              "      </button>\n",
              "    </div>\n",
              "\n",
              "<style>\n",
              "  .colab-df-quickchart {\n",
              "    background-color: #E8F0FE;\n",
              "    border: none;\n",
              "    border-radius: 50%;\n",
              "    cursor: pointer;\n",
              "    display: none;\n",
              "    fill: #1967D2;\n",
              "    height: 32px;\n",
              "    padding: 0 0 0 0;\n",
              "    width: 32px;\n",
              "  }\n",
              "\n",
              "  .colab-df-quickchart:hover {\n",
              "    background-color: #E2EBFA;\n",
              "    box-shadow: 0px 1px 2px rgba(60, 64, 67, 0.3), 0px 1px 3px 1px rgba(60, 64, 67, 0.15);\n",
              "    fill: #174EA6;\n",
              "  }\n",
              "\n",
              "  [theme=dark] .colab-df-quickchart {\n",
              "    background-color: #3B4455;\n",
              "    fill: #D2E3FC;\n",
              "  }\n",
              "\n",
              "  [theme=dark] .colab-df-quickchart:hover {\n",
              "    background-color: #434B5C;\n",
              "    box-shadow: 0px 1px 3px 1px rgba(0, 0, 0, 0.15);\n",
              "    filter: drop-shadow(0px 1px 2px rgba(0, 0, 0, 0.3));\n",
              "    fill: #FFFFFF;\n",
              "  }\n",
              "</style>\n",
              "\n",
              "    <script>\n",
              "      async function quickchart(key) {\n",
              "        const containerElement = document.querySelector('#' + key);\n",
              "        const charts = await google.colab.kernel.invokeFunction(\n",
              "            'suggestCharts', [key], {});\n",
              "      }\n",
              "    </script>\n",
              "\n",
              "      <script>\n",
              "\n",
              "function displayQuickchartButton(domScope) {\n",
              "  let quickchartButtonEl =\n",
              "    domScope.querySelector('#df-088952a2-3395-4b01-a054-cd07c015dd06 button.colab-df-quickchart');\n",
              "  quickchartButtonEl.style.display =\n",
              "    google.colab.kernel.accessAllowed ? 'block' : 'none';\n",
              "}\n",
              "\n",
              "        displayQuickchartButton(document);\n",
              "      </script>\n",
              "      <style>\n",
              "    .colab-df-container {\n",
              "      display:flex;\n",
              "      flex-wrap:wrap;\n",
              "      gap: 12px;\n",
              "    }\n",
              "\n",
              "    .colab-df-convert {\n",
              "      background-color: #E8F0FE;\n",
              "      border: none;\n",
              "      border-radius: 50%;\n",
              "      cursor: pointer;\n",
              "      display: none;\n",
              "      fill: #1967D2;\n",
              "      height: 32px;\n",
              "      padding: 0 0 0 0;\n",
              "      width: 32px;\n",
              "    }\n",
              "\n",
              "    .colab-df-convert:hover {\n",
              "      background-color: #E2EBFA;\n",
              "      box-shadow: 0px 1px 2px rgba(60, 64, 67, 0.3), 0px 1px 3px 1px rgba(60, 64, 67, 0.15);\n",
              "      fill: #174EA6;\n",
              "    }\n",
              "\n",
              "    [theme=dark] .colab-df-convert {\n",
              "      background-color: #3B4455;\n",
              "      fill: #D2E3FC;\n",
              "    }\n",
              "\n",
              "    [theme=dark] .colab-df-convert:hover {\n",
              "      background-color: #434B5C;\n",
              "      box-shadow: 0px 1px 3px 1px rgba(0, 0, 0, 0.15);\n",
              "      filter: drop-shadow(0px 1px 2px rgba(0, 0, 0, 0.3));\n",
              "      fill: #FFFFFF;\n",
              "    }\n",
              "  </style>\n",
              "\n",
              "      <script>\n",
              "        const buttonEl =\n",
              "          document.querySelector('#df-cbe2df79-7ffc-4347-9383-84d8709e8091 button.colab-df-convert');\n",
              "        buttonEl.style.display =\n",
              "          google.colab.kernel.accessAllowed ? 'block' : 'none';\n",
              "\n",
              "        async function convertToInteractive(key) {\n",
              "          const element = document.querySelector('#df-cbe2df79-7ffc-4347-9383-84d8709e8091');\n",
              "          const dataTable =\n",
              "            await google.colab.kernel.invokeFunction('convertToInteractive',\n",
              "                                                     [key], {});\n",
              "          if (!dataTable) return;\n",
              "\n",
              "          const docLinkHtml = 'Like what you see? Visit the ' +\n",
              "            '<a target=\"_blank\" href=https://colab.research.google.com/notebooks/data_table.ipynb>data table notebook</a>'\n",
              "            + ' to learn more about interactive tables.';\n",
              "          element.innerHTML = '';\n",
              "          dataTable['output_type'] = 'display_data';\n",
              "          await google.colab.output.renderOutput(dataTable, element);\n",
              "          const docLink = document.createElement('div');\n",
              "          docLink.innerHTML = docLinkHtml;\n",
              "          element.appendChild(docLink);\n",
              "        }\n",
              "      </script>\n",
              "    </div>\n",
              "  </div>\n"
            ],
            "text/plain": [
              "      Regiao - Sigla Estado - Sigla        Municipio  \\\n",
              "0                 NE             BA            IRECE   \n",
              "863               SE             SP         MIRASSOL   \n",
              "861               CO             GO         GOIATUBA   \n",
              "858               SE             SP         ITAPOLIS   \n",
              "855               SE             SP  PINDAMONHANGABA   \n",
              "...              ...            ...              ...   \n",
              "48976             CO             GO          GOIANIA   \n",
              "48978             CO             GO          GOIANIA   \n",
              "48981             SE             MG       OURO PRETO   \n",
              "48985             SE             MG       OURO PRETO   \n",
              "49037             NE             BA         CAMACARI   \n",
              "\n",
              "                                                 Revenda      CNPJ da Revenda  \\\n",
              "0                       IRECE DERIVADOS DE PETROLEO LTDA   09.186.976/0001-75   \n",
              "863                              AUTO POSTO MIRAMAX LTDA   10.943.250/0001-19   \n",
              "861                         AUTO POSTO SCAPIM LTDA. - ME   10.482.745/0001-98   \n",
              "858        COOPERCITRUS COOPERATIVA DE PRODUTORES RURAIS   45.236.791/0088-42   \n",
              "855    SETE ESTRELAS COMERCIO DE DERIVADOS DE PETROLE...   00.256.893/0030-75   \n",
              "...                                                  ...                  ...   \n",
              "48976                            AUTO POSTO CASTELO LTDA   01.675.138/0001-53   \n",
              "48978                                     POSTO DEZ LTDA   01.135.706/0001-23   \n",
              "48981                         AUTO POSTO S.F.CENTRO LTDA   04.625.030/0001-44   \n",
              "48985                         AUTO POSTO OURO PRETO LTDA   01.819.646/0001-68   \n",
              "49037  YEMANJA COMERCIO DE DERIVADOS DE PETROLEO E SE...   04.909.369/0002-53   \n",
              "\n",
              "                                  Nome da Rua Numero Rua  \\\n",
              "0                          PRACA AIRTON SENNA        285   \n",
              "863                          RUA OSVALDO CRUZ      21-56   \n",
              "861                          RUA MINAS GERAIS        549   \n",
              "858                   AVENIDA CARLOS ADOLFSON       2070   \n",
              "855    AVENIDA DOUTOR  FRANCISCO LESSA JUNIOR       1205   \n",
              "...                                       ...        ...   \n",
              "48976                  AVENIDA CASTELO BRANCO       3739   \n",
              "48978                             AVENIDA C12        779   \n",
              "48981                         RUA PADRE ROLIM        284   \n",
              "48985                         RUA PADRE ROLIM       3000   \n",
              "49037                  ESTRADA DA CASCALHEIRA        S/N   \n",
              "\n",
              "                                             Complemento  \\\n",
              "0                                                 TERREO   \n",
              "863                                                  NaN   \n",
              "861                                                  NaN   \n",
              "858                                                  NaN   \n",
              "855                                                  NaN   \n",
              "...                                                  ...   \n",
              "48976                                                NaN   \n",
              "48978           QUADRA124                 LOTE  02/03/04   \n",
              "48981                                                NaN   \n",
              "48985                                                NaN   \n",
              "49037  BA 531              KM    3 5                 ...   \n",
              "\n",
              "                        Bairro        Cep Produto Data da Coleta  \\\n",
              "0                       CENTRO  44900-000  ETANOL     2023-06-01   \n",
              "863                     CENTRO  15130-000  ETANOL     2023-06-01   \n",
              "861                     CENTRO  75600-000  ETANOL     2023-06-01   \n",
              "858                     CENTRO  14900-000  ETANOL     2023-06-01   \n",
              "855             CHACARA GALEGA  12422-010  ETANOL     2023-06-01   \n",
              "...                        ...        ...     ...            ...   \n",
              "48976            ST RODOVIARIO  74430-130  ETANOL     2023-06-30   \n",
              "48978           SETOR SUDOESTE  74305-010  ETANOL     2023-06-30   \n",
              "48981                   CENTRO  35400-000  ETANOL     2023-06-30   \n",
              "48985            SAO CRISTOVAO  35400-000  ETANOL     2023-06-30   \n",
              "49037  PARQUE REAL SERRA VERDE  42813-080  ETANOL     2023-06-30   \n",
              "\n",
              "      Valor de Venda  Valor de Compra Unidade de Medida       Bandeira  \n",
              "0               4,31              NaN        R$ / litro  VIBRA ENERGIA  \n",
              "863             3,79              NaN        R$ / litro         BRANCA  \n",
              "861             3,88              NaN        R$ / litro         BRANCA  \n",
              "858             3,59              NaN        R$ / litro       IPIRANGA  \n",
              "855             3,57              NaN        R$ / litro         BRANCA  \n",
              "...              ...              ...               ...            ...  \n",
              "48976           3,94              NaN        R$ / litro         BRANCA  \n",
              "48978           3,97              NaN        R$ / litro         RAIZEN  \n",
              "48981           3,69              NaN        R$ / litro         BRANCA  \n",
              "48985           3,69              NaN        R$ / litro         RAIZEN  \n",
              "49037           4,44              NaN        R$ / litro         BRANCA  \n",
              "\n",
              "[15938 rows x 16 columns]"
            ]
          },
          "execution_count": 6,
          "metadata": {},
          "output_type": "execute_result"
        }
      ],
      "source": [
        "tabelas['Data da Coleta'] = pd.to_datetime(tabelas['Data da Coleta'], dayfirst=True)\n",
        "\n",
        "# Filter rows for 'ETANOL' and the month of June\n",
        "etanol_june = tabelas[(tabelas['Produto'] == 'ETANOL') & (tabelas['Data da Coleta'].dt.month == 6)]\n",
        "\n",
        "etanol_june.sort_values(by='Data da Coleta')"
      ]
    },
    {
      "cell_type": "code",
      "execution_count": null,
      "metadata": {
        "colab": {
          "base_uri": "https://localhost:8080/"
        },
        "id": "Q26qRkS7Kw4u",
        "outputId": "0b2b6d67-24a1-43b0-b9a8-8ee4d1ae21dd"
      },
      "outputs": [
        {
          "data": {
            "text/plain": [
              "CNPJ da Revenda\n",
              " 00.001.974/0001-90    3\n",
              " 00.002.953/0001-99    3\n",
              " 00.002.953/0002-70    4\n",
              " 00.003.188/0001-21    4\n",
              " 00.003.188/0004-74    2\n",
              "                      ..\n",
              " 96.826.375/0001-84    2\n",
              " 96.841.580/0001-19    1\n",
              " 97.430.284/0001-98    1\n",
              " 97.521.669/0001-60    3\n",
              " 97.526.192/0001-06    1\n",
              "Length: 5598, dtype: int64"
            ]
          },
          "execution_count": 14,
          "metadata": {},
          "output_type": "execute_result"
        }
      ],
      "source": [
        "soma_por_cnpj = etanol_june.groupby('CNPJ da Revenda').size()\n",
        "soma_por_cnpj"
      ]
    },
    {
      "cell_type": "markdown",
      "metadata": {
        "id": "axHTkwcbGxAI"
      },
      "source": [
        "# SOMATORIO DAS VENDAS DE ETANOL EM JUNHO"
      ]
    },
    {
      "cell_type": "code",
      "execution_count": null,
      "metadata": {
        "id": "YEQJELGAIgLN"
      },
      "outputs": [],
      "source": [
        "etanol_june.info()"
      ]
    },
    {
      "cell_type": "code",
      "execution_count": null,
      "metadata": {
        "colab": {
          "base_uri": "https://localhost:8080/"
        },
        "id": "j33uFfwNG1nr",
        "outputId": "262c202d-5c33-44b7-a067-1ec899fc51fe"
      },
      "outputs": [
        {
          "data": {
            "text/plain": [
              "4.01"
            ]
          },
          "execution_count": 34,
          "metadata": {},
          "output_type": "execute_result"
        }
      ],
      "source": [
        "media_etanol_junho = etanol_june['Valor de Venda'].str.replace(',', '.').astype(float).mean()\n",
        "\n",
        "round(media_etanol_junho,2)"
      ]
    },
    {
      "cell_type": "markdown",
      "metadata": {
        "id": "XpzBx92sGR5N"
      },
      "source": [
        "# ETANOL NO MES DE JULHO"
      ]
    },
    {
      "cell_type": "code",
      "execution_count": null,
      "metadata": {
        "colab": {
          "base_uri": "https://localhost:8080/",
          "height": 659
        },
        "id": "lFB3V_daow2V",
        "outputId": "4c2614d0-4cf9-40ef-de0e-33909182ad22"
      },
      "outputs": [
        {
          "data": {
            "text/html": [
              "\n",
              "\n",
              "  <div id=\"df-605f21eb-3387-4bb2-a8a1-e65922b18645\">\n",
              "    <div class=\"colab-df-container\">\n",
              "      <div>\n",
              "<style scoped>\n",
              "    .dataframe tbody tr th:only-of-type {\n",
              "        vertical-align: middle;\n",
              "    }\n",
              "\n",
              "    .dataframe tbody tr th {\n",
              "        vertical-align: top;\n",
              "    }\n",
              "\n",
              "    .dataframe thead th {\n",
              "        text-align: right;\n",
              "    }\n",
              "</style>\n",
              "<table border=\"1\" class=\"dataframe\">\n",
              "  <thead>\n",
              "    <tr style=\"text-align: right;\">\n",
              "      <th></th>\n",
              "      <th>Regiao - Sigla</th>\n",
              "      <th>Estado - Sigla</th>\n",
              "      <th>Municipio</th>\n",
              "      <th>Revenda</th>\n",
              "      <th>CNPJ da Revenda</th>\n",
              "      <th>Nome da Rua</th>\n",
              "      <th>Numero Rua</th>\n",
              "      <th>Complemento</th>\n",
              "      <th>Bairro</th>\n",
              "      <th>Cep</th>\n",
              "      <th>Produto</th>\n",
              "      <th>Data da Coleta</th>\n",
              "      <th>Valor de Venda</th>\n",
              "      <th>Valor de Compra</th>\n",
              "      <th>Unidade de Medida</th>\n",
              "      <th>Bandeira</th>\n",
              "    </tr>\n",
              "  </thead>\n",
              "  <tbody>\n",
              "    <tr>\n",
              "      <th>49042</th>\n",
              "      <td>SE</td>\n",
              "      <td>SP</td>\n",
              "      <td>SOROCABA</td>\n",
              "      <td>COMPETRO COMERCIO E DISTRIBUICAO DE DERIVADOS ...</td>\n",
              "      <td>00.003.188/0001-21</td>\n",
              "      <td>RUA HUMBERTO DE CAMPOS</td>\n",
              "      <td>306</td>\n",
              "      <td>NaN</td>\n",
              "      <td>JARDIM ZULMIRA</td>\n",
              "      <td>18061-000</td>\n",
              "      <td>ETANOL</td>\n",
              "      <td>2023-07-03</td>\n",
              "      <td>3,27</td>\n",
              "      <td>NaN</td>\n",
              "      <td>R$ / litro</td>\n",
              "      <td>BRANCA</td>\n",
              "    </tr>\n",
              "    <tr>\n",
              "      <th>51494</th>\n",
              "      <td>NE</td>\n",
              "      <td>MA</td>\n",
              "      <td>IMPERATRIZ</td>\n",
              "      <td>POSTO DE COMBUSTIVEIS ADVENTURE LTDA</td>\n",
              "      <td>09.474.517/0001-97</td>\n",
              "      <td>RUA RIO GRANDE DO NORTE</td>\n",
              "      <td>436</td>\n",
              "      <td>CASA: ESQUINA C/AVE.INDUST;</td>\n",
              "      <td>SANTA RITA</td>\n",
              "      <td>65919-140</td>\n",
              "      <td>ETANOL</td>\n",
              "      <td>2023-07-03</td>\n",
              "      <td>4,79</td>\n",
              "      <td>NaN</td>\n",
              "      <td>R$ / litro</td>\n",
              "      <td>VIBRA ENERGIA</td>\n",
              "    </tr>\n",
              "    <tr>\n",
              "      <th>51485</th>\n",
              "      <td>NE</td>\n",
              "      <td>CE</td>\n",
              "      <td>LIMOEIRO DO NORTE</td>\n",
              "      <td>COMERCIAL DE PETROLEO SAO MATHEUS LTDA.</td>\n",
              "      <td>07.356.644/0001-66</td>\n",
              "      <td>AVENIDA DOM AURELIANO MATOS</td>\n",
              "      <td>1472</td>\n",
              "      <td>NaN</td>\n",
              "      <td>CENTRO</td>\n",
              "      <td>62930-000</td>\n",
              "      <td>ETANOL</td>\n",
              "      <td>2023-07-03</td>\n",
              "      <td>4,89</td>\n",
              "      <td>NaN</td>\n",
              "      <td>R$ / litro</td>\n",
              "      <td>BRANCA</td>\n",
              "    </tr>\n",
              "    <tr>\n",
              "      <th>51482</th>\n",
              "      <td>NE</td>\n",
              "      <td>PB</td>\n",
              "      <td>BAYEUX</td>\n",
              "      <td>PARELHAS GAS LTDA</td>\n",
              "      <td>24.206.617/0021-70</td>\n",
              "      <td>RODOVIA BR 101 - KM 03</td>\n",
              "      <td>S/N</td>\n",
              "      <td>NaN</td>\n",
              "      <td>MANGUINHOS</td>\n",
              "      <td>58309-600</td>\n",
              "      <td>ETANOL</td>\n",
              "      <td>2023-07-03</td>\n",
              "      <td>4,37</td>\n",
              "      <td>NaN</td>\n",
              "      <td>R$ / litro</td>\n",
              "      <td>VIBRA ENERGIA</td>\n",
              "    </tr>\n",
              "    <tr>\n",
              "      <th>51479</th>\n",
              "      <td>SE</td>\n",
              "      <td>MG</td>\n",
              "      <td>BELO HORIZONTE</td>\n",
              "      <td>ECO EMPREENDIMENTOS COMERCIAIS LTDA</td>\n",
              "      <td>00.194.032/0002-56</td>\n",
              "      <td>RUA CONCEICAO DO MATO DENTRO</td>\n",
              "      <td>335</td>\n",
              "      <td>NaN</td>\n",
              "      <td>OURO PRETO</td>\n",
              "      <td>31310-240</td>\n",
              "      <td>ETANOL</td>\n",
              "      <td>2023-07-03</td>\n",
              "      <td>3,99</td>\n",
              "      <td>NaN</td>\n",
              "      <td>R$ / litro</td>\n",
              "      <td>VIBRA ENERGIA</td>\n",
              "    </tr>\n",
              "    <tr>\n",
              "      <th>...</th>\n",
              "      <td>...</td>\n",
              "      <td>...</td>\n",
              "      <td>...</td>\n",
              "      <td>...</td>\n",
              "      <td>...</td>\n",
              "      <td>...</td>\n",
              "      <td>...</td>\n",
              "      <td>...</td>\n",
              "      <td>...</td>\n",
              "      <td>...</td>\n",
              "      <td>...</td>\n",
              "      <td>...</td>\n",
              "      <td>...</td>\n",
              "      <td>...</td>\n",
              "      <td>...</td>\n",
              "      <td>...</td>\n",
              "    </tr>\n",
              "    <tr>\n",
              "      <th>98499</th>\n",
              "      <td>SE</td>\n",
              "      <td>MG</td>\n",
              "      <td>JUIZ DE FORA</td>\n",
              "      <td>AUTO POSTO CONQUISTA LTDA</td>\n",
              "      <td>02.050.251/0001-06</td>\n",
              "      <td>RUA ABILIO GOMES</td>\n",
              "      <td>S/N</td>\n",
              "      <td>LTS. 01/02/03/04 QD. H</td>\n",
              "      <td>FRANCISCO BERNADINHO</td>\n",
              "      <td>36083-010</td>\n",
              "      <td>ETANOL</td>\n",
              "      <td>2023-07-31</td>\n",
              "      <td>4,09</td>\n",
              "      <td>NaN</td>\n",
              "      <td>R$ / litro</td>\n",
              "      <td>VIBRA</td>\n",
              "    </tr>\n",
              "    <tr>\n",
              "      <th>98497</th>\n",
              "      <td>SE</td>\n",
              "      <td>MG</td>\n",
              "      <td>JUIZ DE FORA</td>\n",
              "      <td>AUTO POSTO VAS CAS LTDA</td>\n",
              "      <td>03.264.269/0001-73</td>\n",
              "      <td>AVENIDA BRASIL</td>\n",
              "      <td>2002</td>\n",
              "      <td>NaN</td>\n",
              "      <td>CENTRO</td>\n",
              "      <td>36062-420</td>\n",
              "      <td>ETANOL</td>\n",
              "      <td>2023-07-31</td>\n",
              "      <td>4,06</td>\n",
              "      <td>NaN</td>\n",
              "      <td>R$ / litro</td>\n",
              "      <td>ALESAT</td>\n",
              "    </tr>\n",
              "    <tr>\n",
              "      <th>98494</th>\n",
              "      <td>SE</td>\n",
              "      <td>MG</td>\n",
              "      <td>JUIZ DE FORA</td>\n",
              "      <td>AUTO POSTO TERRA BRASILIS LTDA</td>\n",
              "      <td>04.919.589/0001-87</td>\n",
              "      <td>RUA JOSE LOURENCO</td>\n",
              "      <td>175</td>\n",
              "      <td>LOTE  20</td>\n",
              "      <td>SAO PEDRO</td>\n",
              "      <td>36037-460</td>\n",
              "      <td>ETANOL</td>\n",
              "      <td>2023-07-31</td>\n",
              "      <td>3,98</td>\n",
              "      <td>NaN</td>\n",
              "      <td>R$ / litro</td>\n",
              "      <td>VIBRA</td>\n",
              "    </tr>\n",
              "    <tr>\n",
              "      <th>98569</th>\n",
              "      <td>SE</td>\n",
              "      <td>MG</td>\n",
              "      <td>POUSO ALEGRE</td>\n",
              "      <td>AGENOR POSTO DE COMBUSTIVEIS LTDA.</td>\n",
              "      <td>19.283.605/0001-65</td>\n",
              "      <td>AVENIDA PINTO COBRA</td>\n",
              "      <td>1480</td>\n",
              "      <td>NaN</td>\n",
              "      <td>JARDIM SAO JOSE</td>\n",
              "      <td>37554-027</td>\n",
              "      <td>ETANOL</td>\n",
              "      <td>2023-07-31</td>\n",
              "      <td>3,57</td>\n",
              "      <td>NaN</td>\n",
              "      <td>R$ / litro</td>\n",
              "      <td>VIBRA</td>\n",
              "    </tr>\n",
              "    <tr>\n",
              "      <th>152646</th>\n",
              "      <td>S</td>\n",
              "      <td>RS</td>\n",
              "      <td>LAJEADO</td>\n",
              "      <td>SIM REDE DE POSTOS LTDA</td>\n",
              "      <td>07.473.735/0188-03</td>\n",
              "      <td>AVENIDA BENJAMIN CONSTANT</td>\n",
              "      <td>2324</td>\n",
              "      <td>NaN</td>\n",
              "      <td>FLORESTAL</td>\n",
              "      <td>95900-702</td>\n",
              "      <td>ETANOL</td>\n",
              "      <td>2023-07-31</td>\n",
              "      <td>4,68</td>\n",
              "      <td>NaN</td>\n",
              "      <td>R$ / litro</td>\n",
              "      <td>CHARRUA</td>\n",
              "    </tr>\n",
              "  </tbody>\n",
              "</table>\n",
              "<p>31305 rows × 16 columns</p>\n",
              "</div>\n",
              "      <button class=\"colab-df-convert\" onclick=\"convertToInteractive('df-605f21eb-3387-4bb2-a8a1-e65922b18645')\"\n",
              "              title=\"Convert this dataframe to an interactive table.\"\n",
              "              style=\"display:none;\">\n",
              "\n",
              "  <svg xmlns=\"http://www.w3.org/2000/svg\" height=\"24px\"viewBox=\"0 0 24 24\"\n",
              "       width=\"24px\">\n",
              "    <path d=\"M0 0h24v24H0V0z\" fill=\"none\"/>\n",
              "    <path d=\"M18.56 5.44l.94 2.06.94-2.06 2.06-.94-2.06-.94-.94-2.06-.94 2.06-2.06.94zm-11 1L8.5 8.5l.94-2.06 2.06-.94-2.06-.94L8.5 2.5l-.94 2.06-2.06.94zm10 10l.94 2.06.94-2.06 2.06-.94-2.06-.94-.94-2.06-.94 2.06-2.06.94z\"/><path d=\"M17.41 7.96l-1.37-1.37c-.4-.4-.92-.59-1.43-.59-.52 0-1.04.2-1.43.59L10.3 9.45l-7.72 7.72c-.78.78-.78 2.05 0 2.83L4 21.41c.39.39.9.59 1.41.59.51 0 1.02-.2 1.41-.59l7.78-7.78 2.81-2.81c.8-.78.8-2.07 0-2.86zM5.41 20L4 18.59l7.72-7.72 1.47 1.35L5.41 20z\"/>\n",
              "  </svg>\n",
              "      </button>\n",
              "\n",
              "\n",
              "\n",
              "    <div id=\"df-83873191-bbb5-428a-bf81-cd57f5604c2e\">\n",
              "      <button class=\"colab-df-quickchart\" onclick=\"quickchart('df-83873191-bbb5-428a-bf81-cd57f5604c2e')\"\n",
              "              title=\"Suggest charts.\"\n",
              "              style=\"display:none;\">\n",
              "\n",
              "<svg xmlns=\"http://www.w3.org/2000/svg\" height=\"24px\"viewBox=\"0 0 24 24\"\n",
              "     width=\"24px\">\n",
              "    <g>\n",
              "        <path d=\"M19 3H5c-1.1 0-2 .9-2 2v14c0 1.1.9 2 2 2h14c1.1 0 2-.9 2-2V5c0-1.1-.9-2-2-2zM9 17H7v-7h2v7zm4 0h-2V7h2v10zm4 0h-2v-4h2v4z\"/>\n",
              "    </g>\n",
              "</svg>\n",
              "      </button>\n",
              "    </div>\n",
              "\n",
              "<style>\n",
              "  .colab-df-quickchart {\n",
              "    background-color: #E8F0FE;\n",
              "    border: none;\n",
              "    border-radius: 50%;\n",
              "    cursor: pointer;\n",
              "    display: none;\n",
              "    fill: #1967D2;\n",
              "    height: 32px;\n",
              "    padding: 0 0 0 0;\n",
              "    width: 32px;\n",
              "  }\n",
              "\n",
              "  .colab-df-quickchart:hover {\n",
              "    background-color: #E2EBFA;\n",
              "    box-shadow: 0px 1px 2px rgba(60, 64, 67, 0.3), 0px 1px 3px 1px rgba(60, 64, 67, 0.15);\n",
              "    fill: #174EA6;\n",
              "  }\n",
              "\n",
              "  [theme=dark] .colab-df-quickchart {\n",
              "    background-color: #3B4455;\n",
              "    fill: #D2E3FC;\n",
              "  }\n",
              "\n",
              "  [theme=dark] .colab-df-quickchart:hover {\n",
              "    background-color: #434B5C;\n",
              "    box-shadow: 0px 1px 3px 1px rgba(0, 0, 0, 0.15);\n",
              "    filter: drop-shadow(0px 1px 2px rgba(0, 0, 0, 0.3));\n",
              "    fill: #FFFFFF;\n",
              "  }\n",
              "</style>\n",
              "\n",
              "    <script>\n",
              "      async function quickchart(key) {\n",
              "        const containerElement = document.querySelector('#' + key);\n",
              "        const charts = await google.colab.kernel.invokeFunction(\n",
              "            'suggestCharts', [key], {});\n",
              "      }\n",
              "    </script>\n",
              "\n",
              "      <script>\n",
              "\n",
              "function displayQuickchartButton(domScope) {\n",
              "  let quickchartButtonEl =\n",
              "    domScope.querySelector('#df-83873191-bbb5-428a-bf81-cd57f5604c2e button.colab-df-quickchart');\n",
              "  quickchartButtonEl.style.display =\n",
              "    google.colab.kernel.accessAllowed ? 'block' : 'none';\n",
              "}\n",
              "\n",
              "        displayQuickchartButton(document);\n",
              "      </script>\n",
              "      <style>\n",
              "    .colab-df-container {\n",
              "      display:flex;\n",
              "      flex-wrap:wrap;\n",
              "      gap: 12px;\n",
              "    }\n",
              "\n",
              "    .colab-df-convert {\n",
              "      background-color: #E8F0FE;\n",
              "      border: none;\n",
              "      border-radius: 50%;\n",
              "      cursor: pointer;\n",
              "      display: none;\n",
              "      fill: #1967D2;\n",
              "      height: 32px;\n",
              "      padding: 0 0 0 0;\n",
              "      width: 32px;\n",
              "    }\n",
              "\n",
              "    .colab-df-convert:hover {\n",
              "      background-color: #E2EBFA;\n",
              "      box-shadow: 0px 1px 2px rgba(60, 64, 67, 0.3), 0px 1px 3px 1px rgba(60, 64, 67, 0.15);\n",
              "      fill: #174EA6;\n",
              "    }\n",
              "\n",
              "    [theme=dark] .colab-df-convert {\n",
              "      background-color: #3B4455;\n",
              "      fill: #D2E3FC;\n",
              "    }\n",
              "\n",
              "    [theme=dark] .colab-df-convert:hover {\n",
              "      background-color: #434B5C;\n",
              "      box-shadow: 0px 1px 3px 1px rgba(0, 0, 0, 0.15);\n",
              "      filter: drop-shadow(0px 1px 2px rgba(0, 0, 0, 0.3));\n",
              "      fill: #FFFFFF;\n",
              "    }\n",
              "  </style>\n",
              "\n",
              "      <script>\n",
              "        const buttonEl =\n",
              "          document.querySelector('#df-605f21eb-3387-4bb2-a8a1-e65922b18645 button.colab-df-convert');\n",
              "        buttonEl.style.display =\n",
              "          google.colab.kernel.accessAllowed ? 'block' : 'none';\n",
              "\n",
              "        async function convertToInteractive(key) {\n",
              "          const element = document.querySelector('#df-605f21eb-3387-4bb2-a8a1-e65922b18645');\n",
              "          const dataTable =\n",
              "            await google.colab.kernel.invokeFunction('convertToInteractive',\n",
              "                                                     [key], {});\n",
              "          if (!dataTable) return;\n",
              "\n",
              "          const docLinkHtml = 'Like what you see? Visit the ' +\n",
              "            '<a target=\"_blank\" href=https://colab.research.google.com/notebooks/data_table.ipynb>data table notebook</a>'\n",
              "            + ' to learn more about interactive tables.';\n",
              "          element.innerHTML = '';\n",
              "          dataTable['output_type'] = 'display_data';\n",
              "          await google.colab.output.renderOutput(dataTable, element);\n",
              "          const docLink = document.createElement('div');\n",
              "          docLink.innerHTML = docLinkHtml;\n",
              "          element.appendChild(docLink);\n",
              "        }\n",
              "      </script>\n",
              "    </div>\n",
              "  </div>\n"
            ],
            "text/plain": [
              "       Regiao - Sigla Estado - Sigla          Municipio  \\\n",
              "49042              SE             SP           SOROCABA   \n",
              "51494              NE             MA         IMPERATRIZ   \n",
              "51485              NE             CE  LIMOEIRO DO NORTE   \n",
              "51482              NE             PB             BAYEUX   \n",
              "51479              SE             MG     BELO HORIZONTE   \n",
              "...               ...            ...                ...   \n",
              "98499              SE             MG       JUIZ DE FORA   \n",
              "98497              SE             MG       JUIZ DE FORA   \n",
              "98494              SE             MG       JUIZ DE FORA   \n",
              "98569              SE             MG       POUSO ALEGRE   \n",
              "152646              S             RS            LAJEADO   \n",
              "\n",
              "                                                  Revenda  \\\n",
              "49042   COMPETRO COMERCIO E DISTRIBUICAO DE DERIVADOS ...   \n",
              "51494                POSTO DE COMBUSTIVEIS ADVENTURE LTDA   \n",
              "51485             COMERCIAL DE PETROLEO SAO MATHEUS LTDA.   \n",
              "51482                                   PARELHAS GAS LTDA   \n",
              "51479                 ECO EMPREENDIMENTOS COMERCIAIS LTDA   \n",
              "...                                                   ...   \n",
              "98499                           AUTO POSTO CONQUISTA LTDA   \n",
              "98497                             AUTO POSTO VAS CAS LTDA   \n",
              "98494                      AUTO POSTO TERRA BRASILIS LTDA   \n",
              "98569                  AGENOR POSTO DE COMBUSTIVEIS LTDA.   \n",
              "152646                            SIM REDE DE POSTOS LTDA   \n",
              "\n",
              "            CNPJ da Revenda                   Nome da Rua Numero Rua  \\\n",
              "49042    00.003.188/0001-21        RUA HUMBERTO DE CAMPOS        306   \n",
              "51494    09.474.517/0001-97       RUA RIO GRANDE DO NORTE        436   \n",
              "51485    07.356.644/0001-66   AVENIDA DOM AURELIANO MATOS       1472   \n",
              "51482    24.206.617/0021-70        RODOVIA BR 101 - KM 03        S/N   \n",
              "51479    00.194.032/0002-56  RUA CONCEICAO DO MATO DENTRO        335   \n",
              "...                     ...                           ...        ...   \n",
              "98499    02.050.251/0001-06              RUA ABILIO GOMES        S/N   \n",
              "98497    03.264.269/0001-73                AVENIDA BRASIL       2002   \n",
              "98494    04.919.589/0001-87             RUA JOSE LOURENCO        175   \n",
              "98569    19.283.605/0001-65           AVENIDA PINTO COBRA       1480   \n",
              "152646   07.473.735/0188-03     AVENIDA BENJAMIN CONSTANT       2324   \n",
              "\n",
              "                        Complemento                Bairro        Cep Produto  \\\n",
              "49042                           NaN        JARDIM ZULMIRA  18061-000  ETANOL   \n",
              "51494   CASA: ESQUINA C/AVE.INDUST;            SANTA RITA  65919-140  ETANOL   \n",
              "51485                           NaN                CENTRO  62930-000  ETANOL   \n",
              "51482                           NaN            MANGUINHOS  58309-600  ETANOL   \n",
              "51479                           NaN            OURO PRETO  31310-240  ETANOL   \n",
              "...                             ...                   ...        ...     ...   \n",
              "98499        LTS. 01/02/03/04 QD. H  FRANCISCO BERNADINHO  36083-010  ETANOL   \n",
              "98497                           NaN                CENTRO  36062-420  ETANOL   \n",
              "98494                      LOTE  20             SAO PEDRO  36037-460  ETANOL   \n",
              "98569                           NaN       JARDIM SAO JOSE  37554-027  ETANOL   \n",
              "152646                          NaN             FLORESTAL  95900-702  ETANOL   \n",
              "\n",
              "       Data da Coleta Valor de Venda  Valor de Compra Unidade de Medida  \\\n",
              "49042      2023-07-03           3,27              NaN        R$ / litro   \n",
              "51494      2023-07-03           4,79              NaN        R$ / litro   \n",
              "51485      2023-07-03           4,89              NaN        R$ / litro   \n",
              "51482      2023-07-03           4,37              NaN        R$ / litro   \n",
              "51479      2023-07-03           3,99              NaN        R$ / litro   \n",
              "...               ...            ...              ...               ...   \n",
              "98499      2023-07-31           4,09              NaN        R$ / litro   \n",
              "98497      2023-07-31           4,06              NaN        R$ / litro   \n",
              "98494      2023-07-31           3,98              NaN        R$ / litro   \n",
              "98569      2023-07-31           3,57              NaN        R$ / litro   \n",
              "152646     2023-07-31           4,68              NaN        R$ / litro   \n",
              "\n",
              "             Bandeira  \n",
              "49042          BRANCA  \n",
              "51494   VIBRA ENERGIA  \n",
              "51485          BRANCA  \n",
              "51482   VIBRA ENERGIA  \n",
              "51479   VIBRA ENERGIA  \n",
              "...               ...  \n",
              "98499           VIBRA  \n",
              "98497          ALESAT  \n",
              "98494           VIBRA  \n",
              "98569           VIBRA  \n",
              "152646        CHARRUA  \n",
              "\n",
              "[31305 rows x 16 columns]"
            ]
          },
          "execution_count": 7,
          "metadata": {},
          "output_type": "execute_result"
        }
      ],
      "source": [
        "tabelas['Data da Coleta'] = pd.to_datetime(tabelas['Data da Coleta'], dayfirst=True)\n",
        "\n",
        "# Filter rows for 'ETANOL' and the month of Julho\n",
        "etanol_julho = tabelas[(tabelas['Produto'] == 'ETANOL') & (tabelas['Data da Coleta'].dt.month == 7)]\n",
        "\n",
        "etanol_julho.sort_values(by='Data da Coleta')"
      ]
    },
    {
      "cell_type": "markdown",
      "metadata": {
        "id": "N6M_Tao4I4Em"
      },
      "source": [
        "# MEDIA DE PREÇO DO MES DE JULHO - ETANOL"
      ]
    },
    {
      "cell_type": "code",
      "execution_count": null,
      "metadata": {
        "colab": {
          "base_uri": "https://localhost:8080/"
        },
        "id": "EnKx_PSMI8Da",
        "outputId": "ee98592a-1bb5-442b-db2b-5d938901009d"
      },
      "outputs": [
        {
          "data": {
            "text/plain": [
              "4.06"
            ]
          },
          "execution_count": 36,
          "metadata": {},
          "output_type": "execute_result"
        }
      ],
      "source": [
        "media_etanol_julho = etanol_julho['Valor de Venda'].str.replace(',', '.').astype(float).mean()\n",
        "round(media_etanol_julho,2)"
      ]
    },
    {
      "cell_type": "markdown",
      "metadata": {
        "id": "fZHv7tYcN2R-"
      },
      "source": [
        " GASOLINAS NO MES DE JUNHO"
      ]
    },
    {
      "cell_type": "code",
      "execution_count": null,
      "metadata": {
        "colab": {
          "base_uri": "https://localhost:8080/",
          "height": 659
        },
        "id": "M_wvdiJhN2B-",
        "outputId": "3ad3bfee-ca74-4056-ece6-53b800a8ca37"
      },
      "outputs": [
        {
          "data": {
            "text/html": [
              "\n",
              "\n",
              "  <div id=\"df-935a6348-acff-4d0f-92db-12a263de5368\">\n",
              "    <div class=\"colab-df-container\">\n",
              "      <div>\n",
              "<style scoped>\n",
              "    .dataframe tbody tr th:only-of-type {\n",
              "        vertical-align: middle;\n",
              "    }\n",
              "\n",
              "    .dataframe tbody tr th {\n",
              "        vertical-align: top;\n",
              "    }\n",
              "\n",
              "    .dataframe thead th {\n",
              "        text-align: right;\n",
              "    }\n",
              "</style>\n",
              "<table border=\"1\" class=\"dataframe\">\n",
              "  <thead>\n",
              "    <tr style=\"text-align: right;\">\n",
              "      <th></th>\n",
              "      <th>Regiao - Sigla</th>\n",
              "      <th>Estado - Sigla</th>\n",
              "      <th>Municipio</th>\n",
              "      <th>Revenda</th>\n",
              "      <th>CNPJ da Revenda</th>\n",
              "      <th>Nome da Rua</th>\n",
              "      <th>Numero Rua</th>\n",
              "      <th>Complemento</th>\n",
              "      <th>Bairro</th>\n",
              "      <th>Cep</th>\n",
              "      <th>Produto</th>\n",
              "      <th>Data da Coleta</th>\n",
              "      <th>Valor de Venda</th>\n",
              "      <th>Valor de Compra</th>\n",
              "      <th>Unidade de Medida</th>\n",
              "      <th>Bandeira</th>\n",
              "    </tr>\n",
              "  </thead>\n",
              "  <tbody>\n",
              "    <tr>\n",
              "      <th>1</th>\n",
              "      <td>NE</td>\n",
              "      <td>BA</td>\n",
              "      <td>IRECE</td>\n",
              "      <td>IRECE DERIVADOS DE PETROLEO LTDA</td>\n",
              "      <td>09.186.976/0001-75</td>\n",
              "      <td>PRACA AIRTON SENNA</td>\n",
              "      <td>285</td>\n",
              "      <td>TERREO</td>\n",
              "      <td>CENTRO</td>\n",
              "      <td>44900-000</td>\n",
              "      <td>GASOLINA</td>\n",
              "      <td>2023-06-01</td>\n",
              "      <td>5,39</td>\n",
              "      <td>NaN</td>\n",
              "      <td>R$ / litro</td>\n",
              "      <td>VIBRA ENERGIA</td>\n",
              "    </tr>\n",
              "    <tr>\n",
              "      <th>830</th>\n",
              "      <td>SE</td>\n",
              "      <td>SP</td>\n",
              "      <td>DIADEMA</td>\n",
              "      <td>POSTO DE SERVICOS 1991 LTDA.</td>\n",
              "      <td>10.308.272/0001-07</td>\n",
              "      <td>AVENIDA ANTONIO PIRANGA</td>\n",
              "      <td>1991</td>\n",
              "      <td>NaN</td>\n",
              "      <td>CANHEMA</td>\n",
              "      <td>09942-000</td>\n",
              "      <td>GASOLINA</td>\n",
              "      <td>2023-06-01</td>\n",
              "      <td>4,99</td>\n",
              "      <td>NaN</td>\n",
              "      <td>R$ / litro</td>\n",
              "      <td>IPIRANGA</td>\n",
              "    </tr>\n",
              "    <tr>\n",
              "      <th>832</th>\n",
              "      <td>SE</td>\n",
              "      <td>SP</td>\n",
              "      <td>DIADEMA</td>\n",
              "      <td>CENTRO AUTOMOTIVO CAHEMA LTDA</td>\n",
              "      <td>10.276.028/0001-00</td>\n",
              "      <td>AVENIDA DOM JOAO VI</td>\n",
              "      <td>296</td>\n",
              "      <td>NaN</td>\n",
              "      <td>TABOAO</td>\n",
              "      <td>09940-150</td>\n",
              "      <td>GASOLINA ADITIVADA</td>\n",
              "      <td>2023-06-01</td>\n",
              "      <td>4,89</td>\n",
              "      <td>NaN</td>\n",
              "      <td>R$ / litro</td>\n",
              "      <td>BRANCA</td>\n",
              "    </tr>\n",
              "    <tr>\n",
              "      <th>833</th>\n",
              "      <td>SE</td>\n",
              "      <td>SP</td>\n",
              "      <td>DIADEMA</td>\n",
              "      <td>CENTRO AUTOMOTIVO CAHEMA LTDA</td>\n",
              "      <td>10.276.028/0001-00</td>\n",
              "      <td>AVENIDA DOM JOAO VI</td>\n",
              "      <td>296</td>\n",
              "      <td>NaN</td>\n",
              "      <td>TABOAO</td>\n",
              "      <td>09940-150</td>\n",
              "      <td>GASOLINA</td>\n",
              "      <td>2023-06-01</td>\n",
              "      <td>4,79</td>\n",
              "      <td>NaN</td>\n",
              "      <td>R$ / litro</td>\n",
              "      <td>BRANCA</td>\n",
              "    </tr>\n",
              "    <tr>\n",
              "      <th>835</th>\n",
              "      <td>SE</td>\n",
              "      <td>SP</td>\n",
              "      <td>SALTO</td>\n",
              "      <td>AUTO POSTO CENTURYCAR LTDA.</td>\n",
              "      <td>10.417.359/0001-12</td>\n",
              "      <td>AVENIDA D. PEDRO II</td>\n",
              "      <td>1153</td>\n",
              "      <td>NaN</td>\n",
              "      <td>CENTRO</td>\n",
              "      <td>13320-241</td>\n",
              "      <td>GASOLINA</td>\n",
              "      <td>2023-06-01</td>\n",
              "      <td>4,79</td>\n",
              "      <td>NaN</td>\n",
              "      <td>R$ / litro</td>\n",
              "      <td>BRANCA</td>\n",
              "    </tr>\n",
              "    <tr>\n",
              "      <th>...</th>\n",
              "      <td>...</td>\n",
              "      <td>...</td>\n",
              "      <td>...</td>\n",
              "      <td>...</td>\n",
              "      <td>...</td>\n",
              "      <td>...</td>\n",
              "      <td>...</td>\n",
              "      <td>...</td>\n",
              "      <td>...</td>\n",
              "      <td>...</td>\n",
              "      <td>...</td>\n",
              "      <td>...</td>\n",
              "      <td>...</td>\n",
              "      <td>...</td>\n",
              "      <td>...</td>\n",
              "      <td>...</td>\n",
              "    </tr>\n",
              "    <tr>\n",
              "      <th>48986</th>\n",
              "      <td>SE</td>\n",
              "      <td>MG</td>\n",
              "      <td>OURO PRETO</td>\n",
              "      <td>AUTO POSTO OURO PRETO LTDA</td>\n",
              "      <td>01.819.646/0001-68</td>\n",
              "      <td>RUA PADRE ROLIM</td>\n",
              "      <td>3000</td>\n",
              "      <td>NaN</td>\n",
              "      <td>SAO CRISTOVAO</td>\n",
              "      <td>35400-000</td>\n",
              "      <td>GASOLINA</td>\n",
              "      <td>2023-06-30</td>\n",
              "      <td>5,39</td>\n",
              "      <td>NaN</td>\n",
              "      <td>R$ / litro</td>\n",
              "      <td>RAIZEN</td>\n",
              "    </tr>\n",
              "    <tr>\n",
              "      <th>48988</th>\n",
              "      <td>SE</td>\n",
              "      <td>MG</td>\n",
              "      <td>OURO PRETO</td>\n",
              "      <td>AUTO POSTO FERRARI LTDA</td>\n",
              "      <td>01.018.631/0001-09</td>\n",
              "      <td>RUA JOAO BATISTA FORTES</td>\n",
              "      <td>34</td>\n",
              "      <td>NaN</td>\n",
              "      <td>PILAR</td>\n",
              "      <td>35400-000</td>\n",
              "      <td>GASOLINA</td>\n",
              "      <td>2023-06-30</td>\n",
              "      <td>5,49</td>\n",
              "      <td>NaN</td>\n",
              "      <td>R$ / litro</td>\n",
              "      <td>BRANCA</td>\n",
              "    </tr>\n",
              "    <tr>\n",
              "      <th>48990</th>\n",
              "      <td>NE</td>\n",
              "      <td>BA</td>\n",
              "      <td>CAMACARI</td>\n",
              "      <td>POSTO CAMAÇARI LTDA.</td>\n",
              "      <td>13.015.680/0001-69</td>\n",
              "      <td>AVENIDA RADIAL A</td>\n",
              "      <td>173/178</td>\n",
              "      <td>NaN</td>\n",
              "      <td>CENTRO</td>\n",
              "      <td>42800-000</td>\n",
              "      <td>GASOLINA ADITIVADA</td>\n",
              "      <td>2023-06-30</td>\n",
              "      <td>5,64</td>\n",
              "      <td>NaN</td>\n",
              "      <td>R$ / litro</td>\n",
              "      <td>BRANCA</td>\n",
              "    </tr>\n",
              "    <tr>\n",
              "      <th>48993</th>\n",
              "      <td>NE</td>\n",
              "      <td>BA</td>\n",
              "      <td>CAMACARI</td>\n",
              "      <td>TREVO DERIVADOS DE PETROLEO LTDA</td>\n",
              "      <td>14.486.153/0003-67</td>\n",
              "      <td>VIA PERIMETRAL</td>\n",
              "      <td>SN</td>\n",
              "      <td>NaN</td>\n",
              "      <td>POLO PETROQUIMICO</td>\n",
              "      <td>42810-400</td>\n",
              "      <td>GASOLINA</td>\n",
              "      <td>2023-06-30</td>\n",
              "      <td>5,64</td>\n",
              "      <td>NaN</td>\n",
              "      <td>R$ / litro</td>\n",
              "      <td>VIBRA ENERGIA</td>\n",
              "    </tr>\n",
              "    <tr>\n",
              "      <th>49040</th>\n",
              "      <td>NE</td>\n",
              "      <td>BA</td>\n",
              "      <td>CAMACARI</td>\n",
              "      <td>ALECRIM COMERCIO DE COMBUSTIVEIS LTDA</td>\n",
              "      <td>29.011.125/0001-07</td>\n",
              "      <td>RUA DO ALECRIM</td>\n",
              "      <td>SN</td>\n",
              "      <td>NaN</td>\n",
              "      <td>CENTRO</td>\n",
              "      <td>42800-090</td>\n",
              "      <td>GASOLINA</td>\n",
              "      <td>2023-06-30</td>\n",
              "      <td>6</td>\n",
              "      <td>NaN</td>\n",
              "      <td>R$ / litro</td>\n",
              "      <td>IPIRANGA</td>\n",
              "    </tr>\n",
              "  </tbody>\n",
              "</table>\n",
              "<p>33103 rows × 16 columns</p>\n",
              "</div>\n",
              "      <button class=\"colab-df-convert\" onclick=\"convertToInteractive('df-935a6348-acff-4d0f-92db-12a263de5368')\"\n",
              "              title=\"Convert this dataframe to an interactive table.\"\n",
              "              style=\"display:none;\">\n",
              "\n",
              "  <svg xmlns=\"http://www.w3.org/2000/svg\" height=\"24px\"viewBox=\"0 0 24 24\"\n",
              "       width=\"24px\">\n",
              "    <path d=\"M0 0h24v24H0V0z\" fill=\"none\"/>\n",
              "    <path d=\"M18.56 5.44l.94 2.06.94-2.06 2.06-.94-2.06-.94-.94-2.06-.94 2.06-2.06.94zm-11 1L8.5 8.5l.94-2.06 2.06-.94-2.06-.94L8.5 2.5l-.94 2.06-2.06.94zm10 10l.94 2.06.94-2.06 2.06-.94-2.06-.94-.94-2.06-.94 2.06-2.06.94z\"/><path d=\"M17.41 7.96l-1.37-1.37c-.4-.4-.92-.59-1.43-.59-.52 0-1.04.2-1.43.59L10.3 9.45l-7.72 7.72c-.78.78-.78 2.05 0 2.83L4 21.41c.39.39.9.59 1.41.59.51 0 1.02-.2 1.41-.59l7.78-7.78 2.81-2.81c.8-.78.8-2.07 0-2.86zM5.41 20L4 18.59l7.72-7.72 1.47 1.35L5.41 20z\"/>\n",
              "  </svg>\n",
              "      </button>\n",
              "\n",
              "\n",
              "\n",
              "    <div id=\"df-6f09afcf-41e8-4239-9107-22f91a3197f3\">\n",
              "      <button class=\"colab-df-quickchart\" onclick=\"quickchart('df-6f09afcf-41e8-4239-9107-22f91a3197f3')\"\n",
              "              title=\"Suggest charts.\"\n",
              "              style=\"display:none;\">\n",
              "\n",
              "<svg xmlns=\"http://www.w3.org/2000/svg\" height=\"24px\"viewBox=\"0 0 24 24\"\n",
              "     width=\"24px\">\n",
              "    <g>\n",
              "        <path d=\"M19 3H5c-1.1 0-2 .9-2 2v14c0 1.1.9 2 2 2h14c1.1 0 2-.9 2-2V5c0-1.1-.9-2-2-2zM9 17H7v-7h2v7zm4 0h-2V7h2v10zm4 0h-2v-4h2v4z\"/>\n",
              "    </g>\n",
              "</svg>\n",
              "      </button>\n",
              "    </div>\n",
              "\n",
              "<style>\n",
              "  .colab-df-quickchart {\n",
              "    background-color: #E8F0FE;\n",
              "    border: none;\n",
              "    border-radius: 50%;\n",
              "    cursor: pointer;\n",
              "    display: none;\n",
              "    fill: #1967D2;\n",
              "    height: 32px;\n",
              "    padding: 0 0 0 0;\n",
              "    width: 32px;\n",
              "  }\n",
              "\n",
              "  .colab-df-quickchart:hover {\n",
              "    background-color: #E2EBFA;\n",
              "    box-shadow: 0px 1px 2px rgba(60, 64, 67, 0.3), 0px 1px 3px 1px rgba(60, 64, 67, 0.15);\n",
              "    fill: #174EA6;\n",
              "  }\n",
              "\n",
              "  [theme=dark] .colab-df-quickchart {\n",
              "    background-color: #3B4455;\n",
              "    fill: #D2E3FC;\n",
              "  }\n",
              "\n",
              "  [theme=dark] .colab-df-quickchart:hover {\n",
              "    background-color: #434B5C;\n",
              "    box-shadow: 0px 1px 3px 1px rgba(0, 0, 0, 0.15);\n",
              "    filter: drop-shadow(0px 1px 2px rgba(0, 0, 0, 0.3));\n",
              "    fill: #FFFFFF;\n",
              "  }\n",
              "</style>\n",
              "\n",
              "    <script>\n",
              "      async function quickchart(key) {\n",
              "        const containerElement = document.querySelector('#' + key);\n",
              "        const charts = await google.colab.kernel.invokeFunction(\n",
              "            'suggestCharts', [key], {});\n",
              "      }\n",
              "    </script>\n",
              "\n",
              "      <script>\n",
              "\n",
              "function displayQuickchartButton(domScope) {\n",
              "  let quickchartButtonEl =\n",
              "    domScope.querySelector('#df-6f09afcf-41e8-4239-9107-22f91a3197f3 button.colab-df-quickchart');\n",
              "  quickchartButtonEl.style.display =\n",
              "    google.colab.kernel.accessAllowed ? 'block' : 'none';\n",
              "}\n",
              "\n",
              "        displayQuickchartButton(document);\n",
              "      </script>\n",
              "      <style>\n",
              "    .colab-df-container {\n",
              "      display:flex;\n",
              "      flex-wrap:wrap;\n",
              "      gap: 12px;\n",
              "    }\n",
              "\n",
              "    .colab-df-convert {\n",
              "      background-color: #E8F0FE;\n",
              "      border: none;\n",
              "      border-radius: 50%;\n",
              "      cursor: pointer;\n",
              "      display: none;\n",
              "      fill: #1967D2;\n",
              "      height: 32px;\n",
              "      padding: 0 0 0 0;\n",
              "      width: 32px;\n",
              "    }\n",
              "\n",
              "    .colab-df-convert:hover {\n",
              "      background-color: #E2EBFA;\n",
              "      box-shadow: 0px 1px 2px rgba(60, 64, 67, 0.3), 0px 1px 3px 1px rgba(60, 64, 67, 0.15);\n",
              "      fill: #174EA6;\n",
              "    }\n",
              "\n",
              "    [theme=dark] .colab-df-convert {\n",
              "      background-color: #3B4455;\n",
              "      fill: #D2E3FC;\n",
              "    }\n",
              "\n",
              "    [theme=dark] .colab-df-convert:hover {\n",
              "      background-color: #434B5C;\n",
              "      box-shadow: 0px 1px 3px 1px rgba(0, 0, 0, 0.15);\n",
              "      filter: drop-shadow(0px 1px 2px rgba(0, 0, 0, 0.3));\n",
              "      fill: #FFFFFF;\n",
              "    }\n",
              "  </style>\n",
              "\n",
              "      <script>\n",
              "        const buttonEl =\n",
              "          document.querySelector('#df-935a6348-acff-4d0f-92db-12a263de5368 button.colab-df-convert');\n",
              "        buttonEl.style.display =\n",
              "          google.colab.kernel.accessAllowed ? 'block' : 'none';\n",
              "\n",
              "        async function convertToInteractive(key) {\n",
              "          const element = document.querySelector('#df-935a6348-acff-4d0f-92db-12a263de5368');\n",
              "          const dataTable =\n",
              "            await google.colab.kernel.invokeFunction('convertToInteractive',\n",
              "                                                     [key], {});\n",
              "          if (!dataTable) return;\n",
              "\n",
              "          const docLinkHtml = 'Like what you see? Visit the ' +\n",
              "            '<a target=\"_blank\" href=https://colab.research.google.com/notebooks/data_table.ipynb>data table notebook</a>'\n",
              "            + ' to learn more about interactive tables.';\n",
              "          element.innerHTML = '';\n",
              "          dataTable['output_type'] = 'display_data';\n",
              "          await google.colab.output.renderOutput(dataTable, element);\n",
              "          const docLink = document.createElement('div');\n",
              "          docLink.innerHTML = docLinkHtml;\n",
              "          element.appendChild(docLink);\n",
              "        }\n",
              "      </script>\n",
              "    </div>\n",
              "  </div>\n"
            ],
            "text/plain": [
              "      Regiao - Sigla Estado - Sigla   Municipio  \\\n",
              "1                 NE             BA       IRECE   \n",
              "830               SE             SP     DIADEMA   \n",
              "832               SE             SP     DIADEMA   \n",
              "833               SE             SP     DIADEMA   \n",
              "835               SE             SP       SALTO   \n",
              "...              ...            ...         ...   \n",
              "48986             SE             MG  OURO PRETO   \n",
              "48988             SE             MG  OURO PRETO   \n",
              "48990             NE             BA    CAMACARI   \n",
              "48993             NE             BA    CAMACARI   \n",
              "49040             NE             BA    CAMACARI   \n",
              "\n",
              "                                     Revenda      CNPJ da Revenda  \\\n",
              "1           IRECE DERIVADOS DE PETROLEO LTDA   09.186.976/0001-75   \n",
              "830             POSTO DE SERVICOS 1991 LTDA.   10.308.272/0001-07   \n",
              "832            CENTRO AUTOMOTIVO CAHEMA LTDA   10.276.028/0001-00   \n",
              "833            CENTRO AUTOMOTIVO CAHEMA LTDA   10.276.028/0001-00   \n",
              "835              AUTO POSTO CENTURYCAR LTDA.   10.417.359/0001-12   \n",
              "...                                      ...                  ...   \n",
              "48986             AUTO POSTO OURO PRETO LTDA   01.819.646/0001-68   \n",
              "48988                AUTO POSTO FERRARI LTDA   01.018.631/0001-09   \n",
              "48990                   POSTO CAMAÇARI LTDA.   13.015.680/0001-69   \n",
              "48993       TREVO DERIVADOS DE PETROLEO LTDA   14.486.153/0003-67   \n",
              "49040  ALECRIM COMERCIO DE COMBUSTIVEIS LTDA   29.011.125/0001-07   \n",
              "\n",
              "                   Nome da Rua Numero Rua Complemento             Bairro  \\\n",
              "1           PRACA AIRTON SENNA        285      TERREO             CENTRO   \n",
              "830    AVENIDA ANTONIO PIRANGA       1991         NaN            CANHEMA   \n",
              "832        AVENIDA DOM JOAO VI        296         NaN             TABOAO   \n",
              "833        AVENIDA DOM JOAO VI        296         NaN             TABOAO   \n",
              "835        AVENIDA D. PEDRO II       1153         NaN             CENTRO   \n",
              "...                        ...        ...         ...                ...   \n",
              "48986          RUA PADRE ROLIM       3000         NaN      SAO CRISTOVAO   \n",
              "48988  RUA JOAO BATISTA FORTES         34         NaN              PILAR   \n",
              "48990         AVENIDA RADIAL A    173/178         NaN             CENTRO   \n",
              "48993           VIA PERIMETRAL         SN         NaN  POLO PETROQUIMICO   \n",
              "49040           RUA DO ALECRIM         SN         NaN             CENTRO   \n",
              "\n",
              "             Cep             Produto Data da Coleta Valor de Venda  \\\n",
              "1      44900-000            GASOLINA     2023-06-01           5,39   \n",
              "830    09942-000            GASOLINA     2023-06-01           4,99   \n",
              "832    09940-150  GASOLINA ADITIVADA     2023-06-01           4,89   \n",
              "833    09940-150            GASOLINA     2023-06-01           4,79   \n",
              "835    13320-241            GASOLINA     2023-06-01           4,79   \n",
              "...          ...                 ...            ...            ...   \n",
              "48986  35400-000            GASOLINA     2023-06-30           5,39   \n",
              "48988  35400-000            GASOLINA     2023-06-30           5,49   \n",
              "48990  42800-000  GASOLINA ADITIVADA     2023-06-30           5,64   \n",
              "48993  42810-400            GASOLINA     2023-06-30           5,64   \n",
              "49040  42800-090            GASOLINA     2023-06-30              6   \n",
              "\n",
              "       Valor de Compra Unidade de Medida       Bandeira  \n",
              "1                  NaN        R$ / litro  VIBRA ENERGIA  \n",
              "830                NaN        R$ / litro       IPIRANGA  \n",
              "832                NaN        R$ / litro         BRANCA  \n",
              "833                NaN        R$ / litro         BRANCA  \n",
              "835                NaN        R$ / litro         BRANCA  \n",
              "...                ...               ...            ...  \n",
              "48986              NaN        R$ / litro         RAIZEN  \n",
              "48988              NaN        R$ / litro         BRANCA  \n",
              "48990              NaN        R$ / litro         BRANCA  \n",
              "48993              NaN        R$ / litro  VIBRA ENERGIA  \n",
              "49040              NaN        R$ / litro       IPIRANGA  \n",
              "\n",
              "[33103 rows x 16 columns]"
            ]
          },
          "execution_count": 8,
          "metadata": {},
          "output_type": "execute_result"
        }
      ],
      "source": [
        "tabelas['Data da Coleta'] = pd.to_datetime(tabelas['Data da Coleta'], dayfirst=True)\n",
        "\n",
        "# Filter rows for 'ETANOL' and the month of June\n",
        "gasolina_june = tabelas[(tabelas['Produto'].isin(['GASOLINA', 'GASOLINA ADITIVADA'])) & (tabelas['Data da Coleta'].dt.month == 6)]\n",
        "\n",
        "\n",
        "gasolina_june.sort_values(by='Data da Coleta')"
      ]
    },
    {
      "cell_type": "markdown",
      "metadata": {
        "id": "Ji8D97C-KuPB"
      },
      "source": [
        "MEDIA DE PREÇO GASOLINA MES DE JUNHO"
      ]
    },
    {
      "cell_type": "code",
      "execution_count": null,
      "metadata": {
        "colab": {
          "base_uri": "https://localhost:8080/"
        },
        "id": "FFdIdyorKyCe",
        "outputId": "357b2a54-986c-462f-9c06-905c94e552c9"
      },
      "outputs": [
        {
          "data": {
            "text/plain": [
              "5.47"
            ]
          },
          "execution_count": 46,
          "metadata": {},
          "output_type": "execute_result"
        }
      ],
      "source": [
        "media_gasolina_junho  = gasolina_june['Valor de Venda'].str.replace(',', '.').astype(float).mean()\n",
        "round(media_gasolina_junho ,2)"
      ]
    },
    {
      "cell_type": "markdown",
      "metadata": {
        "id": "hIt3G9a3GaG9"
      },
      "source": [
        "GASOLINAS NO MES DE JULHO"
      ]
    },
    {
      "cell_type": "code",
      "execution_count": null,
      "metadata": {
        "colab": {
          "base_uri": "https://localhost:8080/",
          "height": 659
        },
        "id": "kvKjENF2rbj1",
        "outputId": "ddc9cd09-a77d-442b-d755-cdf950971cc6"
      },
      "outputs": [
        {
          "data": {
            "text/html": [
              "\n",
              "\n",
              "  <div id=\"df-38900db2-4868-4fd5-a9f0-fb93022fd6ae\">\n",
              "    <div class=\"colab-df-container\">\n",
              "      <div>\n",
              "<style scoped>\n",
              "    .dataframe tbody tr th:only-of-type {\n",
              "        vertical-align: middle;\n",
              "    }\n",
              "\n",
              "    .dataframe tbody tr th {\n",
              "        vertical-align: top;\n",
              "    }\n",
              "\n",
              "    .dataframe thead th {\n",
              "        text-align: right;\n",
              "    }\n",
              "</style>\n",
              "<table border=\"1\" class=\"dataframe\">\n",
              "  <thead>\n",
              "    <tr style=\"text-align: right;\">\n",
              "      <th></th>\n",
              "      <th>Regiao - Sigla</th>\n",
              "      <th>Estado - Sigla</th>\n",
              "      <th>Municipio</th>\n",
              "      <th>Revenda</th>\n",
              "      <th>CNPJ da Revenda</th>\n",
              "      <th>Nome da Rua</th>\n",
              "      <th>Numero Rua</th>\n",
              "      <th>Complemento</th>\n",
              "      <th>Bairro</th>\n",
              "      <th>Cep</th>\n",
              "      <th>Produto</th>\n",
              "      <th>Data da Coleta</th>\n",
              "      <th>Valor de Venda</th>\n",
              "      <th>Valor de Compra</th>\n",
              "      <th>Unidade de Medida</th>\n",
              "      <th>Bandeira</th>\n",
              "    </tr>\n",
              "  </thead>\n",
              "  <tbody>\n",
              "    <tr>\n",
              "      <th>49041</th>\n",
              "      <td>SE</td>\n",
              "      <td>SP</td>\n",
              "      <td>SOROCABA</td>\n",
              "      <td>COMPETRO COMERCIO E DISTRIBUICAO DE DERIVADOS ...</td>\n",
              "      <td>00.003.188/0001-21</td>\n",
              "      <td>RUA HUMBERTO DE CAMPOS</td>\n",
              "      <td>306</td>\n",
              "      <td>NaN</td>\n",
              "      <td>JARDIM ZULMIRA</td>\n",
              "      <td>18061-000</td>\n",
              "      <td>GASOLINA</td>\n",
              "      <td>2023-07-03</td>\n",
              "      <td>4,87</td>\n",
              "      <td>NaN</td>\n",
              "      <td>R$ / litro</td>\n",
              "      <td>BRANCA</td>\n",
              "    </tr>\n",
              "    <tr>\n",
              "      <th>51587</th>\n",
              "      <td>SE</td>\n",
              "      <td>SP</td>\n",
              "      <td>SAO PAULO</td>\n",
              "      <td>AUTO POSTO LIRITAPURA LTDA</td>\n",
              "      <td>07.441.746/0001-80</td>\n",
              "      <td>RUA MELO FREIRE</td>\n",
              "      <td>1232</td>\n",
              "      <td>NaN</td>\n",
              "      <td>TATUAPE</td>\n",
              "      <td>03314-030</td>\n",
              "      <td>GASOLINA</td>\n",
              "      <td>2023-07-03</td>\n",
              "      <td>5,99</td>\n",
              "      <td>NaN</td>\n",
              "      <td>R$ / litro</td>\n",
              "      <td>IPIRANGA</td>\n",
              "    </tr>\n",
              "    <tr>\n",
              "      <th>51588</th>\n",
              "      <td>SE</td>\n",
              "      <td>SP</td>\n",
              "      <td>SAO PAULO</td>\n",
              "      <td>AUTO POSTO LIRITAPURA LTDA</td>\n",
              "      <td>07.441.746/0001-80</td>\n",
              "      <td>RUA MELO FREIRE</td>\n",
              "      <td>1232</td>\n",
              "      <td>NaN</td>\n",
              "      <td>TATUAPE</td>\n",
              "      <td>03314-030</td>\n",
              "      <td>GASOLINA ADITIVADA</td>\n",
              "      <td>2023-07-03</td>\n",
              "      <td>6,49</td>\n",
              "      <td>NaN</td>\n",
              "      <td>R$ / litro</td>\n",
              "      <td>IPIRANGA</td>\n",
              "    </tr>\n",
              "    <tr>\n",
              "      <th>51591</th>\n",
              "      <td>SE</td>\n",
              "      <td>MG</td>\n",
              "      <td>JUIZ DE FORA</td>\n",
              "      <td>AUTO POSTO PAPAGAIO LTDA</td>\n",
              "      <td>10.782.507/0001-06</td>\n",
              "      <td>AV. PRESIDENTE JUSCELINO KUBITSCHEK</td>\n",
              "      <td>5553</td>\n",
              "      <td>A</td>\n",
              "      <td>NOVA ERA</td>\n",
              "      <td>36087-000</td>\n",
              "      <td>GASOLINA</td>\n",
              "      <td>2023-07-03</td>\n",
              "      <td>5,79</td>\n",
              "      <td>NaN</td>\n",
              "      <td>R$ / litro</td>\n",
              "      <td>VIBRA ENERGIA</td>\n",
              "    </tr>\n",
              "    <tr>\n",
              "      <th>51592</th>\n",
              "      <td>S</td>\n",
              "      <td>PR</td>\n",
              "      <td>PINHAIS</td>\n",
              "      <td>AUTO POSTO UGANDA LTDA</td>\n",
              "      <td>08.800.828/0001-36</td>\n",
              "      <td>AVENIDA AYRTON SENNA DA SILVA</td>\n",
              "      <td>1158</td>\n",
              "      <td>NaN</td>\n",
              "      <td>PINEVILLE</td>\n",
              "      <td>83320-070</td>\n",
              "      <td>GASOLINA</td>\n",
              "      <td>2023-07-03</td>\n",
              "      <td>5,89</td>\n",
              "      <td>NaN</td>\n",
              "      <td>R$ / litro</td>\n",
              "      <td>BRANCA</td>\n",
              "    </tr>\n",
              "    <tr>\n",
              "      <th>...</th>\n",
              "      <td>...</td>\n",
              "      <td>...</td>\n",
              "      <td>...</td>\n",
              "      <td>...</td>\n",
              "      <td>...</td>\n",
              "      <td>...</td>\n",
              "      <td>...</td>\n",
              "      <td>...</td>\n",
              "      <td>...</td>\n",
              "      <td>...</td>\n",
              "      <td>...</td>\n",
              "      <td>...</td>\n",
              "      <td>...</td>\n",
              "      <td>...</td>\n",
              "      <td>...</td>\n",
              "      <td>...</td>\n",
              "    </tr>\n",
              "    <tr>\n",
              "      <th>98588</th>\n",
              "      <td>SE</td>\n",
              "      <td>MG</td>\n",
              "      <td>SAO JOAO DEL REI</td>\n",
              "      <td>COMERCIO E DISTRIBUICAO SALES LTDA</td>\n",
              "      <td>05.418.619/0013-78</td>\n",
              "      <td>AVENIDA LEITE DE CASTRO</td>\n",
              "      <td>261</td>\n",
              "      <td>A</td>\n",
              "      <td>FABRICAS</td>\n",
              "      <td>36301-182</td>\n",
              "      <td>GASOLINA</td>\n",
              "      <td>2023-07-31</td>\n",
              "      <td>5,25</td>\n",
              "      <td>NaN</td>\n",
              "      <td>R$ / litro</td>\n",
              "      <td>BRANCA</td>\n",
              "    </tr>\n",
              "    <tr>\n",
              "      <th>98589</th>\n",
              "      <td>SE</td>\n",
              "      <td>MG</td>\n",
              "      <td>SAO JOAO DEL REI</td>\n",
              "      <td>COMERCIO E DISTRIBUICAO SALES LTDA</td>\n",
              "      <td>05.418.619/0013-78</td>\n",
              "      <td>AVENIDA LEITE DE CASTRO</td>\n",
              "      <td>261</td>\n",
              "      <td>A</td>\n",
              "      <td>FABRICAS</td>\n",
              "      <td>36301-182</td>\n",
              "      <td>GASOLINA ADITIVADA</td>\n",
              "      <td>2023-07-31</td>\n",
              "      <td>5,25</td>\n",
              "      <td>NaN</td>\n",
              "      <td>R$ / litro</td>\n",
              "      <td>BRANCA</td>\n",
              "    </tr>\n",
              "    <tr>\n",
              "      <th>98591</th>\n",
              "      <td>SE</td>\n",
              "      <td>MG</td>\n",
              "      <td>SAO JOAO DEL REI</td>\n",
              "      <td>POSTO SHARK LTDA</td>\n",
              "      <td>03.128.389/0001-43</td>\n",
              "      <td>RUA JESUS SILVA</td>\n",
              "      <td>445</td>\n",
              "      <td>NaN</td>\n",
              "      <td>MATOSINHOS</td>\n",
              "      <td>36305-160</td>\n",
              "      <td>GASOLINA</td>\n",
              "      <td>2023-07-31</td>\n",
              "      <td>5,2</td>\n",
              "      <td>NaN</td>\n",
              "      <td>R$ / litro</td>\n",
              "      <td>BRANCA</td>\n",
              "    </tr>\n",
              "    <tr>\n",
              "      <th>98813</th>\n",
              "      <td>NE</td>\n",
              "      <td>PE</td>\n",
              "      <td>CARUARU</td>\n",
              "      <td>J E PETROLEO LTDA</td>\n",
              "      <td>01.339.156/0005-98</td>\n",
              "      <td>RUA PROFESSOR AUGUSTO TABOSA</td>\n",
              "      <td>49</td>\n",
              "      <td>NaN</td>\n",
              "      <td>NOSSA SENHORA DAS DORES</td>\n",
              "      <td>55006-020</td>\n",
              "      <td>GASOLINA</td>\n",
              "      <td>2023-07-31</td>\n",
              "      <td>5,39</td>\n",
              "      <td>NaN</td>\n",
              "      <td>R$ / litro</td>\n",
              "      <td>RAIZEN</td>\n",
              "    </tr>\n",
              "    <tr>\n",
              "      <th>152645</th>\n",
              "      <td>S</td>\n",
              "      <td>RS</td>\n",
              "      <td>LAJEADO</td>\n",
              "      <td>SIM REDE DE POSTOS LTDA</td>\n",
              "      <td>07.473.735/0188-03</td>\n",
              "      <td>AVENIDA BENJAMIN CONSTANT</td>\n",
              "      <td>2324</td>\n",
              "      <td>NaN</td>\n",
              "      <td>FLORESTAL</td>\n",
              "      <td>95900-702</td>\n",
              "      <td>GASOLINA ADITIVADA</td>\n",
              "      <td>2023-07-31</td>\n",
              "      <td>5,49</td>\n",
              "      <td>NaN</td>\n",
              "      <td>R$ / litro</td>\n",
              "      <td>CHARRUA</td>\n",
              "    </tr>\n",
              "  </tbody>\n",
              "</table>\n",
              "<p>65505 rows × 16 columns</p>\n",
              "</div>\n",
              "      <button class=\"colab-df-convert\" onclick=\"convertToInteractive('df-38900db2-4868-4fd5-a9f0-fb93022fd6ae')\"\n",
              "              title=\"Convert this dataframe to an interactive table.\"\n",
              "              style=\"display:none;\">\n",
              "\n",
              "  <svg xmlns=\"http://www.w3.org/2000/svg\" height=\"24px\"viewBox=\"0 0 24 24\"\n",
              "       width=\"24px\">\n",
              "    <path d=\"M0 0h24v24H0V0z\" fill=\"none\"/>\n",
              "    <path d=\"M18.56 5.44l.94 2.06.94-2.06 2.06-.94-2.06-.94-.94-2.06-.94 2.06-2.06.94zm-11 1L8.5 8.5l.94-2.06 2.06-.94-2.06-.94L8.5 2.5l-.94 2.06-2.06.94zm10 10l.94 2.06.94-2.06 2.06-.94-2.06-.94-.94-2.06-.94 2.06-2.06.94z\"/><path d=\"M17.41 7.96l-1.37-1.37c-.4-.4-.92-.59-1.43-.59-.52 0-1.04.2-1.43.59L10.3 9.45l-7.72 7.72c-.78.78-.78 2.05 0 2.83L4 21.41c.39.39.9.59 1.41.59.51 0 1.02-.2 1.41-.59l7.78-7.78 2.81-2.81c.8-.78.8-2.07 0-2.86zM5.41 20L4 18.59l7.72-7.72 1.47 1.35L5.41 20z\"/>\n",
              "  </svg>\n",
              "      </button>\n",
              "\n",
              "\n",
              "\n",
              "    <div id=\"df-339cb2b0-92a8-4877-add2-9abb6c246994\">\n",
              "      <button class=\"colab-df-quickchart\" onclick=\"quickchart('df-339cb2b0-92a8-4877-add2-9abb6c246994')\"\n",
              "              title=\"Suggest charts.\"\n",
              "              style=\"display:none;\">\n",
              "\n",
              "<svg xmlns=\"http://www.w3.org/2000/svg\" height=\"24px\"viewBox=\"0 0 24 24\"\n",
              "     width=\"24px\">\n",
              "    <g>\n",
              "        <path d=\"M19 3H5c-1.1 0-2 .9-2 2v14c0 1.1.9 2 2 2h14c1.1 0 2-.9 2-2V5c0-1.1-.9-2-2-2zM9 17H7v-7h2v7zm4 0h-2V7h2v10zm4 0h-2v-4h2v4z\"/>\n",
              "    </g>\n",
              "</svg>\n",
              "      </button>\n",
              "    </div>\n",
              "\n",
              "<style>\n",
              "  .colab-df-quickchart {\n",
              "    background-color: #E8F0FE;\n",
              "    border: none;\n",
              "    border-radius: 50%;\n",
              "    cursor: pointer;\n",
              "    display: none;\n",
              "    fill: #1967D2;\n",
              "    height: 32px;\n",
              "    padding: 0 0 0 0;\n",
              "    width: 32px;\n",
              "  }\n",
              "\n",
              "  .colab-df-quickchart:hover {\n",
              "    background-color: #E2EBFA;\n",
              "    box-shadow: 0px 1px 2px rgba(60, 64, 67, 0.3), 0px 1px 3px 1px rgba(60, 64, 67, 0.15);\n",
              "    fill: #174EA6;\n",
              "  }\n",
              "\n",
              "  [theme=dark] .colab-df-quickchart {\n",
              "    background-color: #3B4455;\n",
              "    fill: #D2E3FC;\n",
              "  }\n",
              "\n",
              "  [theme=dark] .colab-df-quickchart:hover {\n",
              "    background-color: #434B5C;\n",
              "    box-shadow: 0px 1px 3px 1px rgba(0, 0, 0, 0.15);\n",
              "    filter: drop-shadow(0px 1px 2px rgba(0, 0, 0, 0.3));\n",
              "    fill: #FFFFFF;\n",
              "  }\n",
              "</style>\n",
              "\n",
              "    <script>\n",
              "      async function quickchart(key) {\n",
              "        const containerElement = document.querySelector('#' + key);\n",
              "        const charts = await google.colab.kernel.invokeFunction(\n",
              "            'suggestCharts', [key], {});\n",
              "      }\n",
              "    </script>\n",
              "\n",
              "      <script>\n",
              "\n",
              "function displayQuickchartButton(domScope) {\n",
              "  let quickchartButtonEl =\n",
              "    domScope.querySelector('#df-339cb2b0-92a8-4877-add2-9abb6c246994 button.colab-df-quickchart');\n",
              "  quickchartButtonEl.style.display =\n",
              "    google.colab.kernel.accessAllowed ? 'block' : 'none';\n",
              "}\n",
              "\n",
              "        displayQuickchartButton(document);\n",
              "      </script>\n",
              "      <style>\n",
              "    .colab-df-container {\n",
              "      display:flex;\n",
              "      flex-wrap:wrap;\n",
              "      gap: 12px;\n",
              "    }\n",
              "\n",
              "    .colab-df-convert {\n",
              "      background-color: #E8F0FE;\n",
              "      border: none;\n",
              "      border-radius: 50%;\n",
              "      cursor: pointer;\n",
              "      display: none;\n",
              "      fill: #1967D2;\n",
              "      height: 32px;\n",
              "      padding: 0 0 0 0;\n",
              "      width: 32px;\n",
              "    }\n",
              "\n",
              "    .colab-df-convert:hover {\n",
              "      background-color: #E2EBFA;\n",
              "      box-shadow: 0px 1px 2px rgba(60, 64, 67, 0.3), 0px 1px 3px 1px rgba(60, 64, 67, 0.15);\n",
              "      fill: #174EA6;\n",
              "    }\n",
              "\n",
              "    [theme=dark] .colab-df-convert {\n",
              "      background-color: #3B4455;\n",
              "      fill: #D2E3FC;\n",
              "    }\n",
              "\n",
              "    [theme=dark] .colab-df-convert:hover {\n",
              "      background-color: #434B5C;\n",
              "      box-shadow: 0px 1px 3px 1px rgba(0, 0, 0, 0.15);\n",
              "      filter: drop-shadow(0px 1px 2px rgba(0, 0, 0, 0.3));\n",
              "      fill: #FFFFFF;\n",
              "    }\n",
              "  </style>\n",
              "\n",
              "      <script>\n",
              "        const buttonEl =\n",
              "          document.querySelector('#df-38900db2-4868-4fd5-a9f0-fb93022fd6ae button.colab-df-convert');\n",
              "        buttonEl.style.display =\n",
              "          google.colab.kernel.accessAllowed ? 'block' : 'none';\n",
              "\n",
              "        async function convertToInteractive(key) {\n",
              "          const element = document.querySelector('#df-38900db2-4868-4fd5-a9f0-fb93022fd6ae');\n",
              "          const dataTable =\n",
              "            await google.colab.kernel.invokeFunction('convertToInteractive',\n",
              "                                                     [key], {});\n",
              "          if (!dataTable) return;\n",
              "\n",
              "          const docLinkHtml = 'Like what you see? Visit the ' +\n",
              "            '<a target=\"_blank\" href=https://colab.research.google.com/notebooks/data_table.ipynb>data table notebook</a>'\n",
              "            + ' to learn more about interactive tables.';\n",
              "          element.innerHTML = '';\n",
              "          dataTable['output_type'] = 'display_data';\n",
              "          await google.colab.output.renderOutput(dataTable, element);\n",
              "          const docLink = document.createElement('div');\n",
              "          docLink.innerHTML = docLinkHtml;\n",
              "          element.appendChild(docLink);\n",
              "        }\n",
              "      </script>\n",
              "    </div>\n",
              "  </div>\n"
            ],
            "text/plain": [
              "       Regiao - Sigla Estado - Sigla         Municipio  \\\n",
              "49041              SE             SP          SOROCABA   \n",
              "51587              SE             SP         SAO PAULO   \n",
              "51588              SE             SP         SAO PAULO   \n",
              "51591              SE             MG      JUIZ DE FORA   \n",
              "51592               S             PR           PINHAIS   \n",
              "...               ...            ...               ...   \n",
              "98588              SE             MG  SAO JOAO DEL REI   \n",
              "98589              SE             MG  SAO JOAO DEL REI   \n",
              "98591              SE             MG  SAO JOAO DEL REI   \n",
              "98813              NE             PE           CARUARU   \n",
              "152645              S             RS           LAJEADO   \n",
              "\n",
              "                                                  Revenda  \\\n",
              "49041   COMPETRO COMERCIO E DISTRIBUICAO DE DERIVADOS ...   \n",
              "51587                          AUTO POSTO LIRITAPURA LTDA   \n",
              "51588                          AUTO POSTO LIRITAPURA LTDA   \n",
              "51591                            AUTO POSTO PAPAGAIO LTDA   \n",
              "51592                              AUTO POSTO UGANDA LTDA   \n",
              "...                                                   ...   \n",
              "98588                  COMERCIO E DISTRIBUICAO SALES LTDA   \n",
              "98589                  COMERCIO E DISTRIBUICAO SALES LTDA   \n",
              "98591                                    POSTO SHARK LTDA   \n",
              "98813                                   J E PETROLEO LTDA   \n",
              "152645                            SIM REDE DE POSTOS LTDA   \n",
              "\n",
              "            CNPJ da Revenda                          Nome da Rua Numero Rua  \\\n",
              "49041    00.003.188/0001-21               RUA HUMBERTO DE CAMPOS        306   \n",
              "51587    07.441.746/0001-80                      RUA MELO FREIRE       1232   \n",
              "51588    07.441.746/0001-80                      RUA MELO FREIRE       1232   \n",
              "51591    10.782.507/0001-06  AV. PRESIDENTE JUSCELINO KUBITSCHEK       5553   \n",
              "51592    08.800.828/0001-36        AVENIDA AYRTON SENNA DA SILVA       1158   \n",
              "...                     ...                                  ...        ...   \n",
              "98588    05.418.619/0013-78              AVENIDA LEITE DE CASTRO        261   \n",
              "98589    05.418.619/0013-78              AVENIDA LEITE DE CASTRO        261   \n",
              "98591    03.128.389/0001-43                      RUA JESUS SILVA        445   \n",
              "98813    01.339.156/0005-98         RUA PROFESSOR AUGUSTO TABOSA         49   \n",
              "152645   07.473.735/0188-03            AVENIDA BENJAMIN CONSTANT       2324   \n",
              "\n",
              "       Complemento                   Bairro        Cep             Produto  \\\n",
              "49041          NaN           JARDIM ZULMIRA  18061-000            GASOLINA   \n",
              "51587          NaN                  TATUAPE  03314-030            GASOLINA   \n",
              "51588          NaN                  TATUAPE  03314-030  GASOLINA ADITIVADA   \n",
              "51591            A                 NOVA ERA  36087-000            GASOLINA   \n",
              "51592          NaN                PINEVILLE  83320-070            GASOLINA   \n",
              "...            ...                      ...        ...                 ...   \n",
              "98588            A                 FABRICAS  36301-182            GASOLINA   \n",
              "98589            A                 FABRICAS  36301-182  GASOLINA ADITIVADA   \n",
              "98591          NaN               MATOSINHOS  36305-160            GASOLINA   \n",
              "98813          NaN  NOSSA SENHORA DAS DORES  55006-020            GASOLINA   \n",
              "152645         NaN                FLORESTAL  95900-702  GASOLINA ADITIVADA   \n",
              "\n",
              "       Data da Coleta Valor de Venda  Valor de Compra Unidade de Medida  \\\n",
              "49041      2023-07-03           4,87              NaN        R$ / litro   \n",
              "51587      2023-07-03           5,99              NaN        R$ / litro   \n",
              "51588      2023-07-03           6,49              NaN        R$ / litro   \n",
              "51591      2023-07-03           5,79              NaN        R$ / litro   \n",
              "51592      2023-07-03           5,89              NaN        R$ / litro   \n",
              "...               ...            ...              ...               ...   \n",
              "98588      2023-07-31           5,25              NaN        R$ / litro   \n",
              "98589      2023-07-31           5,25              NaN        R$ / litro   \n",
              "98591      2023-07-31            5,2              NaN        R$ / litro   \n",
              "98813      2023-07-31           5,39              NaN        R$ / litro   \n",
              "152645     2023-07-31           5,49              NaN        R$ / litro   \n",
              "\n",
              "             Bandeira  \n",
              "49041          BRANCA  \n",
              "51587        IPIRANGA  \n",
              "51588        IPIRANGA  \n",
              "51591   VIBRA ENERGIA  \n",
              "51592          BRANCA  \n",
              "...               ...  \n",
              "98588          BRANCA  \n",
              "98589          BRANCA  \n",
              "98591          BRANCA  \n",
              "98813          RAIZEN  \n",
              "152645        CHARRUA  \n",
              "\n",
              "[65505 rows x 16 columns]"
            ]
          },
          "execution_count": 9,
          "metadata": {},
          "output_type": "execute_result"
        }
      ],
      "source": [
        "tabelas['Data da Coleta'] = pd.to_datetime(tabelas['Data da Coleta'], dayfirst=True)\n",
        "\n",
        "# Filter rows for 'ETANOL' and the month of June\n",
        "gasolina_julho = tabelas[(tabelas['Produto'].isin(['GASOLINA', 'GASOLINA ADITIVADA'])) & (tabelas['Data da Coleta'].dt.month == 7)]\n",
        "\n",
        "\n",
        "gasolina_julho.sort_values(by='Data da Coleta')"
      ]
    },
    {
      "cell_type": "markdown",
      "metadata": {
        "id": "vK8SOk1aLDWa"
      },
      "source": [
        "MEDIA DE PREÇO GASOLINA MES DE JULHO"
      ]
    },
    {
      "cell_type": "code",
      "execution_count": null,
      "metadata": {
        "colab": {
          "base_uri": "https://localhost:8080/"
        },
        "id": "LZJZ6v9MLIkC",
        "outputId": "c4ff9b1e-1b04-4b7d-864f-6210ee59cecd"
      },
      "outputs": [
        {
          "data": {
            "text/plain": [
              "5.68"
            ]
          },
          "execution_count": 47,
          "metadata": {},
          "output_type": "execute_result"
        }
      ],
      "source": [
        "media_gasolina_julho  = gasolina_julho['Valor de Venda'].str.replace(',', '.').astype(float).mean()\n",
        "round(media_gasolina_julho ,3)"
      ]
    },
    {
      "cell_type": "markdown",
      "metadata": {
        "id": "TooxxguVN116"
      },
      "source": []
    },
    {
      "cell_type": "code",
      "execution_count": null,
      "metadata": {
        "colab": {
          "base_uri": "https://localhost:8080/"
        },
        "id": "6YUHRj4_gmzl",
        "outputId": "9cd50e77-03c6-4d77-dc10-7604e6e3b8a6"
      },
      "outputs": [
        {
          "name": "stdout",
          "output_type": "stream",
          "text": [
            "Matriz de correlação:\n",
            "A   -1.0\n",
            "B   -1.0\n",
            "dtype: float64\n"
          ]
        }
      ],
      "source": [
        "import pandas as pd\n",
        "\n",
        "# Criar dois DataFrames de exemplo\n",
        "data1 = {'A': [1, 2, 3, 4, 5],\n",
        "         'B': [5, 4, 3, 2, 1]}\n",
        "df1 = pd.DataFrame(data1)\n",
        "\n",
        "data2 = {'A': [5, 4, 3, 2, 1],\n",
        "         'B': [1, 2, 3, 4, 5]}\n",
        "df2 = pd.DataFrame(data2)\n",
        "\n",
        "# Calcular a correlação entre os DataFrames\n",
        "correlation_matrix = df1.corrwith(df2)\n",
        "\n",
        "print(\"Matriz de correlação:\")\n",
        "print(correlation_matrix)\n"
      ]
    },
    {
      "cell_type": "code",
      "execution_count": null,
      "metadata": {
        "colab": {
          "base_uri": "https://localhost:8080/"
        },
        "id": "boB_Uyz-g3gf",
        "outputId": "e513dacd-0945-4e0b-a939-b0adde6c3fe0"
      },
      "outputs": [
        {
          "data": {
            "text/plain": [
              "65505"
            ]
          },
          "execution_count": 55,
          "metadata": {},
          "output_type": "execute_result"
        }
      ],
      "source": [
        "gasolina_julho['Valor de Venda'].count()\n"
      ]
    },
    {
      "cell_type": "code",
      "execution_count": null,
      "metadata": {
        "colab": {
          "base_uri": "https://localhost:8080/"
        },
        "id": "WUacIUAmhDq9",
        "outputId": "433348e9-2b71-4c43-fa50-896307e6566b"
      },
      "outputs": [
        {
          "data": {
            "text/plain": [
              "31305"
            ]
          },
          "execution_count": 56,
          "metadata": {},
          "output_type": "execute_result"
        }
      ],
      "source": [
        "etanol_julho['Valor de Venda'].count()"
      ]
    },
    {
      "cell_type": "code",
      "execution_count": null,
      "metadata": {
        "id": "VjHJu9lOhFX4"
      },
      "outputs": [],
      "source": [
        "ga = gasolina_julho['Valor de Venda'].sample(50)\n",
        "ea = etanol_julho['Valor de Venda'].sample(50)"
      ]
    },
    {
      "cell_type": "code",
      "execution_count": null,
      "metadata": {
        "colab": {
          "base_uri": "https://localhost:8080/",
          "height": 373
        },
        "id": "VshhgMyZhi4z",
        "outputId": "a1515439-888c-4065-8c51-682acfad8d07"
      },
      "outputs": [
        {
          "ename": "ValueError",
          "evalue": "ignored",
          "output_type": "error",
          "traceback": [
            "\u001b[0;31m---------------------------------------------------------------------------\u001b[0m",
            "\u001b[0;31mValueError\u001b[0m                                Traceback (most recent call last)",
            "\u001b[0;32m<ipython-input-76-e4f91c8c44d8>\u001b[0m in \u001b[0;36m<cell line: 1>\u001b[0;34m()\u001b[0m\n\u001b[0;32m----> 1\u001b[0;31m \u001b[0mga\u001b[0m \u001b[0;34m=\u001b[0m \u001b[0mpd\u001b[0m\u001b[0;34m.\u001b[0m\u001b[0mDataFrame\u001b[0m\u001b[0;34m(\u001b[0m\u001b[0;34m{\u001b[0m\u001b[0;34m'valor'\u001b[0m\u001b[0;34m:\u001b[0m \u001b[0mga\u001b[0m\u001b[0;34m.\u001b[0m\u001b[0mvalues\u001b[0m\u001b[0;34m}\u001b[0m\u001b[0;34m)\u001b[0m\u001b[0;34m\u001b[0m\u001b[0;34m\u001b[0m\u001b[0m\n\u001b[0m\u001b[1;32m      2\u001b[0m \u001b[0;34m\u001b[0m\u001b[0m\n\u001b[1;32m      3\u001b[0m \u001b[0;31m# Resetar o índice do DataFrame \"ga\"\u001b[0m\u001b[0;34m\u001b[0m\u001b[0;34m\u001b[0m\u001b[0m\n\u001b[1;32m      4\u001b[0m \u001b[0mga\u001b[0m\u001b[0;34m.\u001b[0m\u001b[0mreset_index\u001b[0m\u001b[0;34m(\u001b[0m\u001b[0mdrop\u001b[0m\u001b[0;34m=\u001b[0m\u001b[0;32mTrue\u001b[0m\u001b[0;34m,\u001b[0m \u001b[0minplace\u001b[0m\u001b[0;34m=\u001b[0m\u001b[0;32mTrue\u001b[0m\u001b[0;34m)\u001b[0m\u001b[0;34m\u001b[0m\u001b[0;34m\u001b[0m\u001b[0m\n",
            "\u001b[0;32m/usr/local/lib/python3.10/dist-packages/pandas/core/frame.py\u001b[0m in \u001b[0;36m__init__\u001b[0;34m(self, data, index, columns, dtype, copy)\u001b[0m\n\u001b[1;32m    662\u001b[0m         \u001b[0;32melif\u001b[0m \u001b[0misinstance\u001b[0m\u001b[0;34m(\u001b[0m\u001b[0mdata\u001b[0m\u001b[0;34m,\u001b[0m \u001b[0mdict\u001b[0m\u001b[0;34m)\u001b[0m\u001b[0;34m:\u001b[0m\u001b[0;34m\u001b[0m\u001b[0;34m\u001b[0m\u001b[0m\n\u001b[1;32m    663\u001b[0m             \u001b[0;31m# GH#38939 de facto copy defaults to False only in non-dict cases\u001b[0m\u001b[0;34m\u001b[0m\u001b[0;34m\u001b[0m\u001b[0m\n\u001b[0;32m--> 664\u001b[0;31m             \u001b[0mmgr\u001b[0m \u001b[0;34m=\u001b[0m \u001b[0mdict_to_mgr\u001b[0m\u001b[0;34m(\u001b[0m\u001b[0mdata\u001b[0m\u001b[0;34m,\u001b[0m \u001b[0mindex\u001b[0m\u001b[0;34m,\u001b[0m \u001b[0mcolumns\u001b[0m\u001b[0;34m,\u001b[0m \u001b[0mdtype\u001b[0m\u001b[0;34m=\u001b[0m\u001b[0mdtype\u001b[0m\u001b[0;34m,\u001b[0m \u001b[0mcopy\u001b[0m\u001b[0;34m=\u001b[0m\u001b[0mcopy\u001b[0m\u001b[0;34m,\u001b[0m \u001b[0mtyp\u001b[0m\u001b[0;34m=\u001b[0m\u001b[0mmanager\u001b[0m\u001b[0;34m)\u001b[0m\u001b[0;34m\u001b[0m\u001b[0;34m\u001b[0m\u001b[0m\n\u001b[0m\u001b[1;32m    665\u001b[0m         \u001b[0;32melif\u001b[0m \u001b[0misinstance\u001b[0m\u001b[0;34m(\u001b[0m\u001b[0mdata\u001b[0m\u001b[0;34m,\u001b[0m \u001b[0mma\u001b[0m\u001b[0;34m.\u001b[0m\u001b[0mMaskedArray\u001b[0m\u001b[0;34m)\u001b[0m\u001b[0;34m:\u001b[0m\u001b[0;34m\u001b[0m\u001b[0;34m\u001b[0m\u001b[0m\n\u001b[1;32m    666\u001b[0m             \u001b[0;32mimport\u001b[0m \u001b[0mnumpy\u001b[0m\u001b[0;34m.\u001b[0m\u001b[0mma\u001b[0m\u001b[0;34m.\u001b[0m\u001b[0mmrecords\u001b[0m \u001b[0;32mas\u001b[0m \u001b[0mmrecords\u001b[0m\u001b[0;34m\u001b[0m\u001b[0;34m\u001b[0m\u001b[0m\n",
            "\u001b[0;32m/usr/local/lib/python3.10/dist-packages/pandas/core/internals/construction.py\u001b[0m in \u001b[0;36mdict_to_mgr\u001b[0;34m(data, index, columns, dtype, typ, copy)\u001b[0m\n\u001b[1;32m    491\u001b[0m             \u001b[0marrays\u001b[0m \u001b[0;34m=\u001b[0m \u001b[0;34m[\u001b[0m\u001b[0mx\u001b[0m\u001b[0;34m.\u001b[0m\u001b[0mcopy\u001b[0m\u001b[0;34m(\u001b[0m\u001b[0;34m)\u001b[0m \u001b[0;32mif\u001b[0m \u001b[0mhasattr\u001b[0m\u001b[0;34m(\u001b[0m\u001b[0mx\u001b[0m\u001b[0;34m,\u001b[0m \u001b[0;34m\"dtype\"\u001b[0m\u001b[0;34m)\u001b[0m \u001b[0;32melse\u001b[0m \u001b[0mx\u001b[0m \u001b[0;32mfor\u001b[0m \u001b[0mx\u001b[0m \u001b[0;32min\u001b[0m \u001b[0marrays\u001b[0m\u001b[0;34m]\u001b[0m\u001b[0;34m\u001b[0m\u001b[0;34m\u001b[0m\u001b[0m\n\u001b[1;32m    492\u001b[0m \u001b[0;34m\u001b[0m\u001b[0m\n\u001b[0;32m--> 493\u001b[0;31m     \u001b[0;32mreturn\u001b[0m \u001b[0marrays_to_mgr\u001b[0m\u001b[0;34m(\u001b[0m\u001b[0marrays\u001b[0m\u001b[0;34m,\u001b[0m \u001b[0mcolumns\u001b[0m\u001b[0;34m,\u001b[0m \u001b[0mindex\u001b[0m\u001b[0;34m,\u001b[0m \u001b[0mdtype\u001b[0m\u001b[0;34m=\u001b[0m\u001b[0mdtype\u001b[0m\u001b[0;34m,\u001b[0m \u001b[0mtyp\u001b[0m\u001b[0;34m=\u001b[0m\u001b[0mtyp\u001b[0m\u001b[0;34m,\u001b[0m \u001b[0mconsolidate\u001b[0m\u001b[0;34m=\u001b[0m\u001b[0mcopy\u001b[0m\u001b[0;34m)\u001b[0m\u001b[0;34m\u001b[0m\u001b[0;34m\u001b[0m\u001b[0m\n\u001b[0m\u001b[1;32m    494\u001b[0m \u001b[0;34m\u001b[0m\u001b[0m\n\u001b[1;32m    495\u001b[0m \u001b[0;34m\u001b[0m\u001b[0m\n",
            "\u001b[0;32m/usr/local/lib/python3.10/dist-packages/pandas/core/internals/construction.py\u001b[0m in \u001b[0;36marrays_to_mgr\u001b[0;34m(arrays, columns, index, dtype, verify_integrity, typ, consolidate)\u001b[0m\n\u001b[1;32m    116\u001b[0m         \u001b[0;31m# figure out the index, if necessary\u001b[0m\u001b[0;34m\u001b[0m\u001b[0;34m\u001b[0m\u001b[0m\n\u001b[1;32m    117\u001b[0m         \u001b[0;32mif\u001b[0m \u001b[0mindex\u001b[0m \u001b[0;32mis\u001b[0m \u001b[0;32mNone\u001b[0m\u001b[0;34m:\u001b[0m\u001b[0;34m\u001b[0m\u001b[0;34m\u001b[0m\u001b[0m\n\u001b[0;32m--> 118\u001b[0;31m             \u001b[0mindex\u001b[0m \u001b[0;34m=\u001b[0m \u001b[0m_extract_index\u001b[0m\u001b[0;34m(\u001b[0m\u001b[0marrays\u001b[0m\u001b[0;34m)\u001b[0m\u001b[0;34m\u001b[0m\u001b[0;34m\u001b[0m\u001b[0m\n\u001b[0m\u001b[1;32m    119\u001b[0m         \u001b[0;32melse\u001b[0m\u001b[0;34m:\u001b[0m\u001b[0;34m\u001b[0m\u001b[0;34m\u001b[0m\u001b[0m\n\u001b[1;32m    120\u001b[0m             \u001b[0mindex\u001b[0m \u001b[0;34m=\u001b[0m \u001b[0mensure_index\u001b[0m\u001b[0;34m(\u001b[0m\u001b[0mindex\u001b[0m\u001b[0;34m)\u001b[0m\u001b[0;34m\u001b[0m\u001b[0;34m\u001b[0m\u001b[0m\n",
            "\u001b[0;32m/usr/local/lib/python3.10/dist-packages/pandas/core/internals/construction.py\u001b[0m in \u001b[0;36m_extract_index\u001b[0;34m(data)\u001b[0m\n\u001b[1;32m    651\u001b[0m                 \u001b[0mraw_lengths\u001b[0m\u001b[0;34m.\u001b[0m\u001b[0mappend\u001b[0m\u001b[0;34m(\u001b[0m\u001b[0mlen\u001b[0m\u001b[0;34m(\u001b[0m\u001b[0mval\u001b[0m\u001b[0;34m)\u001b[0m\u001b[0;34m)\u001b[0m\u001b[0;34m\u001b[0m\u001b[0;34m\u001b[0m\u001b[0m\n\u001b[1;32m    652\u001b[0m             \u001b[0;32melif\u001b[0m \u001b[0misinstance\u001b[0m\u001b[0;34m(\u001b[0m\u001b[0mval\u001b[0m\u001b[0;34m,\u001b[0m \u001b[0mnp\u001b[0m\u001b[0;34m.\u001b[0m\u001b[0mndarray\u001b[0m\u001b[0;34m)\u001b[0m \u001b[0;32mand\u001b[0m \u001b[0mval\u001b[0m\u001b[0;34m.\u001b[0m\u001b[0mndim\u001b[0m \u001b[0;34m>\u001b[0m \u001b[0;36m1\u001b[0m\u001b[0;34m:\u001b[0m\u001b[0;34m\u001b[0m\u001b[0;34m\u001b[0m\u001b[0m\n\u001b[0;32m--> 653\u001b[0;31m                 \u001b[0;32mraise\u001b[0m \u001b[0mValueError\u001b[0m\u001b[0;34m(\u001b[0m\u001b[0;34m\"Per-column arrays must each be 1-dimensional\"\u001b[0m\u001b[0;34m)\u001b[0m\u001b[0;34m\u001b[0m\u001b[0;34m\u001b[0m\u001b[0m\n\u001b[0m\u001b[1;32m    654\u001b[0m \u001b[0;34m\u001b[0m\u001b[0m\n\u001b[1;32m    655\u001b[0m         \u001b[0;32mif\u001b[0m \u001b[0;32mnot\u001b[0m \u001b[0mindexes\u001b[0m \u001b[0;32mand\u001b[0m \u001b[0;32mnot\u001b[0m \u001b[0mraw_lengths\u001b[0m\u001b[0;34m:\u001b[0m\u001b[0;34m\u001b[0m\u001b[0;34m\u001b[0m\u001b[0m\n",
            "\u001b[0;31mValueError\u001b[0m: Per-column arrays must each be 1-dimensional"
          ]
        }
      ],
      "source": [
        "ga = pd.DataFrame({'valor': ga.values})\n",
        "\n",
        "# Resetar o índice do DataFrame \"ga\"\n",
        "ga.reset_index(drop=True, inplace=True)\n"
      ]
    },
    {
      "cell_type": "code",
      "execution_count": null,
      "metadata": {
        "id": "1130y8JQiQ6M"
      },
      "outputs": [],
      "source": [
        "ea = pd.DataFrame({'valor': ea.values})\n",
        "\n",
        "# Resetar o índice do DataFrame \"ea\"\n",
        "ea.reset_index(drop=True, inplace=True)"
      ]
    },
    {
      "cell_type": "code",
      "execution_count": null,
      "metadata": {
        "colab": {
          "base_uri": "https://localhost:8080/"
        },
        "id": "rVmJc-D6iMyB",
        "outputId": "aac3d347-0b14-49e9-9eef-50cde1d19ac5"
      },
      "outputs": [
        {
          "name": "stdout",
          "output_type": "stream",
          "text": [
            "    valor\n",
            "0    3.99\n",
            "1    4.29\n",
            "2    3.49\n",
            "3    3.66\n",
            "4    3.99\n",
            "5    3.53\n",
            "6    3.98\n",
            "7    4.59\n",
            "8    4.89\n",
            "9    4.79\n",
            "10   4.39\n",
            "11   4.49\n",
            "12   4.39\n",
            "13   5.09\n",
            "14   3.59\n",
            "15   3.79\n",
            "16   3.49\n",
            "17   4.26\n",
            "18   4.29\n",
            "19   3.57\n",
            "20   3.49\n",
            "21   4.99\n",
            "22   3.89\n",
            "23   4.59\n",
            "24   3.39\n",
            "25   4.49\n",
            "26   4.99\n",
            "27   4.09\n",
            "28   3.59\n",
            "29   3.67\n",
            "30   3.45\n",
            "31   4.49\n",
            "32   3.55\n",
            "33   4.09\n",
            "34   4.49\n",
            "35   3.99\n",
            "36   4.39\n",
            "37   3.96\n",
            "38   3.84\n",
            "39   5.51\n",
            "40   3.99\n",
            "41   4.18\n",
            "42   4.55\n",
            "43   4.69\n",
            "44   3.87\n",
            "45   3.69\n",
            "46   3.69\n",
            "47   4.59\n",
            "48   3.89\n",
            "49   4.39\n"
          ]
        }
      ],
      "source": [
        "print(ea)"
      ]
    },
    {
      "cell_type": "code",
      "execution_count": null,
      "metadata": {
        "colab": {
          "base_uri": "https://localhost:8080/"
        },
        "id": "LC67GPVnhQOW",
        "outputId": "5d63766c-0503-4713-da8f-f05170ea5cc6"
      },
      "outputs": [
        {
          "data": {
            "text/plain": [
              "-0.2275095945533276"
            ]
          },
          "execution_count": 83,
          "metadata": {},
          "output_type": "execute_result"
        }
      ],
      "source": [
        "correlation = ga['valor'].corr(ea['valor'])\n",
        "correlation"
      ]
    }
  ],
  "metadata": {
    "colab": {
      "provenance": []
    },
    "kernelspec": {
      "display_name": "Python 3",
      "name": "python3"
    },
    "language_info": {
      "codemirror_mode": {
        "name": "ipython",
        "version": 3
      },
      "file_extension": ".py",
      "mimetype": "text/x-python",
      "name": "python",
      "nbconvert_exporter": "python",
      "pygments_lexer": "ipython3",
      "version": "3.11.4"
    }
  },
  "nbformat": 4,
  "nbformat_minor": 0
}
