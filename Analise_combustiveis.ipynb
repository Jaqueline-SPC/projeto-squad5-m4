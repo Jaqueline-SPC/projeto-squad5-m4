{
  "cells": [
    {
      "cell_type": "markdown",
      "metadata": {},
      "source": [
        "# <font color ='gold'><font size=6>**_Análise Exploratória: Preços dos Combustíveis no Brasil (Maio-Junho/2023)_** </font>"
      ]
    },
    {
      "cell_type": "markdown",
      "metadata": {},
      "source": [
        "## **<font color ='gold'><font size=5>1. Descrição e Objetivo do Projeto</font>** "
      ]
    },
    {
      "cell_type": "markdown",
      "metadata": {},
      "source": [
        "### Espaço para texto "
      ]
    },
    {
      "cell_type": "markdown",
      "metadata": {
        "id": "LLXws2llRx38"
      },
      "source": [
        "## **<font color ='gold'><font size=5>2. Coleta e análise dos dados</font>** \n",
        "\n",
        "**Primeiramente, para podermos iniciar nossos trabalhos, iremos coletar nossos dados e ter nosso primeiro contato com eles, compreendendo suas características que o definem e sua estrutura.**\n"
      ]
    },
    {
      "cell_type": "markdown",
      "metadata": {},
      "source": [
        "- **Importação das bibliotecas que serão utilizadas** "
      ]
    },
    {
      "cell_type": "code",
      "execution_count": 1,
      "metadata": {
        "id": "aGx3cRDeQMvO"
      },
      "outputs": [],
      "source": [
        "import pandas as pd\n",
        "\n",
        "import numpy as np\n",
        "import matplotlib\n",
        "import matplotlib.pyplot as plt\n",
        "import seaborn as sns\n",
        "from datetime import datetime\n"
      ]
    },
    {
      "cell_type": "markdown",
      "metadata": {},
      "source": [
        "- **Agora que já importamos todas as bibliotecas, Vamos coletar nossos dados através dos arquivos csv que estão hospedados no domínio da <font color ='red'>**ANP**</font> e juntá-los num dataframe chamado <font color ='9E36CE'>**Combustiveis**</font>**"
      ]
    },
    {
      "cell_type": "code",
      "execution_count": 71,
      "metadata": {
        "colab": {
          "base_uri": "https://localhost:8080/"
        },
        "id": "6fg6Bt4-QQiF",
        "outputId": "06df07b3-c18d-4b3f-a4e1-12dcebce89b1"
      },
      "outputs": [],
      "source": [
        "# Importando os dados de Maio\n",
        "combustiveis_maio = pd.read_csv(\"https://www.gov.br/anp/pt-br/centrais-de-conteudo/dados-abertos/arquivos/shpc/dsan/2023/precos-gasolina-etanol-05.csv\", sep=(\";\"))\n",
        "# Importando os dados de Junho\n",
        "combustiveis_junho = pd.read_csv(\"https://www.gov.br/anp/pt-br/centrais-de-conteudo/dados-abertos/arquivos/shpc/dsan/2023/precos-gasolina-etanol-06.csv\", sep=(\";\"))\n",
        "\n",
        "# Concatenando os dados\n",
        "combustiveis = pd.concat([combustiveis_maio, combustiveis_junho,], ignore_index=True)\n"
      ]
    },
    {
      "cell_type": "markdown",
      "metadata": {},
      "source": [
        "- **Vamos usar o comando <font color='9E36CE'>**combustiveis.shape**</font> para saber a dimensão do nosso dataframe**"
      ]
    },
    {
      "cell_type": "code",
      "execution_count": 73,
      "metadata": {
        "colab": {
          "base_uri": "https://localhost:8080/"
        },
        "id": "DgEH5FsfRsrV",
        "outputId": "c02512a5-498d-442e-845f-64b47fc74e82"
      },
      "outputs": [
        {
          "data": {
            "text/plain": [
              "(107531, 16)"
            ]
          },
          "execution_count": 73,
          "metadata": {},
          "output_type": "execute_result"
        }
      ],
      "source": [
        "combustiveis.shape"
      ]
    },
    {
      "cell_type": "markdown",
      "metadata": {},
      "source": [
        "Com essa checagem, podemos verificar que nosso DataSet contém **_107531_** linhas/registros por **_16_** colunas/variáveis."
      ]
    },
    {
      "cell_type": "markdown",
      "metadata": {},
      "source": [
        "## **<font color ='gold' size=5>3. Tratamento do Dados</font>**"
      ]
    },
    {
      "cell_type": "markdown",
      "metadata": {},
      "source": [
        "###  **<font color ='white' size=5>3.1. Vamos verificar a porcentagem de dados ausentes em cada coluna.</font>**"
      ]
    },
    {
      "cell_type": "code",
      "execution_count": 4,
      "metadata": {
        "colab": {
          "base_uri": "https://localhost:8080/"
        },
        "id": "pAl5YZawSaxK",
        "outputId": "283daf1c-e31e-4ba6-a39b-0f23c2e4dea7"
      },
      "outputs": [
        {
          "data": {
            "text/plain": [
              "Valor de Compra      100.0000\n",
              "Complemento           77.8222\n",
              "Bairro                 0.2102\n",
              "Numero Rua             0.0418\n",
              "Regiao - Sigla         0.0000\n",
              "Estado - Sigla         0.0000\n",
              "Municipio              0.0000\n",
              "Revenda                0.0000\n",
              "CNPJ da Revenda        0.0000\n",
              "Nome da Rua            0.0000\n",
              "Cep                    0.0000\n",
              "Produto                0.0000\n",
              "Data da Coleta         0.0000\n",
              "Valor de Venda         0.0000\n",
              "Unidade de Medida      0.0000\n",
              "Bandeira               0.0000\n",
              "dtype: float64"
            ]
          },
          "execution_count": 4,
          "metadata": {},
          "output_type": "execute_result"
        }
      ],
      "source": [
        "\n",
        "(((combustiveis.isnull().sum() / combustiveis.shape[0]) * 100).sort_values(ascending=False)).round(4)"
      ]
    },
    {
      "cell_type": "markdown",
      "metadata": {},
      "source": [
        "Podemos reparar que duas colunas se sobressaem, sendo elas a coluna de `Valor de Compra` que possui **_100% dos seus valores nulos_**, e a coluna `Complemento` que possui cerca de **_77% de seus valores nulos._**\n",
        "\n",
        "A partir disso, precisamos abordar certas mudanças em algumas das colunas durante o processo de limpeza do DataSet. Sendo elas:\n",
        "\n",
        "- Resetar o index do DataFrame concatenado;\n",
        "\n",
        "- Retirar a coluna `Valor de Compra`, pois a mesma é composta apenas por **_valores NaN;_**\n",
        "- Alterar o Dtype da coluna `Valor de Venda` de **_str_** para **_float64_**, para podermos realizar operações e análises a partir dela;\n",
        "- Retirar a coluna `Complemento`, pois não usaremos para nossa análise.\n",
        "- Alterar o Dtype da coluna `Data da Coleta` de str para DateTime, para podermos realizar filtragens e pesquisas a partir das datas;\n",
        "\n",
        "\n",
        "Com esse tratamento dos dados, poderemos aprofundar mais nossa análise exploratória e compreender ainda melhor o nosso DataSet."
      ]
    },
    {
      "cell_type": "markdown",
      "metadata": {},
      "source": [
        "### **<font color ='white' size=5>3.2. Tratamento dos dados</font>**\n",
        "\n"
      ]
    },
    {
      "cell_type": "markdown",
      "metadata": {
        "id": "rxU1bY1xUSnX"
      },
      "source": [
        "- Resetando o Index no DataFrame concatenado:"
      ]
    },
    {
      "cell_type": "code",
      "execution_count": 74,
      "metadata": {
        "id": "Zr1MprtkUdNs"
      },
      "outputs": [],
      "source": [
        "combustiveis.reset_index(0,drop=True,inplace = True)"
      ]
    },
    {
      "cell_type": "markdown",
      "metadata": {
        "id": "BZfJQ1wGTN79"
      },
      "source": [
        "- Retirar a coluna valor de compra, pois tem 100% dos valores nulos,preencher a coluna complemento com 0 e mudar o tipo da coluna valor de venda de object para float64"
      ]
    },
    {
      "cell_type": "code",
      "execution_count": 75,
      "metadata": {
        "id": "ta6HDYLVUz1b"
      },
      "outputs": [],
      "source": [
        "combustiveis.drop('Valor de Compra',axis=1,inplace=True)"
      ]
    },
    {
      "cell_type": "markdown",
      "metadata": {
        "id": "ttLdaqfPU8bX"
      },
      "source": [
        "- Transformando valores da Coluna 'Valor de Venda' para float64"
      ]
    },
    {
      "cell_type": "code",
      "execution_count": 76,
      "metadata": {
        "id": "Ow9L8QG8VHVq"
      },
      "outputs": [],
      "source": [
        "combustiveis['Valor de Venda'] = combustiveis['Valor de Venda'].str.replace(',', '.').astype(float)"
      ]
    },
    {
      "cell_type": "markdown",
      "metadata": {
        "id": "ZuyXWkfIVtwZ"
      },
      "source": [
        "- Removendo a coluna \"Complemento\""
      ]
    },
    {
      "cell_type": "code",
      "execution_count": 77,
      "metadata": {
        "id": "QwXYkUgsV5Ov"
      },
      "outputs": [],
      "source": [
        "combustiveis.drop('Complemento', axis=1, inplace=True)"
      ]
    },
    {
      "cell_type": "markdown",
      "metadata": {},
      "source": [
        "- Alterando o tipo de dado da coluna 'Data da Coleta' para datetime"
      ]
    },
    {
      "cell_type": "code",
      "execution_count": 78,
      "metadata": {},
      "outputs": [],
      "source": [
        "combustiveis['Data da Coleta'] = pd.to_datetime(combustiveis['Data da Coleta'], dayfirst=True)"
      ]
    },
    {
      "cell_type": "markdown",
      "metadata": {
        "id": "rxOrlx6CWRFl"
      },
      "source": [
        "- Após realizarmos a limpeza e tratamento dos dados vamos conferir como está  nosso dataframe"
      ]
    },
    {
      "cell_type": "code",
      "execution_count": 79,
      "metadata": {
        "colab": {
          "base_uri": "https://localhost:8080/"
        },
        "id": "eDKbvv-3S_D1",
        "outputId": "2c6d3ca3-ee3d-401e-f52a-2c26e6e1ef9b"
      },
      "outputs": [
        {
          "name": "stdout",
          "output_type": "stream",
          "text": [
            "<class 'pandas.core.frame.DataFrame'>\n",
            "RangeIndex: 107531 entries, 0 to 107530\n",
            "Data columns (total 14 columns):\n",
            " #   Column             Non-Null Count   Dtype         \n",
            "---  ------             --------------   -----         \n",
            " 0   Regiao - Sigla     107531 non-null  object        \n",
            " 1   Estado - Sigla     107531 non-null  object        \n",
            " 2   Municipio          107531 non-null  object        \n",
            " 3   Revenda            107531 non-null  object        \n",
            " 4   CNPJ da Revenda    107531 non-null  object        \n",
            " 5   Nome da Rua        107531 non-null  object        \n",
            " 6   Numero Rua         107486 non-null  object        \n",
            " 7   Bairro             107305 non-null  object        \n",
            " 8   Cep                107531 non-null  object        \n",
            " 9   Produto            107531 non-null  object        \n",
            " 10  Data da Coleta     107531 non-null  datetime64[ns]\n",
            " 11  Valor de Venda     107531 non-null  float64       \n",
            " 12  Unidade de Medida  107531 non-null  object        \n",
            " 13  Bandeira           107531 non-null  object        \n",
            "dtypes: datetime64[ns](1), float64(1), object(12)\n",
            "memory usage: 11.5+ MB\n"
          ]
        }
      ],
      "source": [
        "combustiveis.info()"
      ]
    },
    {
      "cell_type": "markdown",
      "metadata": {},
      "source": [
        "Como podemos ver, nossas mudanças foram realizadas com sucesso, agora temos os tipos de dados corretos para as colunas apropriadas.\n",
        "\n",
        "Vamos visualizar os 5 registros iniciais do DataFrame:"
      ]
    },
    {
      "cell_type": "code",
      "execution_count": 80,
      "metadata": {},
      "outputs": [
        {
          "data": {
            "text/html": [
              "<div>\n",
              "<style scoped>\n",
              "    .dataframe tbody tr th:only-of-type {\n",
              "        vertical-align: middle;\n",
              "    }\n",
              "\n",
              "    .dataframe tbody tr th {\n",
              "        vertical-align: top;\n",
              "    }\n",
              "\n",
              "    .dataframe thead th {\n",
              "        text-align: right;\n",
              "    }\n",
              "</style>\n",
              "<table border=\"1\" class=\"dataframe\">\n",
              "  <thead>\n",
              "    <tr style=\"text-align: right;\">\n",
              "      <th></th>\n",
              "      <th>Regiao - Sigla</th>\n",
              "      <th>Estado - Sigla</th>\n",
              "      <th>Municipio</th>\n",
              "      <th>Revenda</th>\n",
              "      <th>CNPJ da Revenda</th>\n",
              "      <th>Nome da Rua</th>\n",
              "      <th>Numero Rua</th>\n",
              "      <th>Bairro</th>\n",
              "      <th>Cep</th>\n",
              "      <th>Produto</th>\n",
              "      <th>Data da Coleta</th>\n",
              "      <th>Valor de Venda</th>\n",
              "      <th>Unidade de Medida</th>\n",
              "      <th>Bandeira</th>\n",
              "    </tr>\n",
              "  </thead>\n",
              "  <tbody>\n",
              "    <tr>\n",
              "      <th>0</th>\n",
              "      <td>SE</td>\n",
              "      <td>SP</td>\n",
              "      <td>SOROCABA</td>\n",
              "      <td>COMPETRO COMERCIO E DISTRIBUICAO DE DERIVADOS ...</td>\n",
              "      <td>00.003.188/0001-21</td>\n",
              "      <td>RUA HUMBERTO DE CAMPOS</td>\n",
              "      <td>306</td>\n",
              "      <td>JARDIM ZULMIRA</td>\n",
              "      <td>18061-000</td>\n",
              "      <td>ETANOL</td>\n",
              "      <td>2023-05-01</td>\n",
              "      <td>3.79</td>\n",
              "      <td>R$ / litro</td>\n",
              "      <td>BRANCA</td>\n",
              "    </tr>\n",
              "    <tr>\n",
              "      <th>1</th>\n",
              "      <td>SE</td>\n",
              "      <td>SP</td>\n",
              "      <td>SOROCABA</td>\n",
              "      <td>COMPETRO COMERCIO E DISTRIBUICAO DE DERIVADOS ...</td>\n",
              "      <td>00.003.188/0001-21</td>\n",
              "      <td>RUA HUMBERTO DE CAMPOS</td>\n",
              "      <td>306</td>\n",
              "      <td>JARDIM ZULMIRA</td>\n",
              "      <td>18061-000</td>\n",
              "      <td>GASOLINA</td>\n",
              "      <td>2023-05-01</td>\n",
              "      <td>4.69</td>\n",
              "      <td>R$ / litro</td>\n",
              "      <td>BRANCA</td>\n",
              "    </tr>\n",
              "    <tr>\n",
              "      <th>2</th>\n",
              "      <td>N</td>\n",
              "      <td>AC</td>\n",
              "      <td>CRUZEIRO DO SUL</td>\n",
              "      <td>AMAZONIA COMERCIO DE DERIVADOS DE PETROLEO LTDA</td>\n",
              "      <td>01.492.748/0003-83</td>\n",
              "      <td>AVENIDA COPACABANA</td>\n",
              "      <td>440</td>\n",
              "      <td>COPACABANA</td>\n",
              "      <td>69980-000</td>\n",
              "      <td>ETANOL</td>\n",
              "      <td>2023-05-01</td>\n",
              "      <td>5.49</td>\n",
              "      <td>R$ / litro</td>\n",
              "      <td>IPIRANGA</td>\n",
              "    </tr>\n",
              "    <tr>\n",
              "      <th>3</th>\n",
              "      <td>N</td>\n",
              "      <td>AC</td>\n",
              "      <td>CRUZEIRO DO SUL</td>\n",
              "      <td>AMAZONIA COMERCIO DE DERIVADOS DE PETROLEO LTDA</td>\n",
              "      <td>01.492.748/0003-83</td>\n",
              "      <td>AVENIDA COPACABANA</td>\n",
              "      <td>440</td>\n",
              "      <td>COPACABANA</td>\n",
              "      <td>69980-000</td>\n",
              "      <td>GASOLINA ADITIVADA</td>\n",
              "      <td>2023-05-01</td>\n",
              "      <td>6.97</td>\n",
              "      <td>R$ / litro</td>\n",
              "      <td>IPIRANGA</td>\n",
              "    </tr>\n",
              "    <tr>\n",
              "      <th>4</th>\n",
              "      <td>N</td>\n",
              "      <td>AC</td>\n",
              "      <td>CRUZEIRO DO SUL</td>\n",
              "      <td>AMAZONIA COMERCIO DE DERIVADOS DE PETROLEO LTDA</td>\n",
              "      <td>01.492.748/0003-83</td>\n",
              "      <td>AVENIDA COPACABANA</td>\n",
              "      <td>440</td>\n",
              "      <td>COPACABANA</td>\n",
              "      <td>69980-000</td>\n",
              "      <td>GASOLINA</td>\n",
              "      <td>2023-05-01</td>\n",
              "      <td>6.97</td>\n",
              "      <td>R$ / litro</td>\n",
              "      <td>IPIRANGA</td>\n",
              "    </tr>\n",
              "  </tbody>\n",
              "</table>\n",
              "</div>"
            ],
            "text/plain": [
              "  Regiao - Sigla Estado - Sigla        Municipio  \\\n",
              "0             SE             SP         SOROCABA   \n",
              "1             SE             SP         SOROCABA   \n",
              "2              N             AC  CRUZEIRO DO SUL   \n",
              "3              N             AC  CRUZEIRO DO SUL   \n",
              "4              N             AC  CRUZEIRO DO SUL   \n",
              "\n",
              "                                             Revenda      CNPJ da Revenda  \\\n",
              "0  COMPETRO COMERCIO E DISTRIBUICAO DE DERIVADOS ...   00.003.188/0001-21   \n",
              "1  COMPETRO COMERCIO E DISTRIBUICAO DE DERIVADOS ...   00.003.188/0001-21   \n",
              "2    AMAZONIA COMERCIO DE DERIVADOS DE PETROLEO LTDA   01.492.748/0003-83   \n",
              "3    AMAZONIA COMERCIO DE DERIVADOS DE PETROLEO LTDA   01.492.748/0003-83   \n",
              "4    AMAZONIA COMERCIO DE DERIVADOS DE PETROLEO LTDA   01.492.748/0003-83   \n",
              "\n",
              "              Nome da Rua Numero Rua          Bairro        Cep  \\\n",
              "0  RUA HUMBERTO DE CAMPOS        306  JARDIM ZULMIRA  18061-000   \n",
              "1  RUA HUMBERTO DE CAMPOS        306  JARDIM ZULMIRA  18061-000   \n",
              "2      AVENIDA COPACABANA        440      COPACABANA  69980-000   \n",
              "3      AVENIDA COPACABANA        440      COPACABANA  69980-000   \n",
              "4      AVENIDA COPACABANA        440      COPACABANA  69980-000   \n",
              "\n",
              "              Produto Data da Coleta  Valor de Venda Unidade de Medida  \\\n",
              "0              ETANOL     2023-05-01            3.79        R$ / litro   \n",
              "1            GASOLINA     2023-05-01            4.69        R$ / litro   \n",
              "2              ETANOL     2023-05-01            5.49        R$ / litro   \n",
              "3  GASOLINA ADITIVADA     2023-05-01            6.97        R$ / litro   \n",
              "4            GASOLINA     2023-05-01            6.97        R$ / litro   \n",
              "\n",
              "   Bandeira  \n",
              "0    BRANCA  \n",
              "1    BRANCA  \n",
              "2  IPIRANGA  \n",
              "3  IPIRANGA  \n",
              "4  IPIRANGA  "
            ]
          },
          "execution_count": 80,
          "metadata": {},
          "output_type": "execute_result"
        }
      ],
      "source": [
        "combustiveis.head()"
      ]
    },
    {
      "cell_type": "markdown",
      "metadata": {
        "id": "FnkBtrPFWnUA"
      },
      "source": [
        "### **<font color ='white' size=5>3.3 Checando outliers.</font>**"
      ]
    },
    {
      "cell_type": "markdown",
      "metadata": {
        "id": "N3DWtq3WW2DT"
      },
      "source": [
        "#### <font color ='white' size=5>**3.3.1 Resumo estatístico dos valores com o método describe**</font>"
      ]
    },
    {
      "cell_type": "code",
      "execution_count": 19,
      "metadata": {
        "colab": {
          "base_uri": "https://localhost:8080/"
        },
        "id": "L6WUAs_5TAgJ",
        "outputId": "154696f9-23e6-4426-c15c-83876862d7fa"
      },
      "outputs": [
        {
          "data": {
            "text/plain": [
              "count    107531.000\n",
              "mean          5.030\n",
              "std           0.764\n",
              "min           2.970\n",
              "25%           4.490\n",
              "50%           5.240\n",
              "75%           5.590\n",
              "max           7.990\n",
              "Name: Valor de Venda, dtype: float64"
            ]
          },
          "execution_count": 19,
          "metadata": {},
          "output_type": "execute_result"
        }
      ],
      "source": [
        "combustiveis['Valor de Venda'].describe().round(3)"
      ]
    },
    {
      "cell_type": "markdown",
      "metadata": {},
      "source": [
        "#### <font color ='white' size=5>**3.3.2 Separando o dataframe principal em dataframes por mês**</font>"
      ]
    },
    {
      "cell_type": "code",
      "execution_count": 20,
      "metadata": {},
      "outputs": [],
      "source": [
        "combustiveis['Data da Coleta'] = pd.to_datetime(combustiveis['Data da Coleta'], format='%d/%m/%Y')\n",
        "\n",
        "\n",
        "# Filtrar as datas para o mês de maio\n",
        "maio = combustiveis[combustiveis['Data da Coleta'].dt.month == 5]\n",
        "# Filtrar as datas para o mês de junho\n",
        "junho = combustiveis[combustiveis['Data da Coleta'].dt.month == 6]\n"
      ]
    },
    {
      "cell_type": "markdown",
      "metadata": {
        "id": "cDyE5WQ9Yw00"
      },
      "source": [
        "#### <font color ='white' size=5>**3.3.3 Criando dataframes específicos para cada combustível**</font>"
      ]
    },
    {
      "cell_type": "markdown",
      "metadata": {},
      "source": [
        "- **Etanol**"
      ]
    },
    {
      "cell_type": "code",
      "execution_count": 93,
      "metadata": {
        "colab": {
          "base_uri": "https://localhost:8080/",
          "height": 423
        },
        "id": "toGQOtwYY4jc",
        "outputId": "26b80063-9d45-4bf5-ee70-eab939468f0a"
      },
      "outputs": [
        {
          "data": {
            "text/html": [
              "<div>\n",
              "<style scoped>\n",
              "    .dataframe tbody tr th:only-of-type {\n",
              "        vertical-align: middle;\n",
              "    }\n",
              "\n",
              "    .dataframe tbody tr th {\n",
              "        vertical-align: top;\n",
              "    }\n",
              "\n",
              "    .dataframe thead th {\n",
              "        text-align: right;\n",
              "    }\n",
              "</style>\n",
              "<table border=\"1\" class=\"dataframe\">\n",
              "  <thead>\n",
              "    <tr style=\"text-align: right;\">\n",
              "      <th></th>\n",
              "      <th>Regiao - Sigla</th>\n",
              "      <th>Estado - Sigla</th>\n",
              "      <th>Municipio</th>\n",
              "      <th>Revenda</th>\n",
              "      <th>CNPJ da Revenda</th>\n",
              "      <th>Nome da Rua</th>\n",
              "      <th>Numero Rua</th>\n",
              "      <th>Bairro</th>\n",
              "      <th>Cep</th>\n",
              "      <th>Produto</th>\n",
              "      <th>Data da Coleta</th>\n",
              "      <th>Valor de Venda</th>\n",
              "      <th>Unidade de Medida</th>\n",
              "      <th>Bandeira</th>\n",
              "    </tr>\n",
              "  </thead>\n",
              "  <tbody>\n",
              "    <tr>\n",
              "      <th>0</th>\n",
              "      <td>SE</td>\n",
              "      <td>SP</td>\n",
              "      <td>SOROCABA</td>\n",
              "      <td>COMPETRO COMERCIO E DISTRIBUICAO DE DERIVADOS ...</td>\n",
              "      <td>00.003.188/0001-21</td>\n",
              "      <td>RUA HUMBERTO DE CAMPOS</td>\n",
              "      <td>306</td>\n",
              "      <td>JARDIM ZULMIRA</td>\n",
              "      <td>18061-000</td>\n",
              "      <td>ETANOL</td>\n",
              "      <td>2023-05-01</td>\n",
              "      <td>3.79</td>\n",
              "      <td>R$ / litro</td>\n",
              "      <td>BRANCA</td>\n",
              "    </tr>\n",
              "    <tr>\n",
              "      <th>2</th>\n",
              "      <td>N</td>\n",
              "      <td>AC</td>\n",
              "      <td>CRUZEIRO DO SUL</td>\n",
              "      <td>AMAZONIA COMERCIO DE DERIVADOS DE PETROLEO LTDA</td>\n",
              "      <td>01.492.748/0003-83</td>\n",
              "      <td>AVENIDA COPACABANA</td>\n",
              "      <td>440</td>\n",
              "      <td>COPACABANA</td>\n",
              "      <td>69980-000</td>\n",
              "      <td>ETANOL</td>\n",
              "      <td>2023-05-01</td>\n",
              "      <td>5.49</td>\n",
              "      <td>R$ / litro</td>\n",
              "      <td>IPIRANGA</td>\n",
              "    </tr>\n",
              "    <tr>\n",
              "      <th>5</th>\n",
              "      <td>NE</td>\n",
              "      <td>AL</td>\n",
              "      <td>ARAPIRACA</td>\n",
              "      <td>COMERCIAL DE COMBUSTIVEIS E LUBRIFICANTES VITA...</td>\n",
              "      <td>02.817.655/0001-82</td>\n",
              "      <td>RODOVIA AL 220 - KM 06</td>\n",
              "      <td>S/N</td>\n",
              "      <td>PLANALTO</td>\n",
              "      <td>57308-000</td>\n",
              "      <td>ETANOL</td>\n",
              "      <td>2023-05-01</td>\n",
              "      <td>4.58</td>\n",
              "      <td>R$ / litro</td>\n",
              "      <td>VIBRA ENERGIA</td>\n",
              "    </tr>\n",
              "    <tr>\n",
              "      <th>9</th>\n",
              "      <td>NE</td>\n",
              "      <td>AL</td>\n",
              "      <td>ARAPIRACA</td>\n",
              "      <td>IBN PINTO E SILVA &amp; CIA LTDA</td>\n",
              "      <td>01.242.690/0001-58</td>\n",
              "      <td>RODOVIA AL-110</td>\n",
              "      <td>678</td>\n",
              "      <td>CANAFISTULA</td>\n",
              "      <td>57302-802</td>\n",
              "      <td>ETANOL</td>\n",
              "      <td>2023-05-01</td>\n",
              "      <td>4.29</td>\n",
              "      <td>R$ / litro</td>\n",
              "      <td>IPIRANGA</td>\n",
              "    </tr>\n",
              "    <tr>\n",
              "      <th>12</th>\n",
              "      <td>NE</td>\n",
              "      <td>AL</td>\n",
              "      <td>ARAPIRACA</td>\n",
              "      <td>IBN PINTO E SILVA &amp; CIA LTDA</td>\n",
              "      <td>01.242.690/0002-39</td>\n",
              "      <td>AVENIDA EMIDIO DE LIMA,</td>\n",
              "      <td>23</td>\n",
              "      <td>JARDIM ESPERANCA</td>\n",
              "      <td>57304-820</td>\n",
              "      <td>ETANOL</td>\n",
              "      <td>2023-05-01</td>\n",
              "      <td>4.69</td>\n",
              "      <td>R$ / litro</td>\n",
              "      <td>IPIRANGA</td>\n",
              "    </tr>\n",
              "    <tr>\n",
              "      <th>...</th>\n",
              "      <td>...</td>\n",
              "      <td>...</td>\n",
              "      <td>...</td>\n",
              "      <td>...</td>\n",
              "      <td>...</td>\n",
              "      <td>...</td>\n",
              "      <td>...</td>\n",
              "      <td>...</td>\n",
              "      <td>...</td>\n",
              "      <td>...</td>\n",
              "      <td>...</td>\n",
              "      <td>...</td>\n",
              "      <td>...</td>\n",
              "      <td>...</td>\n",
              "    </tr>\n",
              "    <tr>\n",
              "      <th>107517</th>\n",
              "      <td>CO</td>\n",
              "      <td>GO</td>\n",
              "      <td>GOIANIA</td>\n",
              "      <td>AUTO POSTO SANTA LUZIA LTDA</td>\n",
              "      <td>04.142.631/0002-87</td>\n",
              "      <td>AVENIDA JOSE INACIO SOBRINHO</td>\n",
              "      <td>731</td>\n",
              "      <td>SETOR MARABA</td>\n",
              "      <td>74465-524</td>\n",
              "      <td>ETANOL</td>\n",
              "      <td>2023-06-30</td>\n",
              "      <td>3.94</td>\n",
              "      <td>R$ / litro</td>\n",
              "      <td>IPIRANGA</td>\n",
              "    </tr>\n",
              "    <tr>\n",
              "      <th>107520</th>\n",
              "      <td>SE</td>\n",
              "      <td>RJ</td>\n",
              "      <td>ITAGUAI</td>\n",
              "      <td>POSTO DE GASOLINA CIDADE DO PORTO LTDA</td>\n",
              "      <td>10.317.382/0001-35</td>\n",
              "      <td>RODOVIA RIO SANTOS</td>\n",
              "      <td>S/N</td>\n",
              "      <td>IBIRAPITANGA</td>\n",
              "      <td>23815-550</td>\n",
              "      <td>ETANOL</td>\n",
              "      <td>2023-06-30</td>\n",
              "      <td>4.39</td>\n",
              "      <td>R$ / litro</td>\n",
              "      <td>RAIZEN</td>\n",
              "    </tr>\n",
              "    <tr>\n",
              "      <th>107522</th>\n",
              "      <td>SE</td>\n",
              "      <td>SP</td>\n",
              "      <td>ITAPOLIS</td>\n",
              "      <td>AROEIRA AUTO POSTO EIRELI</td>\n",
              "      <td>24.577.972/0001-01</td>\n",
              "      <td>AVENIDA FREI PAULO LUIG</td>\n",
              "      <td>861</td>\n",
              "      <td>CENTRO</td>\n",
              "      <td>14900-000</td>\n",
              "      <td>ETANOL</td>\n",
              "      <td>2023-06-30</td>\n",
              "      <td>3.59</td>\n",
              "      <td>R$ / litro</td>\n",
              "      <td>BRANCA</td>\n",
              "    </tr>\n",
              "    <tr>\n",
              "      <th>107524</th>\n",
              "      <td>NE</td>\n",
              "      <td>BA</td>\n",
              "      <td>CAMACARI</td>\n",
              "      <td>POSTO DE COMBUSTIVEIS BUSCA VIDA LTDA</td>\n",
              "      <td>28.315.993/0001-00</td>\n",
              "      <td>RUA C</td>\n",
              "      <td>27</td>\n",
              "      <td>VILA DE ABRANTES</td>\n",
              "      <td>42840-000</td>\n",
              "      <td>ETANOL</td>\n",
              "      <td>2023-06-30</td>\n",
              "      <td>4.44</td>\n",
              "      <td>R$ / litro</td>\n",
              "      <td>BRANCA</td>\n",
              "    </tr>\n",
              "    <tr>\n",
              "      <th>107527</th>\n",
              "      <td>NE</td>\n",
              "      <td>BA</td>\n",
              "      <td>CAMACARI</td>\n",
              "      <td>YEMANJA COMERCIO DE DERIVADOS DE PETROLEO E SE...</td>\n",
              "      <td>04.909.369/0002-53</td>\n",
              "      <td>ESTRADA DA CASCALHEIRA</td>\n",
              "      <td>S/N</td>\n",
              "      <td>PARQUE REAL SERRA VERDE</td>\n",
              "      <td>42813-080</td>\n",
              "      <td>ETANOL</td>\n",
              "      <td>2023-06-30</td>\n",
              "      <td>4.44</td>\n",
              "      <td>R$ / litro</td>\n",
              "      <td>BRANCA</td>\n",
              "    </tr>\n",
              "  </tbody>\n",
              "</table>\n",
              "<p>34935 rows × 14 columns</p>\n",
              "</div>"
            ],
            "text/plain": [
              "       Regiao - Sigla Estado - Sigla        Municipio  \\\n",
              "0                  SE             SP         SOROCABA   \n",
              "2                   N             AC  CRUZEIRO DO SUL   \n",
              "5                  NE             AL        ARAPIRACA   \n",
              "9                  NE             AL        ARAPIRACA   \n",
              "12                 NE             AL        ARAPIRACA   \n",
              "...               ...            ...              ...   \n",
              "107517             CO             GO          GOIANIA   \n",
              "107520             SE             RJ          ITAGUAI   \n",
              "107522             SE             SP         ITAPOLIS   \n",
              "107524             NE             BA         CAMACARI   \n",
              "107527             NE             BA         CAMACARI   \n",
              "\n",
              "                                                  Revenda  \\\n",
              "0       COMPETRO COMERCIO E DISTRIBUICAO DE DERIVADOS ...   \n",
              "2         AMAZONIA COMERCIO DE DERIVADOS DE PETROLEO LTDA   \n",
              "5       COMERCIAL DE COMBUSTIVEIS E LUBRIFICANTES VITA...   \n",
              "9                            IBN PINTO E SILVA & CIA LTDA   \n",
              "12                           IBN PINTO E SILVA & CIA LTDA   \n",
              "...                                                   ...   \n",
              "107517                        AUTO POSTO SANTA LUZIA LTDA   \n",
              "107520             POSTO DE GASOLINA CIDADE DO PORTO LTDA   \n",
              "107522                          AROEIRA AUTO POSTO EIRELI   \n",
              "107524              POSTO DE COMBUSTIVEIS BUSCA VIDA LTDA   \n",
              "107527  YEMANJA COMERCIO DE DERIVADOS DE PETROLEO E SE...   \n",
              "\n",
              "            CNPJ da Revenda                   Nome da Rua Numero Rua  \\\n",
              "0        00.003.188/0001-21        RUA HUMBERTO DE CAMPOS        306   \n",
              "2        01.492.748/0003-83            AVENIDA COPACABANA        440   \n",
              "5        02.817.655/0001-82        RODOVIA AL 220 - KM 06        S/N   \n",
              "9        01.242.690/0001-58                RODOVIA AL-110        678   \n",
              "12       01.242.690/0002-39       AVENIDA EMIDIO DE LIMA,         23   \n",
              "...                     ...                           ...        ...   \n",
              "107517   04.142.631/0002-87  AVENIDA JOSE INACIO SOBRINHO        731   \n",
              "107520   10.317.382/0001-35            RODOVIA RIO SANTOS        S/N   \n",
              "107522   24.577.972/0001-01       AVENIDA FREI PAULO LUIG        861   \n",
              "107524   28.315.993/0001-00                         RUA C         27   \n",
              "107527   04.909.369/0002-53        ESTRADA DA CASCALHEIRA        S/N   \n",
              "\n",
              "                         Bairro        Cep Produto Data da Coleta  \\\n",
              "0                JARDIM ZULMIRA  18061-000  ETANOL     2023-05-01   \n",
              "2                    COPACABANA  69980-000  ETANOL     2023-05-01   \n",
              "5                      PLANALTO  57308-000  ETANOL     2023-05-01   \n",
              "9                   CANAFISTULA  57302-802  ETANOL     2023-05-01   \n",
              "12             JARDIM ESPERANCA  57304-820  ETANOL     2023-05-01   \n",
              "...                         ...        ...     ...            ...   \n",
              "107517             SETOR MARABA  74465-524  ETANOL     2023-06-30   \n",
              "107520             IBIRAPITANGA  23815-550  ETANOL     2023-06-30   \n",
              "107522                   CENTRO  14900-000  ETANOL     2023-06-30   \n",
              "107524         VILA DE ABRANTES  42840-000  ETANOL     2023-06-30   \n",
              "107527  PARQUE REAL SERRA VERDE  42813-080  ETANOL     2023-06-30   \n",
              "\n",
              "        Valor de Venda Unidade de Medida       Bandeira  \n",
              "0                 3.79        R$ / litro         BRANCA  \n",
              "2                 5.49        R$ / litro       IPIRANGA  \n",
              "5                 4.58        R$ / litro  VIBRA ENERGIA  \n",
              "9                 4.29        R$ / litro       IPIRANGA  \n",
              "12                4.69        R$ / litro       IPIRANGA  \n",
              "...                ...               ...            ...  \n",
              "107517            3.94        R$ / litro       IPIRANGA  \n",
              "107520            4.39        R$ / litro         RAIZEN  \n",
              "107522            3.59        R$ / litro         BRANCA  \n",
              "107524            4.44        R$ / litro         BRANCA  \n",
              "107527            4.44        R$ / litro         BRANCA  \n",
              "\n",
              "[34935 rows x 14 columns]"
            ]
          },
          "execution_count": 93,
          "metadata": {},
          "output_type": "execute_result"
        }
      ],
      "source": [
        "etanol = combustiveis[(combustiveis['Produto'] == 'ETANOL') ]\n",
        "\n",
        "etanol"
      ]
    },
    {
      "cell_type": "markdown",
      "metadata": {},
      "source": [
        "- **Gasolina**"
      ]
    },
    {
      "cell_type": "code",
      "execution_count": 91,
      "metadata": {},
      "outputs": [
        {
          "data": {
            "text/html": [
              "<div>\n",
              "<style scoped>\n",
              "    .dataframe tbody tr th:only-of-type {\n",
              "        vertical-align: middle;\n",
              "    }\n",
              "\n",
              "    .dataframe tbody tr th {\n",
              "        vertical-align: top;\n",
              "    }\n",
              "\n",
              "    .dataframe thead th {\n",
              "        text-align: right;\n",
              "    }\n",
              "</style>\n",
              "<table border=\"1\" class=\"dataframe\">\n",
              "  <thead>\n",
              "    <tr style=\"text-align: right;\">\n",
              "      <th></th>\n",
              "      <th>Regiao - Sigla</th>\n",
              "      <th>Estado - Sigla</th>\n",
              "      <th>Municipio</th>\n",
              "      <th>Revenda</th>\n",
              "      <th>CNPJ da Revenda</th>\n",
              "      <th>Nome da Rua</th>\n",
              "      <th>Numero Rua</th>\n",
              "      <th>Bairro</th>\n",
              "      <th>Cep</th>\n",
              "      <th>Produto</th>\n",
              "      <th>Data da Coleta</th>\n",
              "      <th>Valor de Venda</th>\n",
              "      <th>Unidade de Medida</th>\n",
              "      <th>Bandeira</th>\n",
              "    </tr>\n",
              "  </thead>\n",
              "  <tbody>\n",
              "    <tr>\n",
              "      <th>1</th>\n",
              "      <td>SE</td>\n",
              "      <td>SP</td>\n",
              "      <td>SOROCABA</td>\n",
              "      <td>COMPETRO COMERCIO E DISTRIBUICAO DE DERIVADOS ...</td>\n",
              "      <td>00.003.188/0001-21</td>\n",
              "      <td>RUA HUMBERTO DE CAMPOS</td>\n",
              "      <td>306</td>\n",
              "      <td>JARDIM ZULMIRA</td>\n",
              "      <td>18061-000</td>\n",
              "      <td>GASOLINA</td>\n",
              "      <td>2023-05-01</td>\n",
              "      <td>4.69</td>\n",
              "      <td>R$ / litro</td>\n",
              "      <td>BRANCA</td>\n",
              "    </tr>\n",
              "    <tr>\n",
              "      <th>4</th>\n",
              "      <td>N</td>\n",
              "      <td>AC</td>\n",
              "      <td>CRUZEIRO DO SUL</td>\n",
              "      <td>AMAZONIA COMERCIO DE DERIVADOS DE PETROLEO LTDA</td>\n",
              "      <td>01.492.748/0003-83</td>\n",
              "      <td>AVENIDA COPACABANA</td>\n",
              "      <td>440</td>\n",
              "      <td>COPACABANA</td>\n",
              "      <td>69980-000</td>\n",
              "      <td>GASOLINA</td>\n",
              "      <td>2023-05-01</td>\n",
              "      <td>6.97</td>\n",
              "      <td>R$ / litro</td>\n",
              "      <td>IPIRANGA</td>\n",
              "    </tr>\n",
              "    <tr>\n",
              "      <th>7</th>\n",
              "      <td>NE</td>\n",
              "      <td>AL</td>\n",
              "      <td>ARAPIRACA</td>\n",
              "      <td>COMERCIAL DE COMBUSTIVEIS E LUBRIFICANTES VITA...</td>\n",
              "      <td>02.817.655/0001-82</td>\n",
              "      <td>RODOVIA AL 220 - KM 06</td>\n",
              "      <td>S/N</td>\n",
              "      <td>PLANALTO</td>\n",
              "      <td>57308-000</td>\n",
              "      <td>GASOLINA</td>\n",
              "      <td>2023-05-01</td>\n",
              "      <td>5.89</td>\n",
              "      <td>R$ / litro</td>\n",
              "      <td>VIBRA ENERGIA</td>\n",
              "    </tr>\n",
              "    <tr>\n",
              "      <th>8</th>\n",
              "      <td>NE</td>\n",
              "      <td>AL</td>\n",
              "      <td>ARAPIRACA</td>\n",
              "      <td>AUTO POSTO SAO FRANCISCO LTDA</td>\n",
              "      <td>12.706.529/0001-04</td>\n",
              "      <td>RUA SAO FRANCISCO</td>\n",
              "      <td>274</td>\n",
              "      <td>CENTRO</td>\n",
              "      <td>57300-080</td>\n",
              "      <td>GASOLINA</td>\n",
              "      <td>2023-05-01</td>\n",
              "      <td>5.77</td>\n",
              "      <td>R$ / litro</td>\n",
              "      <td>VIBRA ENERGIA</td>\n",
              "    </tr>\n",
              "    <tr>\n",
              "      <th>11</th>\n",
              "      <td>NE</td>\n",
              "      <td>AL</td>\n",
              "      <td>ARAPIRACA</td>\n",
              "      <td>IBN PINTO E SILVA &amp; CIA LTDA</td>\n",
              "      <td>01.242.690/0001-58</td>\n",
              "      <td>RODOVIA AL-110</td>\n",
              "      <td>678</td>\n",
              "      <td>CANAFISTULA</td>\n",
              "      <td>57302-802</td>\n",
              "      <td>GASOLINA</td>\n",
              "      <td>2023-05-01</td>\n",
              "      <td>5.74</td>\n",
              "      <td>R$ / litro</td>\n",
              "      <td>IPIRANGA</td>\n",
              "    </tr>\n",
              "  </tbody>\n",
              "</table>\n",
              "</div>"
            ],
            "text/plain": [
              "   Regiao - Sigla Estado - Sigla        Municipio  \\\n",
              "1              SE             SP         SOROCABA   \n",
              "4               N             AC  CRUZEIRO DO SUL   \n",
              "7              NE             AL        ARAPIRACA   \n",
              "8              NE             AL        ARAPIRACA   \n",
              "11             NE             AL        ARAPIRACA   \n",
              "\n",
              "                                              Revenda      CNPJ da Revenda  \\\n",
              "1   COMPETRO COMERCIO E DISTRIBUICAO DE DERIVADOS ...   00.003.188/0001-21   \n",
              "4     AMAZONIA COMERCIO DE DERIVADOS DE PETROLEO LTDA   01.492.748/0003-83   \n",
              "7   COMERCIAL DE COMBUSTIVEIS E LUBRIFICANTES VITA...   02.817.655/0001-82   \n",
              "8                       AUTO POSTO SAO FRANCISCO LTDA   12.706.529/0001-04   \n",
              "11                       IBN PINTO E SILVA & CIA LTDA   01.242.690/0001-58   \n",
              "\n",
              "               Nome da Rua Numero Rua          Bairro        Cep   Produto  \\\n",
              "1   RUA HUMBERTO DE CAMPOS        306  JARDIM ZULMIRA  18061-000  GASOLINA   \n",
              "4       AVENIDA COPACABANA        440      COPACABANA  69980-000  GASOLINA   \n",
              "7   RODOVIA AL 220 - KM 06        S/N        PLANALTO  57308-000  GASOLINA   \n",
              "8        RUA SAO FRANCISCO        274          CENTRO  57300-080  GASOLINA   \n",
              "11          RODOVIA AL-110        678     CANAFISTULA  57302-802  GASOLINA   \n",
              "\n",
              "   Data da Coleta  Valor de Venda Unidade de Medida       Bandeira  \n",
              "1      2023-05-01            4.69        R$ / litro         BRANCA  \n",
              "4      2023-05-01            6.97        R$ / litro       IPIRANGA  \n",
              "7      2023-05-01            5.89        R$ / litro  VIBRA ENERGIA  \n",
              "8      2023-05-01            5.77        R$ / litro  VIBRA ENERGIA  \n",
              "11     2023-05-01            5.74        R$ / litro       IPIRANGA  "
            ]
          },
          "execution_count": 91,
          "metadata": {},
          "output_type": "execute_result"
        }
      ],
      "source": [
        "gasolina = combustiveis[(combustiveis['Produto'] == 'GASOLINA') ]\n",
        "gasolina"
      ]
    },
    {
      "cell_type": "markdown",
      "metadata": {},
      "source": [
        "- **Gasolina Aditivada**"
      ]
    },
    {
      "cell_type": "code",
      "execution_count": 115,
      "metadata": {},
      "outputs": [
        {
          "data": {
            "text/html": [
              "<div>\n",
              "<style scoped>\n",
              "    .dataframe tbody tr th:only-of-type {\n",
              "        vertical-align: middle;\n",
              "    }\n",
              "\n",
              "    .dataframe tbody tr th {\n",
              "        vertical-align: top;\n",
              "    }\n",
              "\n",
              "    .dataframe thead th {\n",
              "        text-align: right;\n",
              "    }\n",
              "</style>\n",
              "<table border=\"1\" class=\"dataframe\">\n",
              "  <thead>\n",
              "    <tr style=\"text-align: right;\">\n",
              "      <th></th>\n",
              "      <th>Regiao - Sigla</th>\n",
              "      <th>Estado - Sigla</th>\n",
              "      <th>Municipio</th>\n",
              "      <th>Revenda</th>\n",
              "      <th>CNPJ da Revenda</th>\n",
              "      <th>Nome da Rua</th>\n",
              "      <th>Numero Rua</th>\n",
              "      <th>Bairro</th>\n",
              "      <th>Cep</th>\n",
              "      <th>Produto</th>\n",
              "      <th>Data da Coleta</th>\n",
              "      <th>Valor de Venda</th>\n",
              "      <th>Unidade de Medida</th>\n",
              "      <th>Bandeira</th>\n",
              "      <th>Variação Semanal</th>\n",
              "      <th>Valor Anterior</th>\n",
              "      <th>Porcentagem de Variação</th>\n",
              "    </tr>\n",
              "  </thead>\n",
              "  <tbody>\n",
              "    <tr>\n",
              "      <th>1590</th>\n",
              "      <td>SE</td>\n",
              "      <td>SP</td>\n",
              "      <td>SAO JOSE DOS CAMPOS</td>\n",
              "      <td>AUTO POSTO PERSEU LTDA</td>\n",
              "      <td>00.723.674/0001-14</td>\n",
              "      <td>AVENIDA CASSIOPEIA</td>\n",
              "      <td>1024</td>\n",
              "      <td>JD SATELITE</td>\n",
              "      <td>12230-010</td>\n",
              "      <td>GASOLINA ADITIVADA</td>\n",
              "      <td>2023-05-01</td>\n",
              "      <td>5.09</td>\n",
              "      <td>R$ / litro</td>\n",
              "      <td>BRANCA</td>\n",
              "      <td>NaN</td>\n",
              "      <td>NaN</td>\n",
              "      <td>NaN</td>\n",
              "    </tr>\n",
              "    <tr>\n",
              "      <th>1584</th>\n",
              "      <td>SE</td>\n",
              "      <td>SP</td>\n",
              "      <td>SAO JOSE DOS CAMPOS</td>\n",
              "      <td>AUTO POSTO CHAPARRAL SAO JOSE LTDA</td>\n",
              "      <td>02.114.905/0001-18</td>\n",
              "      <td>AVENIDA SAO JOAO</td>\n",
              "      <td>2145</td>\n",
              "      <td>JARDIM APOLO</td>\n",
              "      <td>12242-000</td>\n",
              "      <td>GASOLINA ADITIVADA</td>\n",
              "      <td>2023-05-01</td>\n",
              "      <td>5.49</td>\n",
              "      <td>R$ / litro</td>\n",
              "      <td>IPIRANGA</td>\n",
              "      <td>NaN</td>\n",
              "      <td>NaN</td>\n",
              "      <td>NaN</td>\n",
              "    </tr>\n",
              "    <tr>\n",
              "      <th>1587</th>\n",
              "      <td>SE</td>\n",
              "      <td>SP</td>\n",
              "      <td>SAO JOSE DOS CAMPOS</td>\n",
              "      <td>AUTO POSTO DIACOV LTDA.</td>\n",
              "      <td>00.848.767/0001-75</td>\n",
              "      <td>RODOVIA DOS TAMOIOS</td>\n",
              "      <td>S/N</td>\n",
              "      <td>PERNAMBUCANA</td>\n",
              "      <td>12228-845</td>\n",
              "      <td>GASOLINA ADITIVADA</td>\n",
              "      <td>2023-05-01</td>\n",
              "      <td>5.89</td>\n",
              "      <td>R$ / litro</td>\n",
              "      <td>RAIZEN</td>\n",
              "      <td>NaN</td>\n",
              "      <td>NaN</td>\n",
              "      <td>NaN</td>\n",
              "    </tr>\n",
              "    <tr>\n",
              "      <th>1598</th>\n",
              "      <td>SE</td>\n",
              "      <td>SP</td>\n",
              "      <td>VOTORANTIM</td>\n",
              "      <td>AUTO POSTO VOTOSETE LTDA.</td>\n",
              "      <td>71.861.058/0001-78</td>\n",
              "      <td>AVENIDA 31 DE MARCO</td>\n",
              "      <td>60</td>\n",
              "      <td>CENTRO</td>\n",
              "      <td>18110-005</td>\n",
              "      <td>GASOLINA ADITIVADA</td>\n",
              "      <td>2023-05-01</td>\n",
              "      <td>6.00</td>\n",
              "      <td>R$ / litro</td>\n",
              "      <td>VIBRA ENERGIA</td>\n",
              "      <td>NaN</td>\n",
              "      <td>NaN</td>\n",
              "      <td>NaN</td>\n",
              "    </tr>\n",
              "    <tr>\n",
              "      <th>1570</th>\n",
              "      <td>SE</td>\n",
              "      <td>SP</td>\n",
              "      <td>SAO JOSE DOS CAMPOS</td>\n",
              "      <td>POSTO SHOPPING VALE JCN LTDA</td>\n",
              "      <td>05.276.832/0001-59</td>\n",
              "      <td>AVENIDA DEPUTADO BENEDITO MATARAZZO</td>\n",
              "      <td>9183</td>\n",
              "      <td>JARDIM OSWALDO CRUZ</td>\n",
              "      <td>12216-580</td>\n",
              "      <td>GASOLINA ADITIVADA</td>\n",
              "      <td>2023-05-01</td>\n",
              "      <td>5.19</td>\n",
              "      <td>R$ / litro</td>\n",
              "      <td>VIBRA ENERGIA</td>\n",
              "      <td>NaN</td>\n",
              "      <td>NaN</td>\n",
              "      <td>NaN</td>\n",
              "    </tr>\n",
              "    <tr>\n",
              "      <th>...</th>\n",
              "      <td>...</td>\n",
              "      <td>...</td>\n",
              "      <td>...</td>\n",
              "      <td>...</td>\n",
              "      <td>...</td>\n",
              "      <td>...</td>\n",
              "      <td>...</td>\n",
              "      <td>...</td>\n",
              "      <td>...</td>\n",
              "      <td>...</td>\n",
              "      <td>...</td>\n",
              "      <td>...</td>\n",
              "      <td>...</td>\n",
              "      <td>...</td>\n",
              "      <td>...</td>\n",
              "      <td>...</td>\n",
              "      <td>...</td>\n",
              "    </tr>\n",
              "    <tr>\n",
              "      <th>107434</th>\n",
              "      <td>NE</td>\n",
              "      <td>CE</td>\n",
              "      <td>JUAZEIRO DO NORTE</td>\n",
              "      <td>ARAUJO PETROLEO LTDA</td>\n",
              "      <td>00.089.746/0002-02</td>\n",
              "      <td>AVENIDA CASTELO BRANCO</td>\n",
              "      <td>253</td>\n",
              "      <td>SANTA TERESA</td>\n",
              "      <td>63050-480</td>\n",
              "      <td>GASOLINA ADITIVADA</td>\n",
              "      <td>2023-06-30</td>\n",
              "      <td>5.37</td>\n",
              "      <td>R$ / litro</td>\n",
              "      <td>VIBRA ENERGIA</td>\n",
              "      <td>-0.02</td>\n",
              "      <td>5.39</td>\n",
              "      <td>-0.371058</td>\n",
              "    </tr>\n",
              "    <tr>\n",
              "      <th>107438</th>\n",
              "      <td>CO</td>\n",
              "      <td>GO</td>\n",
              "      <td>GOIANIA</td>\n",
              "      <td>POSTO MENDES LTDA</td>\n",
              "      <td>01.661.602/0001-52</td>\n",
              "      <td>AVENIDA C 17</td>\n",
              "      <td>660</td>\n",
              "      <td>SETOR SUDOESTE</td>\n",
              "      <td>74303-280</td>\n",
              "      <td>GASOLINA ADITIVADA</td>\n",
              "      <td>2023-06-30</td>\n",
              "      <td>5.77</td>\n",
              "      <td>R$ / litro</td>\n",
              "      <td>VIBRA ENERGIA</td>\n",
              "      <td>-0.15</td>\n",
              "      <td>5.92</td>\n",
              "      <td>-2.533784</td>\n",
              "    </tr>\n",
              "    <tr>\n",
              "      <th>107457</th>\n",
              "      <td>CO</td>\n",
              "      <td>GO</td>\n",
              "      <td>GOIANIA</td>\n",
              "      <td>J. C. COMERCIO DE DERIVADOS DE PETROLEO LTDA</td>\n",
              "      <td>04.023.489/0001-78</td>\n",
              "      <td>AVENIDA PERIMETRAL NORTE</td>\n",
              "      <td>S/N</td>\n",
              "      <td>FAZENDA CAVEIRAS</td>\n",
              "      <td>74000-000</td>\n",
              "      <td>GASOLINA ADITIVADA</td>\n",
              "      <td>2023-06-30</td>\n",
              "      <td>5.65</td>\n",
              "      <td>R$ / litro</td>\n",
              "      <td>BRANCA</td>\n",
              "      <td>0.36</td>\n",
              "      <td>5.29</td>\n",
              "      <td>6.805293</td>\n",
              "    </tr>\n",
              "    <tr>\n",
              "      <th>107460</th>\n",
              "      <td>CO</td>\n",
              "      <td>GO</td>\n",
              "      <td>GOIANIA</td>\n",
              "      <td>AUTO POSTO SOLIDEZ LTDA</td>\n",
              "      <td>03.175.793/0001-78</td>\n",
              "      <td>AVENIDA NAZARETH</td>\n",
              "      <td>680</td>\n",
              "      <td>JD GUANABARA</td>\n",
              "      <td>74675-610</td>\n",
              "      <td>GASOLINA ADITIVADA</td>\n",
              "      <td>2023-06-30</td>\n",
              "      <td>5.64</td>\n",
              "      <td>R$ / litro</td>\n",
              "      <td>ALESAT</td>\n",
              "      <td>-0.35</td>\n",
              "      <td>5.99</td>\n",
              "      <td>-5.843072</td>\n",
              "    </tr>\n",
              "    <tr>\n",
              "      <th>107480</th>\n",
              "      <td>NE</td>\n",
              "      <td>BA</td>\n",
              "      <td>CAMACARI</td>\n",
              "      <td>POSTO CAMAÇARI LTDA.</td>\n",
              "      <td>13.015.680/0001-69</td>\n",
              "      <td>AVENIDA RADIAL A</td>\n",
              "      <td>173/178</td>\n",
              "      <td>CENTRO</td>\n",
              "      <td>42800-000</td>\n",
              "      <td>GASOLINA ADITIVADA</td>\n",
              "      <td>2023-06-30</td>\n",
              "      <td>5.64</td>\n",
              "      <td>R$ / litro</td>\n",
              "      <td>BRANCA</td>\n",
              "      <td>-0.03</td>\n",
              "      <td>5.67</td>\n",
              "      <td>-0.529101</td>\n",
              "    </tr>\n",
              "  </tbody>\n",
              "</table>\n",
              "<p>31648 rows × 17 columns</p>\n",
              "</div>"
            ],
            "text/plain": [
              "       Regiao - Sigla Estado - Sigla            Municipio  \\\n",
              "1590               SE             SP  SAO JOSE DOS CAMPOS   \n",
              "1584               SE             SP  SAO JOSE DOS CAMPOS   \n",
              "1587               SE             SP  SAO JOSE DOS CAMPOS   \n",
              "1598               SE             SP           VOTORANTIM   \n",
              "1570               SE             SP  SAO JOSE DOS CAMPOS   \n",
              "...               ...            ...                  ...   \n",
              "107434             NE             CE    JUAZEIRO DO NORTE   \n",
              "107438             CO             GO              GOIANIA   \n",
              "107457             CO             GO              GOIANIA   \n",
              "107460             CO             GO              GOIANIA   \n",
              "107480             NE             BA             CAMACARI   \n",
              "\n",
              "                                             Revenda      CNPJ da Revenda  \\\n",
              "1590                          AUTO POSTO PERSEU LTDA   00.723.674/0001-14   \n",
              "1584              AUTO POSTO CHAPARRAL SAO JOSE LTDA   02.114.905/0001-18   \n",
              "1587                         AUTO POSTO DIACOV LTDA.   00.848.767/0001-75   \n",
              "1598                       AUTO POSTO VOTOSETE LTDA.   71.861.058/0001-78   \n",
              "1570                    POSTO SHOPPING VALE JCN LTDA   05.276.832/0001-59   \n",
              "...                                              ...                  ...   \n",
              "107434                          ARAUJO PETROLEO LTDA   00.089.746/0002-02   \n",
              "107438                             POSTO MENDES LTDA   01.661.602/0001-52   \n",
              "107457  J. C. COMERCIO DE DERIVADOS DE PETROLEO LTDA   04.023.489/0001-78   \n",
              "107460                       AUTO POSTO SOLIDEZ LTDA   03.175.793/0001-78   \n",
              "107480                          POSTO CAMAÇARI LTDA.   13.015.680/0001-69   \n",
              "\n",
              "                                Nome da Rua Numero Rua               Bairro  \\\n",
              "1590                     AVENIDA CASSIOPEIA       1024          JD SATELITE   \n",
              "1584                       AVENIDA SAO JOAO       2145         JARDIM APOLO   \n",
              "1587                    RODOVIA DOS TAMOIOS        S/N         PERNAMBUCANA   \n",
              "1598                    AVENIDA 31 DE MARCO         60               CENTRO   \n",
              "1570    AVENIDA DEPUTADO BENEDITO MATARAZZO       9183  JARDIM OSWALDO CRUZ   \n",
              "...                                     ...        ...                  ...   \n",
              "107434               AVENIDA CASTELO BRANCO        253         SANTA TERESA   \n",
              "107438                         AVENIDA C 17        660       SETOR SUDOESTE   \n",
              "107457             AVENIDA PERIMETRAL NORTE        S/N     FAZENDA CAVEIRAS   \n",
              "107460                     AVENIDA NAZARETH        680         JD GUANABARA   \n",
              "107480                     AVENIDA RADIAL A    173/178               CENTRO   \n",
              "\n",
              "              Cep             Produto Data da Coleta  Valor de Venda  \\\n",
              "1590    12230-010  GASOLINA ADITIVADA     2023-05-01            5.09   \n",
              "1584    12242-000  GASOLINA ADITIVADA     2023-05-01            5.49   \n",
              "1587    12228-845  GASOLINA ADITIVADA     2023-05-01            5.89   \n",
              "1598    18110-005  GASOLINA ADITIVADA     2023-05-01            6.00   \n",
              "1570    12216-580  GASOLINA ADITIVADA     2023-05-01            5.19   \n",
              "...           ...                 ...            ...             ...   \n",
              "107434  63050-480  GASOLINA ADITIVADA     2023-06-30            5.37   \n",
              "107438  74303-280  GASOLINA ADITIVADA     2023-06-30            5.77   \n",
              "107457  74000-000  GASOLINA ADITIVADA     2023-06-30            5.65   \n",
              "107460  74675-610  GASOLINA ADITIVADA     2023-06-30            5.64   \n",
              "107480  42800-000  GASOLINA ADITIVADA     2023-06-30            5.64   \n",
              "\n",
              "       Unidade de Medida       Bandeira  Variação Semanal  Valor Anterior  \\\n",
              "1590          R$ / litro         BRANCA               NaN             NaN   \n",
              "1584          R$ / litro       IPIRANGA               NaN             NaN   \n",
              "1587          R$ / litro         RAIZEN               NaN             NaN   \n",
              "1598          R$ / litro  VIBRA ENERGIA               NaN             NaN   \n",
              "1570          R$ / litro  VIBRA ENERGIA               NaN             NaN   \n",
              "...                  ...            ...               ...             ...   \n",
              "107434        R$ / litro  VIBRA ENERGIA             -0.02            5.39   \n",
              "107438        R$ / litro  VIBRA ENERGIA             -0.15            5.92   \n",
              "107457        R$ / litro         BRANCA              0.36            5.29   \n",
              "107460        R$ / litro         ALESAT             -0.35            5.99   \n",
              "107480        R$ / litro         BRANCA             -0.03            5.67   \n",
              "\n",
              "        Porcentagem de Variação  \n",
              "1590                        NaN  \n",
              "1584                        NaN  \n",
              "1587                        NaN  \n",
              "1598                        NaN  \n",
              "1570                        NaN  \n",
              "...                         ...  \n",
              "107434                -0.371058  \n",
              "107438                -2.533784  \n",
              "107457                 6.805293  \n",
              "107460                -5.843072  \n",
              "107480                -0.529101  \n",
              "\n",
              "[31648 rows x 17 columns]"
            ]
          },
          "execution_count": 115,
          "metadata": {},
          "output_type": "execute_result"
        }
      ],
      "source": [
        "gasolina_aditivada = combustiveis[(combustiveis['Produto'] == 'GASOLINA ADITIVADA') ]\n",
        "gasolina_aditivada"
      ]
    },
    {
      "cell_type": "markdown",
      "metadata": {
        "id": "phizhAotqm07"
      },
      "source": [
        "\n",
        "### <font color ='white' size=5>**3.4 Calculo do limites de outlier**</font>"
      ]
    },
    {
      "cell_type": "markdown",
      "metadata": {
        "id": "tckP90pXohki"
      },
      "source": [
        "#### <font color ='white' size=5>**3.4.1 Definindo um range para os outliers utilizando a Regra 1.5 IQR (Interquartile Range): Valores que estão abaixo de Q1 - 1.5 * IQR ou acima de Q3 + 1.5 * IQR, onde Q1 é o primeiro quartil e Q3 é o terceiro quartil.**</font>\n"
      ]
    },
    {
      "cell_type": "code",
      "execution_count": 37,
      "metadata": {
        "colab": {
          "base_uri": "https://localhost:8080/"
        },
        "id": "zd8wL_tDqAN0",
        "outputId": "e30f6507-dea4-43d9-d878-6d191c2f68b0"
      },
      "outputs": [
        {
          "data": {
            "text/html": [
              "<div>\n",
              "<style scoped>\n",
              "    .dataframe tbody tr th:only-of-type {\n",
              "        vertical-align: middle;\n",
              "    }\n",
              "\n",
              "    .dataframe tbody tr th {\n",
              "        vertical-align: top;\n",
              "    }\n",
              "\n",
              "    .dataframe thead th {\n",
              "        text-align: right;\n",
              "    }\n",
              "</style>\n",
              "<table border=\"1\" class=\"dataframe\">\n",
              "  <thead>\n",
              "    <tr style=\"text-align: right;\">\n",
              "      <th></th>\n",
              "      <th>Combustível</th>\n",
              "      <th>Primeiro Quartil</th>\n",
              "      <th>Terceiro Quartil</th>\n",
              "    </tr>\n",
              "  </thead>\n",
              "  <tbody>\n",
              "    <tr>\n",
              "      <th>0</th>\n",
              "      <td>Etanol</td>\n",
              "      <td>3.74</td>\n",
              "      <td>4.45</td>\n",
              "    </tr>\n",
              "    <tr>\n",
              "      <th>1</th>\n",
              "      <td>Gasolina</td>\n",
              "      <td>5.17</td>\n",
              "      <td>5.59</td>\n",
              "    </tr>\n",
              "    <tr>\n",
              "      <th>2</th>\n",
              "      <td>Gasolina Aditivada</td>\n",
              "      <td>5.32</td>\n",
              "      <td>5.79</td>\n",
              "    </tr>\n",
              "  </tbody>\n",
              "</table>\n",
              "</div>"
            ],
            "text/plain": [
              "          Combustível  Primeiro Quartil  Terceiro Quartil\n",
              "0              Etanol              3.74              4.45\n",
              "1            Gasolina              5.17              5.59\n",
              "2  Gasolina Aditivada              5.32              5.79"
            ]
          },
          "execution_count": 37,
          "metadata": {},
          "output_type": "execute_result"
        }
      ],
      "source": [
        "# Definindo os quartis para o etanol\n",
        "primeiro_quartil_etanol = etanol['Valor de Venda'].describe().loc['25%']\n",
        "terceiro_quartil_etanol = etanol['Valor de Venda'].describe().loc['75%']\n",
        "\n",
        "\n",
        "# Definindo os quartis para a gasolina\n",
        "primeiro_quartil_gasolina = gasolina['Valor de Venda'].describe().loc['25%']\n",
        "terceiro_quartil_gasolina = gasolina['Valor de Venda'].describe().loc['75%']\n",
        "\n",
        "# Definindo os quartis para o gasolina aditivada\n",
        "primeiro_quartil_aditivada = gasolina_aditivada['Valor de Venda'].describe().loc['25%']\n",
        "terceiro_quartil_aditivada = gasolina_aditivada['Valor de Venda'].describe().loc['75%']\n",
        "\n",
        "dados = {\n",
        "    'Combustível': ['Etanol', 'Gasolina', 'Gasolina Aditivada'],\n",
        "    'Primeiro Quartil': [primeiro_quartil_etanol, primeiro_quartil_gasolina, primeiro_quartil_aditivada],\n",
        "    'Terceiro Quartil': [terceiro_quartil_etanol, terceiro_quartil_gasolina, terceiro_quartil_aditivada]\n",
        "}\n",
        "\n",
        "# Criar o DataFrame\n",
        "df_quartis = pd.DataFrame(dados)\n",
        "\n",
        "df_quartis\n"
      ]
    },
    {
      "cell_type": "markdown",
      "metadata": {},
      "source": [
        "#### <font color ='white' size=5>**3.4.2 Definimos os limites inferiores e superioes de outliers**"
      ]
    },
    {
      "cell_type": "code",
      "execution_count": 94,
      "metadata": {
        "colab": {
          "base_uri": "https://localhost:8080/"
        },
        "id": "Xfh0VoNhqwGC",
        "outputId": "10f53bb5-9231-4f49-cc3b-bdb554d8e228"
      },
      "outputs": [
        {
          "data": {
            "text/html": [
              "<div>\n",
              "<style scoped>\n",
              "    .dataframe tbody tr th:only-of-type {\n",
              "        vertical-align: middle;\n",
              "    }\n",
              "\n",
              "    .dataframe tbody tr th {\n",
              "        vertical-align: top;\n",
              "    }\n",
              "\n",
              "    .dataframe thead th {\n",
              "        text-align: right;\n",
              "    }\n",
              "</style>\n",
              "<table border=\"1\" class=\"dataframe\">\n",
              "  <thead>\n",
              "    <tr style=\"text-align: right;\">\n",
              "      <th></th>\n",
              "      <th>Combustível</th>\n",
              "      <th>IQR</th>\n",
              "      <th>Limite Inferior</th>\n",
              "      <th>Limite Superior</th>\n",
              "    </tr>\n",
              "  </thead>\n",
              "  <tbody>\n",
              "    <tr>\n",
              "      <th>0</th>\n",
              "      <td>Etanol</td>\n",
              "      <td>0.71</td>\n",
              "      <td>2.675</td>\n",
              "      <td>5.515</td>\n",
              "    </tr>\n",
              "    <tr>\n",
              "      <th>1</th>\n",
              "      <td>Gasolina</td>\n",
              "      <td>0.42</td>\n",
              "      <td>4.540</td>\n",
              "      <td>6.220</td>\n",
              "    </tr>\n",
              "    <tr>\n",
              "      <th>2</th>\n",
              "      <td>Gasolina Aditivada</td>\n",
              "      <td>0.47</td>\n",
              "      <td>4.615</td>\n",
              "      <td>6.495</td>\n",
              "    </tr>\n",
              "  </tbody>\n",
              "</table>\n",
              "</div>"
            ],
            "text/plain": [
              "          Combustível   IQR  Limite Inferior  Limite Superior\n",
              "0              Etanol  0.71            2.675            5.515\n",
              "1            Gasolina  0.42            4.540            6.220\n",
              "2  Gasolina Aditivada  0.47            4.615            6.495"
            ]
          },
          "execution_count": 94,
          "metadata": {},
          "output_type": "execute_result"
        }
      ],
      "source": [
        "#Calculando o IQR e os limites para detecção de outliers\n",
        "\n",
        "# IQR = Q3 - Q1\n",
        "\n",
        "#Etanol\n",
        "IQR_etanol = terceiro_quartil_etanol - primeiro_quartil_etanol\n",
        "\n",
        "\n",
        "limite_outlier_inferior_etanol = (primeiro_quartil_etanol - (1.5 * IQR_etanol)).round(3)\n",
        "limite_outlier_superior_etanol = (terceiro_quartil_etanol + (1.5 * IQR_etanol)).round(3)\n",
        "\n",
        "#Gasolina\n",
        "IQR_gasolina = terceiro_quartil_gasolina - primeiro_quartil_gasolina\n",
        "\n",
        "limite_outlier_inferior_gasolina = (primeiro_quartil_gasolina - (1.5 * IQR_gasolina)).round(3)\n",
        "limite_outlier_superior_gasolina = (terceiro_quartil_gasolina + (1.5 * IQR_gasolina)).round(3)\n",
        "\n",
        "#Gasolina Aditivada\n",
        "IQR_gasolina_aditivada = terceiro_quartil_aditivada - primeiro_quartil_aditivada\n",
        "\n",
        "limite_outlier_inferior_aditivada = (primeiro_quartil_aditivada - (1.5 * IQR_gasolina_aditivada)).round(3)\n",
        "limite_outlier_superior_aditivada = (terceiro_quartil_aditivada + (1.5 * IQR_gasolina_aditivada)).round(3)\n",
        "\n",
        "\n",
        "\n",
        "dados = {\n",
        "    'Combustível': ['Etanol', 'Gasolina', 'Gasolina Aditivada'],\n",
        "    'IQR': [IQR_etanol, IQR_gasolina, IQR_gasolina_aditivada],\n",
        "    'Limite Inferior': [limite_outlier_inferior_etanol, limite_outlier_inferior_gasolina, limite_outlier_inferior_aditivada],\n",
        "    'Limite Superior': [limite_outlier_superior_etanol, limite_outlier_superior_gasolina, limite_outlier_superior_aditivada]\n",
        "}\n",
        "\n",
        "df_intervalos_outlier = pd.DataFrame(dados)\n",
        "\n",
        "df_intervalos_outlier"
      ]
    },
    {
      "cell_type": "markdown",
      "metadata": {
        "id": "IabrwlTqsi4H"
      },
      "source": [
        "- **Quantidade de  outlier abaixo dos limites definidos**"
      ]
    },
    {
      "cell_type": "code",
      "execution_count": 40,
      "metadata": {
        "colab": {
          "base_uri": "https://localhost:8080/"
        },
        "id": "cuCibTX0ssME",
        "outputId": "c310f9c3-78ec-4764-d923-4d83954f67bd"
      },
      "outputs": [
        {
          "data": {
            "text/html": [
              "<div>\n",
              "<style scoped>\n",
              "    .dataframe tbody tr th:only-of-type {\n",
              "        vertical-align: middle;\n",
              "    }\n",
              "\n",
              "    .dataframe tbody tr th {\n",
              "        vertical-align: top;\n",
              "    }\n",
              "\n",
              "    .dataframe thead th {\n",
              "        text-align: right;\n",
              "    }\n",
              "</style>\n",
              "<table border=\"1\" class=\"dataframe\">\n",
              "  <thead>\n",
              "    <tr style=\"text-align: right;\">\n",
              "      <th></th>\n",
              "      <th>Combustível</th>\n",
              "      <th>Outliers Abaixo</th>\n",
              "    </tr>\n",
              "  </thead>\n",
              "  <tbody>\n",
              "    <tr>\n",
              "      <th>0</th>\n",
              "      <td>Etanol</td>\n",
              "      <td>0</td>\n",
              "    </tr>\n",
              "    <tr>\n",
              "      <th>1</th>\n",
              "      <td>Gasolina</td>\n",
              "      <td>48</td>\n",
              "    </tr>\n",
              "    <tr>\n",
              "      <th>2</th>\n",
              "      <td>Gasolina Aditivada</td>\n",
              "      <td>10</td>\n",
              "    </tr>\n",
              "  </tbody>\n",
              "</table>\n",
              "</div>"
            ],
            "text/plain": [
              "          Combustível  Outliers Abaixo\n",
              "0              Etanol                0\n",
              "1            Gasolina               48\n",
              "2  Gasolina Aditivada               10"
            ]
          },
          "execution_count": 40,
          "metadata": {},
          "output_type": "execute_result"
        }
      ],
      "source": [
        "# Etanol\n",
        "outliers_abaixo_etanol = etanol['Valor de Venda'] < limite_outlier_inferior_etanol\n",
        "quantidade_outliers_abaixo_etanol = outliers_abaixo_etanol.sum()\n",
        "\n",
        "\n",
        "# Gasolina\n",
        "outliers_abaixo_gasolina = gasolina['Valor de Venda'] < limite_outlier_inferior_gasolina\n",
        "quantidade_outliers_abaixo_gasolina = outliers_abaixo_gasolina.sum()\n",
        "\n",
        "\n",
        "# Gasolina Aditivada\n",
        "outliers_abaixo_aditivada = gasolina_aditivada['Valor de Venda'] < limite_outlier_inferior_aditivada\n",
        "quantidade_outliers_abaixo_aditivada = outliers_abaixo_aditivada.sum()\n",
        "\n",
        "dados = {\n",
        "    'Combustível': ['Etanol', 'Gasolina', 'Gasolina Aditivada'],\n",
        "    'Outliers Abaixo': [quantidade_outliers_abaixo_etanol, quantidade_outliers_abaixo_gasolina, quantidade_outliers_abaixo_aditivada]\n",
        "}\n",
        "\n",
        "# Criar o DataFrame\n",
        "df_quantidade_outliers = pd.DataFrame(dados)\n",
        "\n",
        "df_quantidade_outliers"
      ]
    },
    {
      "cell_type": "markdown",
      "metadata": {},
      "source": [
        "- **Quantidade de outlier acima dos limites definidos**"
      ]
    },
    {
      "cell_type": "code",
      "execution_count": 95,
      "metadata": {},
      "outputs": [
        {
          "data": {
            "text/html": [
              "<div>\n",
              "<style scoped>\n",
              "    .dataframe tbody tr th:only-of-type {\n",
              "        vertical-align: middle;\n",
              "    }\n",
              "\n",
              "    .dataframe tbody tr th {\n",
              "        vertical-align: top;\n",
              "    }\n",
              "\n",
              "    .dataframe thead th {\n",
              "        text-align: right;\n",
              "    }\n",
              "</style>\n",
              "<table border=\"1\" class=\"dataframe\">\n",
              "  <thead>\n",
              "    <tr style=\"text-align: right;\">\n",
              "      <th></th>\n",
              "      <th>Combustível</th>\n",
              "      <th>Quantidade de Outliers Acima</th>\n",
              "    </tr>\n",
              "  </thead>\n",
              "  <tbody>\n",
              "    <tr>\n",
              "      <th>0</th>\n",
              "      <td>Etanol</td>\n",
              "      <td>146</td>\n",
              "    </tr>\n",
              "    <tr>\n",
              "      <th>1</th>\n",
              "      <td>Gasolina</td>\n",
              "      <td>841</td>\n",
              "    </tr>\n",
              "    <tr>\n",
              "      <th>2</th>\n",
              "      <td>Gasolina Aditivada</td>\n",
              "      <td>514</td>\n",
              "    </tr>\n",
              "  </tbody>\n",
              "</table>\n",
              "</div>"
            ],
            "text/plain": [
              "          Combustível  Quantidade de Outliers Acima\n",
              "0              Etanol                           146\n",
              "1            Gasolina                           841\n",
              "2  Gasolina Aditivada                           514"
            ]
          },
          "execution_count": 95,
          "metadata": {},
          "output_type": "execute_result"
        }
      ],
      "source": [
        "# Calcular a quantidade de outliers acima para o etanol\n",
        "outliers_acima_etanol = etanol['Valor de Venda'] > limite_outlier_superior_etanol\n",
        "quantidade_outliers_acima_etanol = outliers_acima_etanol.sum()\n",
        "\n",
        "# Calcular a quantidade de outliers acima para a gasolina\n",
        "outliers_acima_gasolina = gasolina['Valor de Venda'] > limite_outlier_superior_gasolina\n",
        "quantidade_outliers_acima_gasolina = outliers_acima_gasolina.sum()\n",
        "\n",
        "# Calcular a quantidade de outliers acima para a gasolina aditivada\n",
        "outliers_acima_aditivada = gasolina_aditivada['Valor de Venda'] > limite_outlier_superior_aditivada\n",
        "quantidade_outliers_acima_aditivada = outliers_acima_aditivada.sum()\n",
        "\n",
        "# Dados\n",
        "dados = {\n",
        "    'Combustível': ['Etanol', 'Gasolina', 'Gasolina Aditivada'],\n",
        "    'Quantidade de Outliers Acima': [quantidade_outliers_acima_etanol, quantidade_outliers_acima_gasolina, quantidade_outliers_acima_aditivada]\n",
        "}\n",
        "\n",
        "# Criar o DataFrame\n",
        "df_quantidade_outliers_acima = pd.DataFrame(dados)\n",
        "\n",
        "df_quantidade_outliers_acima"
      ]
    },
    {
      "cell_type": "markdown",
      "metadata": {},
      "source": [
        "- Podemos perceber que temos poucos valores abaixo dos limites, em contrapartida temos varios registros acima dos limites, Vamos calcular a porcentagem que esses valores representam para o dataframe "
      ]
    },
    {
      "cell_type": "code",
      "execution_count": 60,
      "metadata": {},
      "outputs": [
        {
          "data": {
            "text/html": [
              "<div>\n",
              "<style scoped>\n",
              "    .dataframe tbody tr th:only-of-type {\n",
              "        vertical-align: middle;\n",
              "    }\n",
              "\n",
              "    .dataframe tbody tr th {\n",
              "        vertical-align: top;\n",
              "    }\n",
              "\n",
              "    .dataframe thead th {\n",
              "        text-align: right;\n",
              "    }\n",
              "</style>\n",
              "<table border=\"1\" class=\"dataframe\">\n",
              "  <thead>\n",
              "    <tr style=\"text-align: right;\">\n",
              "      <th></th>\n",
              "      <th>Combustível</th>\n",
              "      <th>Porcentagem de Outliers Acima (%)</th>\n",
              "      <th>Porcentagem de Outliers Abaixo (%)</th>\n",
              "    </tr>\n",
              "  </thead>\n",
              "  <tbody>\n",
              "    <tr>\n",
              "      <th>0</th>\n",
              "      <td>Etanol</td>\n",
              "      <td>0.42</td>\n",
              "      <td>0.00</td>\n",
              "    </tr>\n",
              "    <tr>\n",
              "      <th>1</th>\n",
              "      <td>Gasolina</td>\n",
              "      <td>2.05</td>\n",
              "      <td>0.12</td>\n",
              "    </tr>\n",
              "    <tr>\n",
              "      <th>2</th>\n",
              "      <td>Gasolina Aditivada</td>\n",
              "      <td>1.62</td>\n",
              "      <td>0.03</td>\n",
              "    </tr>\n",
              "  </tbody>\n",
              "</table>\n",
              "</div>"
            ],
            "text/plain": [
              "          Combustível  Porcentagem de Outliers Acima (%)  \\\n",
              "0              Etanol                               0.42   \n",
              "1            Gasolina                               2.05   \n",
              "2  Gasolina Aditivada                               1.62   \n",
              "\n",
              "   Porcentagem de Outliers Abaixo (%)  \n",
              "0                                0.00  \n",
              "1                                0.12  \n",
              "2                                0.03  "
            ]
          },
          "execution_count": 60,
          "metadata": {},
          "output_type": "execute_result"
        }
      ],
      "source": [
        "# Porcentagem de outliers acima e abaixo da média para cada combustível\n",
        "\n",
        "# Etanol\n",
        "porcentagem_acima_etanol = (quantidade_outliers_acima_etanol / len(etanol)) * 100\n",
        "porcentagem_abaixo_etanol = (quantidade_outliers_abaixo_etanol / len(etanol)) * 100\n",
        "\n",
        "# Gasolina\n",
        "porcentagem_acima_gasolina = (quantidade_outliers_acima_gasolina / len(gasolina)) * 100\n",
        "porcentagem_abaixo_gasolina = (quantidade_outliers_abaixo_gasolina / len(gasolina)) * 100\n",
        "\n",
        "# Gasolina Aditivada\n",
        "porcentagem_acima_aditivada = (quantidade_outliers_acima_aditivada / len(gasolina_aditivada)) * 100\n",
        "porcentagem_abaixo_aditivada = (quantidade_outliers_abaixo_aditivada / len(gasolina_aditivada)) * 100\n",
        "\n",
        "# Dados\n",
        "dados = {\n",
        "    'Combustível': ['Etanol', 'Gasolina', 'Gasolina Aditivada'],\n",
        "    'Porcentagem de Outliers Acima (%)': [porcentagem_acima_etanol, porcentagem_acima_gasolina, porcentagem_acima_aditivada],\n",
        "    'Porcentagem de Outliers Abaixo (%)': [porcentagem_abaixo_etanol, porcentagem_abaixo_gasolina, porcentagem_abaixo_aditivada]\n",
        "}\n",
        "\n",
        "# Criar o DataFrame\n",
        "df_porcentagem_outliers = pd.DataFrame(dados)\n",
        "\n",
        "df_porcentagem_outliers.round(2)"
      ]
    },
    {
      "cell_type": "markdown",
      "metadata": {},
      "source": [
        "- **Os outliers representam pequenas porcentagens quando comparados aos seus dataframes, Vamos calcular a interferência que esse valores causam nos nosso dados, usaremos a `Gasolina` como exemplo por possuir a maior porcentagem**"
      ]
    },
    {
      "cell_type": "code",
      "execution_count": 98,
      "metadata": {},
      "outputs": [
        {
          "data": {
            "text/html": [
              "<div>\n",
              "<style scoped>\n",
              "    .dataframe tbody tr th:only-of-type {\n",
              "        vertical-align: middle;\n",
              "    }\n",
              "\n",
              "    .dataframe tbody tr th {\n",
              "        vertical-align: top;\n",
              "    }\n",
              "\n",
              "    .dataframe thead th {\n",
              "        text-align: right;\n",
              "    }\n",
              "</style>\n",
              "<table border=\"1\" class=\"dataframe\">\n",
              "  <thead>\n",
              "    <tr style=\"text-align: right;\">\n",
              "      <th></th>\n",
              "      <th>Métrica</th>\n",
              "      <th>Com Outliers</th>\n",
              "      <th>Sem Outliers</th>\n",
              "    </tr>\n",
              "  </thead>\n",
              "  <tbody>\n",
              "    <tr>\n",
              "      <th>0</th>\n",
              "      <td>Contagem</td>\n",
              "      <td>40948.00</td>\n",
              "      <td>40059.00</td>\n",
              "    </tr>\n",
              "    <tr>\n",
              "      <th>1</th>\n",
              "      <td>Média</td>\n",
              "      <td>5.40</td>\n",
              "      <td>5.37</td>\n",
              "    </tr>\n",
              "    <tr>\n",
              "      <th>2</th>\n",
              "      <td>Desvio Padrão</td>\n",
              "      <td>0.36</td>\n",
              "      <td>0.32</td>\n",
              "    </tr>\n",
              "    <tr>\n",
              "      <th>3</th>\n",
              "      <td>Mínimo</td>\n",
              "      <td>4.09</td>\n",
              "      <td>4.54</td>\n",
              "    </tr>\n",
              "    <tr>\n",
              "      <th>4</th>\n",
              "      <td>25%</td>\n",
              "      <td>5.17</td>\n",
              "      <td>5.16</td>\n",
              "    </tr>\n",
              "    <tr>\n",
              "      <th>5</th>\n",
              "      <td>50%</td>\n",
              "      <td>5.39</td>\n",
              "      <td>5.37</td>\n",
              "    </tr>\n",
              "    <tr>\n",
              "      <th>6</th>\n",
              "      <td>75%</td>\n",
              "      <td>5.59</td>\n",
              "      <td>5.59</td>\n",
              "    </tr>\n",
              "    <tr>\n",
              "      <th>7</th>\n",
              "      <td>Máximo</td>\n",
              "      <td>7.35</td>\n",
              "      <td>6.22</td>\n",
              "    </tr>\n",
              "  </tbody>\n",
              "</table>\n",
              "</div>"
            ],
            "text/plain": [
              "         Métrica  Com Outliers  Sem Outliers\n",
              "0       Contagem      40948.00      40059.00\n",
              "1          Média          5.40          5.37\n",
              "2  Desvio Padrão          0.36          0.32\n",
              "3         Mínimo          4.09          4.54\n",
              "4            25%          5.17          5.16\n",
              "5            50%          5.39          5.37\n",
              "6            75%          5.59          5.59\n",
              "7         Máximo          7.35          6.22"
            ]
          },
          "execution_count": 98,
          "metadata": {},
          "output_type": "execute_result"
        }
      ],
      "source": [
        "\n",
        "# Filtrar os dados da gasolina sem os outliers\n",
        "gasolina_sem_outliers = gasolina[(gasolina['Valor de Venda'] >= limite_outlier_inferior_gasolina) & (gasolina['Valor de Venda'] <= limite_outlier_superior_gasolina)]\n",
        "\n",
        "# Calcular o describe da gasolina com os outliers\n",
        "describe_gasolina_com_outliers = gasolina['Valor de Venda'].describe().round(2)\n",
        "\n",
        "# Calcular o describe da gasolina sem os outliers\n",
        "describe_gasolina_sem_outliers = gasolina_sem_outliers['Valor de Venda'].describe().round(2)\n",
        "\n",
        "dados = {\n",
        "    'Métrica': ['Contagem', 'Média', 'Desvio Padrão', 'Mínimo', '25%', '50%', '75%', 'Máximo'],\n",
        "    'Com Outliers': [describe_gasolina_com_outliers['count'], describe_gasolina_com_outliers['mean'], describe_gasolina_com_outliers['std'],\n",
        "                     describe_gasolina_com_outliers['min'], describe_gasolina_com_outliers['25%'], describe_gasolina_com_outliers['50%'],\n",
        "                     describe_gasolina_com_outliers['75%'], describe_gasolina_com_outliers['max']],\n",
        "    'Sem Outliers': [describe_gasolina_sem_outliers['count'], describe_gasolina_sem_outliers['mean'], describe_gasolina_sem_outliers['std'],\n",
        "                     describe_gasolina_sem_outliers['min'], describe_gasolina_sem_outliers['25%'], describe_gasolina_sem_outliers['50%'],\n",
        "                     describe_gasolina_sem_outliers['75%'], describe_gasolina_sem_outliers['max']]\n",
        "}\n",
        "\n",
        "df_comparacao = pd.DataFrame(dados)\n",
        "\n",
        "df_comparacao"
      ]
    },
    {
      "cell_type": "markdown",
      "metadata": {},
      "source": [
        "- **Podemos ver que os valores não mudam muito, Vamos calcular em porcentagem quanto os outliers interferem na nossa média**"
      ]
    },
    {
      "cell_type": "code",
      "execution_count": 69,
      "metadata": {},
      "outputs": [
        {
          "name": "stdout",
          "output_type": "stream",
          "text": [
            "A presença dos outliers interfere nos valores em 0.45%\n"
          ]
        }
      ],
      "source": [
        "# Média da gasolina com outliers\n",
        "media_com_outliers = describe_gasolina_com_outliers['mean']\n",
        "\n",
        "# Média da gasolina sem outliers\n",
        "media_sem_outliers = describe_gasolina_sem_outliers['mean']\n",
        "\n",
        "# Calcular a diferença percentual\n",
        "porcentagem_interferencia = ((media_com_outliers - media_sem_outliers) / media_sem_outliers) * 100\n",
        "\n",
        "print(f\"A presença dos outliers interfere nos valores em {porcentagem_interferencia:.2f}%\")\n"
      ]
    },
    {
      "cell_type": "markdown",
      "metadata": {},
      "source": [
        "- **Após os calculos de outliers indetificamos que a quantidade de outliers para cada combustivel representa uma pequna porcentagem do total de resgistros, a presença dos outliers representa uma alteração de 0,45% nas metricas da gasolina, o que não vai interferir significativamente nos nossos calculos.</font>**"
      ]
    },
    {
      "cell_type": "code",
      "execution_count": 41,
      "metadata": {
        "colab": {
          "base_uri": "https://localhost:8080/"
        },
        "id": "H2Z_bFlVsiSC",
        "outputId": "db7f2426-a9b6-4f01-947d-717c0c590352"
      },
      "outputs": [
        {
          "data": {
            "text/plain": [
              "146"
            ]
          },
          "execution_count": 41,
          "metadata": {},
          "output_type": "execute_result"
        }
      ],
      "source": [
        "outliers_acima_etanol = etanol['Valor de Venda']>limite_outlier_superior_etanol\n",
        "quantidade_outliers_acima_etanol=outliers_acima_etanol.sum()\n",
        "quantidade_outliers_acima_etanol"
      ]
    },
    {
      "cell_type": "markdown",
      "metadata": {},
      "source": [
        "- **Vamos usar um boxplot para uma visualização melhor.**"
      ]
    },
    {
      "cell_type": "code",
      "execution_count": 81,
      "metadata": {},
      "outputs": [
        {
          "data": {
            "image/png": "[encoded data removed]",
            "text/plain": [
              "<Figure size 1500x1000 with 1 Axes>"
            ]
          },
          "metadata": {},
          "output_type": "display_data"
        }
      ],
      "source": [
        "import matplotlib.pyplot as plt\n",
        "\n",
        "# Dados\n",
        "dados = [etanol['Valor de Venda'], gasolina['Valor de Venda'], gasolina_aditivada['Valor de Venda']]\n",
        "nomes_combustiveis = ['Etanol', 'Gasolina', 'Gasolina Aditivada']\n",
        "\n",
        "# Tamanho da figura\n",
        "plt.figure(figsize=(15, 10))\n",
        "\n",
        "# Criação do boxplot com outliers\n",
        "plt.boxplot(dados, vert=True, labels=nomes_combustiveis, showfliers=True)  # vert=False para um boxplot horizontal\n",
        "\n",
        "# Título e rótulos\n",
        "plt.title('Boxplot do Valor de Venda dos Combustíveis')\n",
        "plt.xlabel('Combustível')\n",
        "plt.ylabel('Valor de Venda')\n",
        "\n",
        "# Mostrar o gráfico\n",
        "plt.show()"
      ]
    },
    {
      "cell_type": "markdown",
      "metadata": {},
      "source": [
        "- Para confirmar, podemos ver que `99% ` dos valores da gasolina estão proximos ao limite superior do outlier"
      ]
    },
    {
      "cell_type": "code",
      "execution_count": 89,
      "metadata": {
        "colab": {
          "base_uri": "https://localhost:8080/"
        },
        "id": "RaBrsGRjZRYM",
        "outputId": "ba2d70a8-1d6f-48e7-f752-7c18e82c03d1"
      },
      "outputs": [
        {
          "data": {
            "text/html": [
              "<div>\n",
              "<style scoped>\n",
              "    .dataframe tbody tr th:only-of-type {\n",
              "        vertical-align: middle;\n",
              "    }\n",
              "\n",
              "    .dataframe tbody tr th {\n",
              "        vertical-align: top;\n",
              "    }\n",
              "\n",
              "    .dataframe thead th {\n",
              "        text-align: right;\n",
              "    }\n",
              "</style>\n",
              "<table border=\"1\" class=\"dataframe\">\n",
              "  <thead>\n",
              "    <tr style=\"text-align: right;\">\n",
              "      <th></th>\n",
              "      <th>Combustível</th>\n",
              "      <th>99%</th>\n",
              "      <th>limite superior</th>\n",
              "    </tr>\n",
              "  </thead>\n",
              "  <tbody>\n",
              "    <tr>\n",
              "      <th>0</th>\n",
              "      <td>Gasolina</td>\n",
              "      <td>6.59</td>\n",
              "      <td>6.22</td>\n",
              "    </tr>\n",
              "  </tbody>\n",
              "</table>\n",
              "</div>"
            ],
            "text/plain": [
              "  Combustível   99%  limite superior\n",
              "0    Gasolina  6.59             6.22"
            ]
          },
          "execution_count": 89,
          "metadata": {},
          "output_type": "execute_result"
        }
      ],
      "source": [
        "quantile = gasolina['Valor de Venda'].quantile(.99)\n",
        "dados ={\n",
        "    'Combustível': 'Gasolina',\n",
        "    '99%': quantile,\n",
        "    'limite superior': limite_outlier_superior_gasolina,\n",
        "}\n",
        "df_quantile_limite = pd.DataFrame(dados, index=[0])\n",
        "df_quantile_limite"
      ]
    },
    {
      "cell_type": "markdown",
      "metadata": {},
      "source": [
        "## **<font color ='gold' size=5>4 Perguntas</font>**"
      ]
    },
    {
      "cell_type": "markdown",
      "metadata": {},
      "source": [
        "### **1. Como se comportaram o preço dos combustíveis durante os dois meses citados? Os valores do etanol e da gasolina tiveram uma tendência de queda ou diminuição?**"
      ]
    },
    {
      "cell_type": "code",
      "execution_count": 116,
      "metadata": {},
      "outputs": [
        {
          "data": {
            "image/png": "[encoded data removed]",
            "text/plain": [
              "<Figure size 1600x800 with 1 Axes>"
            ]
          },
          "metadata": {},
          "output_type": "display_data"
        }
      ],
      "source": [
        "# Plotar os preços da gasolina,etanol e gasolina aditivada ao longo dos dois meses\n",
        "\n",
        "plt.figure(figsize=(16,8))\n",
        "sns.lineplot(data=etanol, x='Data da Coleta', y='Valor de Venda', marker='o', label='Etanol')\n",
        "sns.lineplot(data=gasolina, x='Data da Coleta', y='Valor de Venda', marker='o', color='orange', label='Gasolina')\n",
        "sns.lineplot(data=gasolina_aditivada, x='Data da Coleta', y='Valor de Venda', marker='o', color='green', label='Gasolina Aditivada')\n",
        "plt.xlabel('Data')\n",
        "plt.ylabel('Preço de Venda')\n",
        "plt.title('Variação do Preço do Etanol e da Gasolina')\n",
        "plt.xticks(rotation=45)\n",
        "plt.legend()\n",
        "plt.tight_layout()\n",
        "plt.show()"
      ]
    },
    {
      "cell_type": "markdown",
      "metadata": {},
      "source": [
        "### **2. Qual o preço médio da gasolina e do etanol nesses dois meses?**\n"
      ]
    },
    {
      "cell_type": "code",
      "execution_count": 157,
      "metadata": {},
      "outputs": [],
      "source": [
        "# Preço medio da gasolina no mes de Maio\n",
        "\n",
        "gasolina_maio = gasolina[gasolina['Data da Coleta'].dt.month == 5]['Valor de Venda'].mean() \n",
        "\n",
        "# Preço medio da gasolina no mes de Junho\n",
        "\n",
        "gasolina_junho = gasolina[gasolina['Data da Coleta'].dt.month == 6]['Valor de Venda'].mean()\n",
        "\n",
        "# Preço medio do Etaanol no mes de Maio\n",
        "\n",
        "etanol_maio = etanol[etanol['Data da Coleta'].dt.month == 5]['Valor de Venda'].mean()\n",
        "\n",
        "\n",
        "# Preço medio do Etaanol no mes de Junho\n",
        "\n",
        "etanol_junho = etanol[etanol['Data da Coleta'].dt.month == 6]['Valor de Venda'].mean()\n",
        "\n",
        "# Preço medio da gasolina aditivada no mes de Maio\n",
        "\n",
        "gasolina_aditivada_maio = gasolina_aditivada[gasolina_aditivada['Data da Coleta'].dt.month == 5]['Valor de Venda'].mean()\n",
        "\n",
        "# Preço medio da gasolina aditivada no mes de Junho\n",
        "\n",
        "gasolina_aditivada_junho = gasolina_aditivada[gasolina_aditivada['Data da Coleta'].dt.month == 6]['Valor de Venda'].mean()"
      ]
    },
    {
      "cell_type": "code",
      "execution_count": 158,
      "metadata": {},
      "outputs": [
        {
          "data": {
            "text/html": [
              "<div>\n",
              "<style scoped>\n",
              "    .dataframe tbody tr th:only-of-type {\n",
              "        vertical-align: middle;\n",
              "    }\n",
              "\n",
              "    .dataframe tbody tr th {\n",
              "        vertical-align: top;\n",
              "    }\n",
              "\n",
              "    .dataframe thead th {\n",
              "        text-align: right;\n",
              "    }\n",
              "</style>\n",
              "<table border=\"1\" class=\"dataframe\">\n",
              "  <thead>\n",
              "    <tr style=\"text-align: right;\">\n",
              "      <th></th>\n",
              "      <th>Combustível</th>\n",
              "      <th>Maio</th>\n",
              "      <th>Junho</th>\n",
              "    </tr>\n",
              "  </thead>\n",
              "  <tbody>\n",
              "    <tr>\n",
              "      <th>0</th>\n",
              "      <td>Gasolina</td>\n",
              "      <td>5.40</td>\n",
              "      <td>5.39</td>\n",
              "    </tr>\n",
              "    <tr>\n",
              "      <th>1</th>\n",
              "      <td>Etanol</td>\n",
              "      <td>4.18</td>\n",
              "      <td>4.01</td>\n",
              "    </tr>\n",
              "    <tr>\n",
              "      <th>2</th>\n",
              "      <td>Gasolina Aditivada</td>\n",
              "      <td>5.59</td>\n",
              "      <td>5.57</td>\n",
              "    </tr>\n",
              "  </tbody>\n",
              "</table>\n",
              "</div>"
            ],
            "text/plain": [
              "          Combustível  Maio  Junho\n",
              "0            Gasolina  5.40   5.39\n",
              "1              Etanol  4.18   4.01\n",
              "2  Gasolina Aditivada  5.59   5.57"
            ]
          },
          "execution_count": 158,
          "metadata": {},
          "output_type": "execute_result"
        }
      ],
      "source": [
        "data = {\n",
        "    'Combustível': ['Gasolina', 'Etanol', 'Gasolina Aditivada'],\n",
        "    'Maio': [gasolina_maio, etanol_maio, gasolina_aditivada_maio],\n",
        "    'Junho': [gasolina_junho, etanol_junho, gasolina_aditivada_junho]\n",
        "}\n",
        "\n",
        "df_precos_medios = pd.DataFrame(data)\n",
        "df_precos_medios.round(2)"
      ]
    },
    {
      "cell_type": "code",
      "execution_count": 159,
      "metadata": {},
      "outputs": [
        {
          "data": {
            "image/png": "[encoded data removed]",
            "text/plain": [
              "<Figure size 1000x600 with 1 Axes>"
            ]
          },
          "metadata": {},
          "output_type": "display_data"
        }
      ],
      "source": [
        "import matplotlib.pyplot as plt\n",
        "\n",
        "# Dados\n",
        "combustiveis = ['Gasolina', 'Etanol', 'Gasolina Aditivada']\n",
        "precos_maio = [gasolina_maio, etanol_maio, gasolina_aditivada_maio]\n",
        "precos_junho = [gasolina_junho, etanol_junho, gasolina_aditivada_junho]\n",
        "\n",
        "# Configurar os valores das barras\n",
        "bar_width = 0.4\n",
        "r1 = range(len(combustiveis))\n",
        "r2 = [x + bar_width for x in r1]\n",
        "\n",
        "# Criar o gráfico de barras\n",
        "plt.figure(figsize=(10, 6))\n",
        "plt.bar(r1, precos_maio, width=bar_width, label='Maio', color='blue')\n",
        "plt.bar(r2, precos_junho, width=bar_width, label='Junho', color='orange')\n",
        "\n",
        "# Adicionar rótulos e título\n",
        "plt.xlabel('Combustível')\n",
        "plt.ylabel('Preço Médio')\n",
        "plt.title('Preço Médio dos Combustíveis nos Meses de Maio e Junho')\n",
        "plt.xticks([r + bar_width/2 for r in range(len(combustiveis))], combustiveis)\n",
        "plt.legend()\n",
        "\n",
        "# Adicionar valores acima das barras\n",
        "for i, v in enumerate(precos_maio):\n",
        "    plt.text(i, v + 0.05, f'R$ {v:.2f}', ha='center', color='black')\n",
        "\n",
        "for i, v in enumerate(precos_junho):\n",
        "    plt.text(i + bar_width, v + 0.05, f'R$ {v:.2f}', ha='center', color='black')\n",
        "\n",
        "# Mostrar o gráfico\n",
        "plt.tight_layout()\n",
        "plt.show()\n"
      ]
    },
    {
      "cell_type": "markdown",
      "metadata": {},
      "source": [
        "### **3. Quais os 5 estados com o preço médio da gasolina e do etanol mais caros?**"
      ]
    },
    {
      "cell_type": "markdown",
      "metadata": {},
      "source": [
        "- Vamos levar em consideração os 2 meses que estamos analisando "
      ]
    },
    {
      "cell_type": "code",
      "execution_count": 161,
      "metadata": {},
      "outputs": [
        {
          "data": {
            "text/html": [
              "<div>\n",
              "<style scoped>\n",
              "    .dataframe tbody tr th:only-of-type {\n",
              "        vertical-align: middle;\n",
              "    }\n",
              "\n",
              "    .dataframe tbody tr th {\n",
              "        vertical-align: top;\n",
              "    }\n",
              "\n",
              "    .dataframe thead th {\n",
              "        text-align: right;\n",
              "    }\n",
              "</style>\n",
              "<table border=\"1\" class=\"dataframe\">\n",
              "  <thead>\n",
              "    <tr style=\"text-align: right;\">\n",
              "      <th></th>\n",
              "      <th>Gasolina</th>\n",
              "      <th>Etanol</th>\n",
              "      <th>Aditivada</th>\n",
              "    </tr>\n",
              "    <tr>\n",
              "      <th>Estado - Sigla</th>\n",
              "      <th></th>\n",
              "      <th></th>\n",
              "      <th></th>\n",
              "    </tr>\n",
              "  </thead>\n",
              "  <tbody>\n",
              "    <tr>\n",
              "      <th>AM</th>\n",
              "      <td>6.36</td>\n",
              "      <td>4.60</td>\n",
              "      <td>6.34</td>\n",
              "    </tr>\n",
              "    <tr>\n",
              "      <th>AC</th>\n",
              "      <td>6.12</td>\n",
              "      <td>4.78</td>\n",
              "      <td>6.15</td>\n",
              "    </tr>\n",
              "    <tr>\n",
              "      <th>RO</th>\n",
              "      <td>5.90</td>\n",
              "      <td>4.95</td>\n",
              "      <td>5.97</td>\n",
              "    </tr>\n",
              "    <tr>\n",
              "      <th>RR</th>\n",
              "      <td>5.86</td>\n",
              "      <td>5.05</td>\n",
              "      <td>5.93</td>\n",
              "    </tr>\n",
              "    <tr>\n",
              "      <th>AL</th>\n",
              "      <td>5.67</td>\n",
              "      <td>4.53</td>\n",
              "      <td>5.81</td>\n",
              "    </tr>\n",
              "  </tbody>\n",
              "</table>\n",
              "</div>"
            ],
            "text/plain": [
              "                Gasolina  Etanol  Aditivada\n",
              "Estado - Sigla                             \n",
              "AM                  6.36    4.60       6.34\n",
              "AC                  6.12    4.78       6.15\n",
              "RO                  5.90    4.95       5.97\n",
              "RR                  5.86    5.05       5.93\n",
              "AL                  5.67    4.53       5.81"
            ]
          },
          "execution_count": 161,
          "metadata": {},
          "output_type": "execute_result"
        }
      ],
      "source": [
        "import pandas as pd\n",
        "\n",
        "# Calcular os preços médios por estado para gasolina, etanol e gasolina aditivada\n",
        "gasolina_estados = gasolina.groupby('Estado - Sigla')['Valor de Venda'].mean()\n",
        "etanol_estados = etanol.groupby('Estado - Sigla')['Valor de Venda'].mean()\n",
        "gasolina_aditivada_estados = gasolina_aditivada.groupby('Estado - Sigla')['Valor de Venda'].mean()\n",
        "\n",
        "# Criar um DataFrame com os preços médios por estado\n",
        "df_precos_medios = pd.DataFrame({\n",
        "    'Gasolina': gasolina_estados,\n",
        "    'Etanol': etanol_estados,\n",
        "    'Aditivada': gasolina_aditivada_estados\n",
        "})\n",
        "\n",
        "# Ordenar o DataFrame em ordem decrescente com base nos preços médios de gasolina\n",
        "df_precos_medios = df_precos_medios.sort_values(by='Gasolina', ascending=False)\n",
        "\n",
        "# Selecionar os 5 primeiros estados\n",
        "top5_estados = df_precos_medios\n",
        "# Imprimir o DataFrame com os preços médios dos 5 estados mais caros\n",
        "top5_estados.head().round(2)\n",
        "\n"
      ]
    },
    {
      "cell_type": "markdown",
      "metadata": {},
      "source": [
        "## teste"
      ]
    },
    {
      "cell_type": "code",
      "execution_count": 129,
      "metadata": {},
      "outputs": [
        {
          "data": {
            "image/png": "[encoded data removed]",
            "text/plain": [
              "<Figure size 800x600 with 1 Axes>"
            ]
          },
          "metadata": {},
          "output_type": "display_data"
        },
        {
          "name": "stdout",
          "output_type": "stream",
          "text": [
            "Coeficiente de Correlação: nan\n"
          ]
        }
      ],
      "source": [
        "# Filtrar os dados apenas para 'GASOLINA' e 'GASOLINA ADITIVADA'\n",
        "df_gasolina = combustiveis[combustiveis['Produto'] == 'GASOLINA'].sample(20000)\n",
        "df_gasolina_aditivada = combustiveis[combustiveis['Produto'] == 'ETANOL'].sample(20000)\n",
        "\n",
        "# Plotar o scatter plot com linha de tendência\n",
        "plt.figure(figsize=(8, 6))\n",
        "sns.regplot(x='Valor de Venda', y='Valor de Venda', data=df_gasolina, scatter_kws={'s': 10}, label='Gasolina')\n",
        "sns.regplot(x='Valor de Venda', y='Valor de Venda', data=df_gasolina_aditivada, scatter_kws={'s': 10}, label='Gasolina Aditivada')\n",
        "plt.title('Correlação entre Gasolina e Gasolina Aditivada')\n",
        "plt.xlabel('Valor de Venda - Gasolina')\n",
        "plt.ylabel('Valor de Venda - Gasolina Aditivada')\n",
        "plt.legend()\n",
        "plt.grid(True)\n",
        "plt.show()\n",
        "\n",
        "# Calcular a correlação\n",
        "correlation = df_gasolina['Valor de Venda'].corr(df_gasolina_aditivada['Valor de Venda'])\n",
        "print(\"Coeficiente de Correlação:\", correlation)\n",
        "\n",
        "\n"
      ]
    },
    {
      "cell_type": "code",
      "execution_count": 20,
      "metadata": {
        "colab": {
          "base_uri": "https://localhost:8080/",
          "height": 476
        },
        "id": "B8uDuPcZZ12o",
        "outputId": "cba2c7a5-f647-4513-e563-e6532ac176b6"
      },
      "outputs": [
        {
          "data": {
            "image/png": "[encoded data removed]",
            "text/plain": [
              "<Figure size 640x480 with 1 Axes>"
            ]
          },
          "metadata": {},
          "output_type": "display_data"
        }
      ],
      "source": [
        "sns.histplot(data=combustiveis['Valor de Venda'], kde=True, binwidth=0.2)\n",
        "\n",
        "plt.title('Histograma da Coluna \"Valor de Venda\"', fontsize=12, fontweight='bold')\n",
        "plt.ylabel('Num. Registros', fontsize=12, fontweight='bold')\n",
        "plt.xlabel('Valor de Venda (R$)', fontsize=12, fontweight='bold')\n",
        "plt.show()"
      ]
    }
  ],
  "metadata": {
    "colab": {
      "provenance": []
    },
    "kernelspec": {
      "display_name": "Python 3",
      "name": "python3"
    },
    "language_info": {
      "codemirror_mode": {
        "name": "ipython",
        "version": 3
      },
      "file_extension": ".py",
      "mimetype": "text/x-python",
      "name": "python",
      "nbconvert_exporter": "python",
      "pygments_lexer": "ipython3",
      "version": "3.11.4"
    }
  },
  "nbformat": 4,
  "nbformat_minor": 0
}
